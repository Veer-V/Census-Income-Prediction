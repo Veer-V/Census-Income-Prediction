{
 "cells": [
  {
   "cell_type": "code",
   "execution_count": 2,
   "id": "020f42cd-b6d3-43db-9e35-d159a00267c4",
   "metadata": {},
   "outputs": [
    {
     "name": "stdout",
     "output_type": "stream",
     "text": [
      "WARNING:tensorflow:From C:\\Users\\Osama\\AppData\\Roaming\\Python\\Python310\\site-packages\\keras\\src\\losses.py:2976: The name tf.losses.sparse_softmax_cross_entropy is deprecated. Please use tf.compat.v1.losses.sparse_softmax_cross_entropy instead.\n",
      "\n"
     ]
    }
   ],
   "source": [
    "import tensorflow as tf\n",
    "import pandas as pd"
   ]
  },
  {
   "cell_type": "code",
   "execution_count": 3,
   "id": "1246a807-e90e-41c4-837b-d003f4c38182",
   "metadata": {},
   "outputs": [],
   "source": [
    "PATH = \"https://archive.ics.uci.edu/ml/machine-learning-databases/adult/adult.data\"\n",
    "PATH_test = \"https://archive.ics.uci.edu/ml/machine-learning-databases/adult/adult.test\""
   ]
  },
  {
   "cell_type": "code",
   "execution_count": 4,
   "id": "2d67503e-306a-4b39-84bf-30bc12075220",
   "metadata": {},
   "outputs": [],
   "source": [
    "COLUMNS = [\n",
    "    'age', 'workclass', 'fnlwgt', 'education', 'education_num',\n",
    "    'marital_status', 'occupation', 'relationship', 'race', 'sex',\n",
    "    'capital_gain', 'capital_loss', 'hours_per_week', 'native_country', 'income'\n",
    "]"
   ]
  },
  {
   "cell_type": "code",
   "execution_count": 5,
   "id": "a9a6f337-7fae-4da5-a893-85c8277f51c7",
   "metadata": {},
   "outputs": [],
   "source": [
    "# Load training data\n",
    "train_data = pd.read_csv(PATH, names=COLUMNS, skipinitialspace=True)\n",
    "\n",
    "# Load test data (skip first row as it’s a header/comment)\n",
    "test_data = pd.read_csv(PATH_test, names=COLUMNS, skiprows=1, skipinitialspace=True)"
   ]
  },
  {
   "cell_type": "code",
   "execution_count": 6,
   "id": "8c4cfee8-0308-4152-aeb6-51d648d6af47",
   "metadata": {},
   "outputs": [
    {
     "name": "stdout",
     "output_type": "stream",
     "text": [
      "(32561, 15) (16281, 15)\n"
     ]
    }
   ],
   "source": [
    "print(train_data.shape, test_data.shape)"
   ]
  },
  {
   "cell_type": "code",
   "execution_count": 7,
   "id": "0ff0283a-8c19-4f91-9b66-21212e64d9cc",
   "metadata": {},
   "outputs": [
    {
     "name": "stdout",
     "output_type": "stream",
     "text": [
      "age                int64\n",
      "workclass         object\n",
      "fnlwgt             int64\n",
      "education         object\n",
      "education_num      int64\n",
      "marital_status    object\n",
      "occupation        object\n",
      "relationship      object\n",
      "race              object\n",
      "sex               object\n",
      "capital_gain       int64\n",
      "capital_loss       int64\n",
      "hours_per_week     int64\n",
      "native_country    object\n",
      "income            object\n",
      "dtype: object\n"
     ]
    }
   ],
   "source": [
    "print(train_data.dtypes)"
   ]
  },
  {
   "cell_type": "code",
   "execution_count": 8,
   "id": "35828ea3-2f00-4916-9a7b-5661f0b08a29",
   "metadata": {},
   "outputs": [],
   "source": [
    "label = {'<=50K': 0, '>50K': 1}\n",
    "train_data['income'] = [label[item] for item in train_data['income']]\n",
    "\n",
    "label_t = {'<=50K.': 0, '>50K.': 1}\n",
    "test_data['income'] = [label_t[item] for item in test_data['income']]\n"
   ]
  },
  {
   "cell_type": "code",
   "execution_count": 9,
   "id": "d612bb05-b809-4fb6-a363-2ca283893133",
   "metadata": {},
   "outputs": [
    {
     "name": "stdout",
     "output_type": "stream",
     "text": [
      "income\n",
      "0    24720\n",
      "1     7841\n",
      "Name: count, dtype: int64\n",
      "income\n",
      "0    12435\n",
      "1     3846\n",
      "Name: count, dtype: int64\n"
     ]
    }
   ],
   "source": [
    "print(train_data['income'].value_counts())\n",
    "print(test_data['income'].value_counts())"
   ]
  },
  {
   "cell_type": "code",
   "execution_count": 10,
   "id": "466d2759-4780-4d6f-b7d7-bd8a31c0629d",
   "metadata": {},
   "outputs": [
    {
     "name": "stdout",
     "output_type": "stream",
     "text": [
      "age                int64\n",
      "workclass         object\n",
      "fnlwgt             int64\n",
      "education         object\n",
      "education_num      int64\n",
      "marital_status    object\n",
      "occupation        object\n",
      "relationship      object\n",
      "race              object\n",
      "sex               object\n",
      "capital_gain       int64\n",
      "capital_loss       int64\n",
      "hours_per_week     int64\n",
      "native_country    object\n",
      "income             int64\n",
      "dtype: object\n"
     ]
    }
   ],
   "source": [
    "print(train_data.dtypes)"
   ]
  },
  {
   "cell_type": "code",
   "execution_count": 11,
   "id": "e53be63c-f65e-4341-bd8e-c0eaab699248",
   "metadata": {},
   "outputs": [],
   "source": [
    "CONTI_FEATURES = [\n",
    "    'age', 'fnlwgt', 'education_num', 'capital_gain', 'capital_loss', 'hours_per_week'\n",
    "]\n",
    "CATE_FEATURES = [\n",
    "    'workclass', 'education', 'marital_status', 'occupation',\n",
    "    'relationship', 'race', 'sex', 'native_country'\n",
    "]\n"
   ]
  },
  {
   "cell_type": "code",
   "execution_count": 12,
   "id": "838a8e5f-28f1-4ec1-8f84-c25b2e03b085",
   "metadata": {},
   "outputs": [
    {
     "name": "stdout",
     "output_type": "stream",
     "text": [
      "WARNING:tensorflow:From C:\\Users\\Osama\\AppData\\Local\\Temp\\ipykernel_27544\\2602818114.py:1: numeric_column (from tensorflow.python.feature_column.feature_column_v2) is deprecated and will be removed in a future version.\n",
      "Instructions for updating:\n",
      "Use Keras preprocessing layers instead, either directly or via the `tf.keras.utils.FeatureSpace` utility. Each of `tf.feature_column.*` has a functional equivalent in `tf.keras.layers` for feature preprocessing when training a Keras model.\n"
     ]
    }
   ],
   "source": [
    "continous_features = [tf.feature_column.numeric_column(k) for k in CONTI_FEATURES]"
   ]
  },
  {
   "cell_type": "code",
   "execution_count": 13,
   "id": "49ce397d-184a-4e56-b683-c1da09df44eb",
   "metadata": {},
   "outputs": [
    {
     "name": "stdout",
     "output_type": "stream",
     "text": [
      "WARNING:tensorflow:From C:\\Users\\Osama\\AppData\\Local\\Temp\\ipykernel_27544\\1818104123.py:1: categorical_column_with_vocabulary_list (from tensorflow.python.feature_column.feature_column_v2) is deprecated and will be removed in a future version.\n",
      "Instructions for updating:\n",
      "Use Keras preprocessing layers instead, either directly or via the `tf.keras.utils.FeatureSpace` utility. Each of `tf.feature_column.*` has a functional equivalent in `tf.keras.layers` for feature preprocessing when training a Keras model.\n"
     ]
    }
   ],
   "source": [
    "relationship = tf.feature_column.categorical_column_with_vocabulary_list(\n",
    "    'relationship', ['Husband', 'Not-in-family', 'Wife', 'Own-child', 'Unmarried', 'Other-relative']\n",
    ")\n"
   ]
  },
  {
   "cell_type": "code",
   "execution_count": 14,
   "id": "e8cb5928-2dd3-439a-aab7-a939b213d2f3",
   "metadata": {},
   "outputs": [
    {
     "name": "stdout",
     "output_type": "stream",
     "text": [
      "WARNING:tensorflow:From C:\\Users\\Osama\\AppData\\Local\\Temp\\ipykernel_27544\\2388509127.py:1: categorical_column_with_hash_bucket (from tensorflow.python.feature_column.feature_column_v2) is deprecated and will be removed in a future version.\n",
      "Instructions for updating:\n",
      "Use Keras preprocessing layers instead, either directly or via the `tf.keras.utils.FeatureSpace` utility. Each of `tf.feature_column.*` has a functional equivalent in `tf.keras.layers` for feature preprocessing when training a Keras model.\n"
     ]
    }
   ],
   "source": [
    "categorical_features = [tf.feature_column.categorical_column_with_hash_bucket(k, hash_bucket_size=1000) for k in CATE_FEATURES]\n"
   ]
  },
  {
   "cell_type": "code",
   "execution_count": 15,
   "id": "a568a630-7d5a-4eaa-9857-983b70afd7d1",
   "metadata": {},
   "outputs": [
    {
     "name": "stdout",
     "output_type": "stream",
     "text": [
      "Defaulting to user installation because normal site-packages is not writeable\n",
      "Requirement already satisfied: tensorflow-estimator in c:\\users\\osama\\appdata\\roaming\\python\\python310\\site-packages (2.15.0)\n",
      "Note: you may need to restart the kernel to use updated packages.\n"
     ]
    },
    {
     "name": "stderr",
     "output_type": "stream",
     "text": [
      "\n",
      "[notice] A new release of pip is available: 24.3.1 -> 25.1\n",
      "[notice] To update, run: python.exe -m pip install --upgrade pip\n"
     ]
    }
   ],
   "source": [
    "pip install tensorflow-estimator"
   ]
  },
  {
   "cell_type": "code",
   "execution_count": 17,
   "id": "e4985c93-2d92-455a-aa37-b63668f66645",
   "metadata": {
    "scrolled": true
   },
   "outputs": [
    {
     "name": "stdout",
     "output_type": "stream",
     "text": [
      "WARNING:tensorflow:From C:\\Users\\Osama\\AppData\\Roaming\\Python\\Python310\\site-packages\\tensorflow_estimator\\python\\estimator\\canned\\linear.py:990: Estimator.__init__ (from tensorflow_estimator.python.estimator.estimator) is deprecated and will be removed in a future version.\n",
      "Instructions for updating:\n",
      "Use tf.keras instead.\n",
      "WARNING:tensorflow:From C:\\Users\\Osama\\AppData\\Roaming\\Python\\Python310\\site-packages\\tensorflow_estimator\\python\\estimator\\estimator.py:1844: RunConfig.__init__ (from tensorflow_estimator.python.estimator.run_config) is deprecated and will be removed in a future version.\n",
      "Instructions for updating:\n",
      "Use tf.keras instead.\n",
      "WARNING:tensorflow:From C:\\Users\\Osama\\AppData\\Roaming\\Python\\Python310\\site-packages\\tensorflow_estimator\\python\\estimator\\estimator.py:1845: The name tf.logging.info is deprecated. Please use tf.compat.v1.logging.info instead.\n",
      "\n",
      "INFO:tensorflow:Using default config.\n",
      "WARNING:tensorflow:From C:\\Users\\Osama\\AppData\\Roaming\\Python\\Python310\\site-packages\\tensorflow_estimator\\python\\estimator\\run_config.py:329: The name tf.GraphOptions is deprecated. Please use tf.compat.v1.GraphOptions instead.\n",
      "\n",
      "INFO:tensorflow:Using config: {'_model_dir': 'ongoing/train', '_tf_random_seed': None, '_save_summary_steps': 100, '_save_checkpoints_steps': None, '_save_checkpoints_secs': 600, '_session_config': allow_soft_placement: true\n",
      "graph_options {\n",
      "  rewrite_options {\n",
      "    meta_optimizer_iterations: ONE\n",
      "  }\n",
      "}\n",
      ", '_keep_checkpoint_max': 5, '_keep_checkpoint_every_n_hours': 10000, '_log_step_count_steps': 100, '_train_distribute': None, '_device_fn': None, '_protocol': None, '_eval_distribute': None, '_experimental_distribute': None, '_experimental_max_worker_delay_secs': None, '_session_creation_timeout_secs': 7200, '_checkpoint_save_graph_def': True, '_service': None, '_cluster_spec': ClusterSpec({}), '_task_type': 'worker', '_task_id': 0, '_global_id_in_cluster': 0, '_master': '', '_evaluation_master': '', '_is_chief': True, '_num_ps_replicas': 0, '_num_worker_replicas': 1}\n"
     ]
    }
   ],
   "source": [
    "model = tf.compat.v1.estimator.LinearClassifier(n_classes=2, model_dir=\"ongoing/train\", feature_columns=categorical_features+continous_features)\n"
   ]
  },
  {
   "cell_type": "code",
   "execution_count": 25,
   "id": "1d629d2c-0eab-4261-aba0-5f81573a6ae7",
   "metadata": {},
   "outputs": [],
   "source": [
    "FEATURES = ['age', 'workclass', 'fnlwgt', 'education', 'education_num', \n",
    "            'marital_status', 'occupation', 'relationship', 'race', 'sex', \n",
    "            'capital_gain', 'capital_loss', 'hours_per_week', 'native_country']\n",
    "for feature in FEATURES:\n",
    "    if feature not in train_data.columns:\n",
    "        print(f\"Warning: {feature} is missing from the dataset!\")\n",
    "LABEL = 'income'\n",
    "\n",
    "def get_input_fn(data_set, num_epochs=None, n_batch=128, shuffle=True):\n",
    "    return tf.compat.v1.estimator.inputs.pandas_input_fn(\n",
    "        x=pd.DataFrame({k: data_set[k].values for k in FEATURES}),\n",
    "        y=pd.Series(data_set[LABEL].values),\n",
    "        batch_size=n_batch,\n",
    "        num_epochs=num_epochs,\n",
    "        shuffle=shuffle)"
   ]
  },
  {
   "cell_type": "code",
   "execution_count": 26,
   "id": "fc550de0-d757-4e76-b424-cf8c3b6bd751",
   "metadata": {
    "scrolled": true
   },
   "outputs": [
    {
     "name": "stdout",
     "output_type": "stream",
     "text": [
      "WARNING:tensorflow:From C:\\Users\\Osama\\AppData\\Local\\Temp\\ipykernel_27544\\2914067682.py:10: pandas_input_fn (from tensorflow_estimator.python.estimator.inputs.pandas_io) is deprecated and will be removed in a future version.\n",
      "Instructions for updating:\n",
      "Use tf.keras instead.\n",
      "WARNING:tensorflow:From C:\\Users\\Osama\\AppData\\Roaming\\Python\\Python310\\site-packages\\tensorflow_estimator\\python\\estimator\\estimator.py:385: StopAtStepHook.__init__ (from tensorflow.python.training.basic_session_run_hooks) is deprecated and will be removed in a future version.\n",
      "Instructions for updating:\n",
      "Use tf.keras instead.\n",
      "WARNING:tensorflow:From C:\\Users\\Osama\\AppData\\Roaming\\Python\\Python310\\site-packages\\tensorflow_estimator\\python\\estimator\\estimator.py:1205: The name tf.random.set_random_seed is deprecated. Please use tf.compat.v1.random.set_random_seed instead.\n",
      "\n",
      "WARNING:tensorflow:From C:\\Users\\Osama\\AppData\\Roaming\\Python\\Python310\\site-packages\\tensorflow_estimator\\python\\estimator\\inputs\\queues\\feeding_queue_runner.py:60: QueueRunner.__init__ (from tensorflow.python.training.queue_runner_impl) is deprecated and will be removed in a future version.\n",
      "Instructions for updating:\n",
      "To construct input pipelines, use the `tf.data` module.\n",
      "WARNING:tensorflow:From C:\\Users\\Osama\\AppData\\Roaming\\Python\\Python310\\site-packages\\tensorflow_estimator\\python\\estimator\\inputs\\queues\\feeding_functions.py:491: add_queue_runner (from tensorflow.python.training.queue_runner_impl) is deprecated and will be removed in a future version.\n",
      "Instructions for updating:\n",
      "To construct input pipelines, use the `tf.data` module.\n",
      "WARNING:tensorflow:From C:\\Users\\Osama\\AppData\\Roaming\\Python\\Python310\\site-packages\\tensorflow_estimator\\python\\estimator\\inputs\\queues\\feeding_functions.py:503: The name tf.summary.scalar is deprecated. Please use tf.compat.v1.summary.scalar instead.\n",
      "\n",
      "INFO:tensorflow:Calling model_fn.\n",
      "WARNING:tensorflow:From C:\\Users\\Osama\\AppData\\Roaming\\Python\\Python310\\site-packages\\tensorflow_estimator\\python\\estimator\\canned\\linear.py:736: linear_logit_fn_builder (from tensorflow_estimator.python.estimator.canned.linear) is deprecated and will be removed in a future version.\n",
      "Instructions for updating:\n",
      "Use tf.keras instead.\n",
      "WARNING:tensorflow:From C:\\Users\\Osama\\AppData\\Roaming\\Python\\Python310\\site-packages\\keras\\src\\utils\\version_utils.py:76: The name tf.executing_eagerly_outside_functions is deprecated. Please use tf.compat.v1.executing_eagerly_outside_functions instead.\n",
      "\n",
      "WARNING:tensorflow:From C:\\Users\\Osama\\AppData\\Roaming\\Python\\Python310\\site-packages\\tensorflow_estimator\\python\\estimator\\canned\\head.py:449: The name tf.debugging.assert_rank_at_least is deprecated. Please use tf.compat.v1.debugging.assert_rank_at_least instead.\n",
      "\n",
      "WARNING:tensorflow:From C:\\Users\\Osama\\AppData\\Roaming\\Python\\Python310\\site-packages\\tensorflow_estimator\\python\\estimator\\model_fn.py:250: EstimatorSpec.__new__ (from tensorflow_estimator.python.estimator.model_fn) is deprecated and will be removed in a future version.\n",
      "Instructions for updating:\n",
      "Use tf.keras instead.\n",
      "INFO:tensorflow:Done calling model_fn.\n",
      "WARNING:tensorflow:From C:\\Users\\Osama\\AppData\\Roaming\\Python\\Python310\\site-packages\\tensorflow_estimator\\python\\estimator\\estimator.py:1416: NanTensorHook.__init__ (from tensorflow.python.training.basic_session_run_hooks) is deprecated and will be removed in a future version.\n",
      "Instructions for updating:\n",
      "Use tf.keras instead.\n",
      "WARNING:tensorflow:From C:\\Users\\Osama\\AppData\\Roaming\\Python\\Python310\\site-packages\\tensorflow_estimator\\python\\estimator\\estimator.py:1419: LoggingTensorHook.__init__ (from tensorflow.python.training.basic_session_run_hooks) is deprecated and will be removed in a future version.\n",
      "Instructions for updating:\n",
      "Use tf.keras instead.\n",
      "WARNING:tensorflow:From C:\\Users\\Osama\\AppData\\Roaming\\Python\\Python310\\site-packages\\tensorflow\\python\\training\\basic_session_run_hooks.py:232: SecondOrStepTimer.__init__ (from tensorflow.python.training.basic_session_run_hooks) is deprecated and will be removed in a future version.\n",
      "Instructions for updating:\n",
      "Use tf.keras instead.\n",
      "WARNING:tensorflow:From C:\\Users\\Osama\\AppData\\Roaming\\Python\\Python310\\site-packages\\tensorflow_estimator\\python\\estimator\\estimator.py:1456: CheckpointSaverHook.__init__ (from tensorflow.python.training.basic_session_run_hooks) is deprecated and will be removed in a future version.\n",
      "Instructions for updating:\n",
      "Use tf.keras instead.\n",
      "INFO:tensorflow:Create CheckpointSaverHook.\n",
      "WARNING:tensorflow:From C:\\Users\\Osama\\AppData\\Roaming\\Python\\Python310\\site-packages\\tensorflow\\python\\training\\monitored_session.py:579: StepCounterHook.__init__ (from tensorflow.python.training.basic_session_run_hooks) is deprecated and will be removed in a future version.\n",
      "Instructions for updating:\n",
      "Use tf.keras instead.\n",
      "WARNING:tensorflow:From C:\\Users\\Osama\\AppData\\Roaming\\Python\\Python310\\site-packages\\tensorflow\\python\\training\\monitored_session.py:586: SummarySaverHook.__init__ (from tensorflow.python.training.basic_session_run_hooks) is deprecated and will be removed in a future version.\n",
      "Instructions for updating:\n",
      "Use tf.keras instead.\n",
      "INFO:tensorflow:Graph was finalized.\n",
      "INFO:tensorflow:Running local_init_op.\n",
      "INFO:tensorflow:Done running local_init_op.\n",
      "WARNING:tensorflow:From C:\\Users\\Osama\\AppData\\Roaming\\Python\\Python310\\site-packages\\tensorflow\\python\\training\\monitored_session.py:910: start_queue_runners (from tensorflow.python.training.queue_runner_impl) is deprecated and will be removed in a future version.\n",
      "Instructions for updating:\n",
      "To construct input pipelines, use the `tf.data` module.\n",
      "INFO:tensorflow:Calling checkpoint listeners before saving checkpoint 0...\n",
      "INFO:tensorflow:Saving checkpoints for 0 into ongoing/train\\model.ckpt.\n"
     ]
    },
    {
     "ename": "NotFoundError",
     "evalue": "Graph execution error:\n\nDetected at node 'save/SaveV2' defined at (most recent call last):\n    File \"C:\\Program Files\\Python310\\lib\\runpy.py\", line 196, in _run_module_as_main\n    File \"C:\\Program Files\\Python310\\lib\\runpy.py\", line 86, in _run_code\n    File \"C:\\Users\\Osama\\AppData\\Roaming\\Python\\Python310\\site-packages\\ipykernel_launcher.py\", line 18, in <module>\n    File \"C:\\Users\\Osama\\AppData\\Roaming\\Python\\Python310\\site-packages\\traitlets\\config\\application.py\", line 1075, in launch_instance\n    File \"C:\\Users\\Osama\\AppData\\Roaming\\Python\\Python310\\site-packages\\ipykernel\\kernelapp.py\", line 739, in start\n    File \"C:\\Users\\Osama\\AppData\\Roaming\\Python\\Python310\\site-packages\\tornado\\platform\\asyncio.py\", line 205, in start\n    File \"C:\\Program Files\\Python310\\lib\\asyncio\\base_events.py\", line 595, in run_forever\n    File \"C:\\Program Files\\Python310\\lib\\asyncio\\base_events.py\", line 1881, in _run_once\n    File \"C:\\Program Files\\Python310\\lib\\asyncio\\events.py\", line 80, in _run\n    File \"C:\\Users\\Osama\\AppData\\Roaming\\Python\\Python310\\site-packages\\ipykernel\\kernelbase.py\", line 545, in dispatch_queue\n    File \"C:\\Users\\Osama\\AppData\\Roaming\\Python\\Python310\\site-packages\\ipykernel\\kernelbase.py\", line 534, in process_one\n    File \"C:\\Users\\Osama\\AppData\\Roaming\\Python\\Python310\\site-packages\\ipykernel\\kernelbase.py\", line 437, in dispatch_shell\n    File \"C:\\Users\\Osama\\AppData\\Roaming\\Python\\Python310\\site-packages\\ipykernel\\ipkernel.py\", line 362, in execute_request\n    File \"C:\\Users\\Osama\\AppData\\Roaming\\Python\\Python310\\site-packages\\ipykernel\\kernelbase.py\", line 778, in execute_request\n    File \"C:\\Users\\Osama\\AppData\\Roaming\\Python\\Python310\\site-packages\\ipykernel\\ipkernel.py\", line 449, in do_execute\n    File \"C:\\Users\\Osama\\AppData\\Roaming\\Python\\Python310\\site-packages\\ipykernel\\zmqshell.py\", line 549, in run_cell\n    File \"C:\\Users\\Osama\\AppData\\Roaming\\Python\\Python310\\site-packages\\IPython\\core\\interactiveshell.py\", line 3075, in run_cell\n    File \"C:\\Users\\Osama\\AppData\\Roaming\\Python\\Python310\\site-packages\\IPython\\core\\interactiveshell.py\", line 3130, in _run_cell\n    File \"C:\\Users\\Osama\\AppData\\Roaming\\Python\\Python310\\site-packages\\IPython\\core\\async_helpers.py\", line 128, in _pseudo_sync_runner\n    File \"C:\\Users\\Osama\\AppData\\Roaming\\Python\\Python310\\site-packages\\IPython\\core\\interactiveshell.py\", line 3334, in run_cell_async\n    File \"C:\\Users\\Osama\\AppData\\Roaming\\Python\\Python310\\site-packages\\IPython\\core\\interactiveshell.py\", line 3517, in run_ast_nodes\n    File \"C:\\Users\\Osama\\AppData\\Roaming\\Python\\Python310\\site-packages\\IPython\\core\\interactiveshell.py\", line 3577, in run_code\n    File \"C:\\Users\\Osama\\AppData\\Local\\Temp\\ipykernel_27544\\2737298148.py\", line 1, in <module>\n    File \"C:\\Users\\Osama\\AppData\\Roaming\\Python\\Python310\\site-packages\\tensorflow_estimator\\python\\estimator\\estimator.py\", line 360, in train\n    File \"C:\\Users\\Osama\\AppData\\Roaming\\Python\\Python310\\site-packages\\tensorflow_estimator\\python\\estimator\\estimator.py\", line 1188, in _train_model\n    File \"C:\\Users\\Osama\\AppData\\Roaming\\Python\\Python310\\site-packages\\tensorflow_estimator\\python\\estimator\\estimator.py\", line 1219, in _train_model_default\n    File \"C:\\Users\\Osama\\AppData\\Roaming\\Python\\Python310\\site-packages\\tensorflow_estimator\\python\\estimator\\estimator.py\", line 1514, in _train_with_estimator_spec\nNode: 'save/SaveV2'\nFailed to create a NewWriteableFile: ongoing/train\\model.ckpt-0_temp\\part-00000-of-00001.data-00000-of-00001.tempstate4894328738186611061 : The system cannot find the path specified.\r\n; No such process\n\t [[{{node save/SaveV2}}]]\n\nOriginal stack trace for 'save/SaveV2':\n  File \"C:\\Program Files\\Python310\\lib\\runpy.py\", line 196, in _run_module_as_main\n  File \"C:\\Program Files\\Python310\\lib\\runpy.py\", line 86, in _run_code\n  File \"C:\\Users\\Osama\\AppData\\Roaming\\Python\\Python310\\site-packages\\ipykernel_launcher.py\", line 18, in <module>\n  File \"C:\\Users\\Osama\\AppData\\Roaming\\Python\\Python310\\site-packages\\traitlets\\config\\application.py\", line 1075, in launch_instance\n  File \"C:\\Users\\Osama\\AppData\\Roaming\\Python\\Python310\\site-packages\\ipykernel\\kernelapp.py\", line 739, in start\n  File \"C:\\Users\\Osama\\AppData\\Roaming\\Python\\Python310\\site-packages\\tornado\\platform\\asyncio.py\", line 205, in start\n  File \"C:\\Program Files\\Python310\\lib\\asyncio\\base_events.py\", line 595, in run_forever\n  File \"C:\\Program Files\\Python310\\lib\\asyncio\\base_events.py\", line 1881, in _run_once\n  File \"C:\\Program Files\\Python310\\lib\\asyncio\\events.py\", line 80, in _run\n  File \"C:\\Users\\Osama\\AppData\\Roaming\\Python\\Python310\\site-packages\\ipykernel\\kernelbase.py\", line 545, in dispatch_queue\n  File \"C:\\Users\\Osama\\AppData\\Roaming\\Python\\Python310\\site-packages\\ipykernel\\kernelbase.py\", line 534, in process_one\n  File \"C:\\Users\\Osama\\AppData\\Roaming\\Python\\Python310\\site-packages\\ipykernel\\kernelbase.py\", line 437, in dispatch_shell\n  File \"C:\\Users\\Osama\\AppData\\Roaming\\Python\\Python310\\site-packages\\ipykernel\\ipkernel.py\", line 362, in execute_request\n  File \"C:\\Users\\Osama\\AppData\\Roaming\\Python\\Python310\\site-packages\\ipykernel\\kernelbase.py\", line 778, in execute_request\n  File \"C:\\Users\\Osama\\AppData\\Roaming\\Python\\Python310\\site-packages\\ipykernel\\ipkernel.py\", line 449, in do_execute\n  File \"C:\\Users\\Osama\\AppData\\Roaming\\Python\\Python310\\site-packages\\ipykernel\\zmqshell.py\", line 549, in run_cell\n  File \"C:\\Users\\Osama\\AppData\\Roaming\\Python\\Python310\\site-packages\\IPython\\core\\interactiveshell.py\", line 3075, in run_cell\n  File \"C:\\Users\\Osama\\AppData\\Roaming\\Python\\Python310\\site-packages\\IPython\\core\\interactiveshell.py\", line 3130, in _run_cell\n  File \"C:\\Users\\Osama\\AppData\\Roaming\\Python\\Python310\\site-packages\\IPython\\core\\async_helpers.py\", line 128, in _pseudo_sync_runner\n  File \"C:\\Users\\Osama\\AppData\\Roaming\\Python\\Python310\\site-packages\\IPython\\core\\interactiveshell.py\", line 3334, in run_cell_async\n  File \"C:\\Users\\Osama\\AppData\\Roaming\\Python\\Python310\\site-packages\\IPython\\core\\interactiveshell.py\", line 3517, in run_ast_nodes\n  File \"C:\\Users\\Osama\\AppData\\Roaming\\Python\\Python310\\site-packages\\IPython\\core\\interactiveshell.py\", line 3577, in run_code\n  File \"C:\\Users\\Osama\\AppData\\Local\\Temp\\ipykernel_27544\\2737298148.py\", line 1, in <module>\n  File \"C:\\Users\\Osama\\AppData\\Roaming\\Python\\Python310\\site-packages\\tensorflow_estimator\\python\\estimator\\estimator.py\", line 360, in train\n  File \"C:\\Users\\Osama\\AppData\\Roaming\\Python\\Python310\\site-packages\\tensorflow_estimator\\python\\estimator\\estimator.py\", line 1188, in _train_model\n  File \"C:\\Users\\Osama\\AppData\\Roaming\\Python\\Python310\\site-packages\\tensorflow_estimator\\python\\estimator\\estimator.py\", line 1219, in _train_model_default\n  File \"C:\\Users\\Osama\\AppData\\Roaming\\Python\\Python310\\site-packages\\tensorflow_estimator\\python\\estimator\\estimator.py\", line 1514, in _train_with_estimator_spec\n  File \"C:\\Users\\Osama\\AppData\\Roaming\\Python\\Python310\\site-packages\\tensorflow\\python\\training\\monitored_session.py\", line 606, in MonitoredTrainingSession\n  File \"C:\\Users\\Osama\\AppData\\Roaming\\Python\\Python310\\site-packages\\tensorflow\\python\\training\\monitored_session.py\", line 1050, in __init__\n  File \"C:\\Users\\Osama\\AppData\\Roaming\\Python\\Python310\\site-packages\\tensorflow\\python\\training\\monitored_session.py\", line 753, in __init__\n  File \"C:\\Users\\Osama\\AppData\\Roaming\\Python\\Python310\\site-packages\\tensorflow\\python\\training\\monitored_session.py\", line 1259, in __init__\n  File \"C:\\Users\\Osama\\AppData\\Roaming\\Python\\Python310\\site-packages\\tensorflow\\python\\training\\monitored_session.py\", line 1264, in _create_session\n  File \"C:\\Users\\Osama\\AppData\\Roaming\\Python\\Python310\\site-packages\\tensorflow\\python\\training\\monitored_session.py\", line 906, in create_session\n  File \"C:\\Users\\Osama\\AppData\\Roaming\\Python\\Python310\\site-packages\\tensorflow\\python\\training\\monitored_session.py\", line 664, in create_session\n  File \"C:\\Users\\Osama\\AppData\\Roaming\\Python\\Python310\\site-packages\\tensorflow\\python\\training\\monitored_session.py\", line 237, in finalize\n  File \"C:\\Users\\Osama\\AppData\\Roaming\\Python\\Python310\\site-packages\\tensorflow\\python\\training\\saver.py\", line 946, in build\n  File \"C:\\Users\\Osama\\AppData\\Roaming\\Python\\Python310\\site-packages\\tensorflow\\python\\training\\saver.py\", line 974, in _build\n  File \"C:\\Users\\Osama\\AppData\\Roaming\\Python\\Python310\\site-packages\\tensorflow\\python\\training\\saver.py\", line 535, in _build_internal\n  File \"C:\\Users\\Osama\\AppData\\Roaming\\Python\\Python310\\site-packages\\tensorflow\\python\\training\\saver.py\", line 324, in _AddShardedSaveOps\n  File \"C:\\Users\\Osama\\AppData\\Roaming\\Python\\Python310\\site-packages\\tensorflow\\python\\training\\saver.py\", line 298, in _AddShardedSaveOpsForV2\n  File \"C:\\Users\\Osama\\AppData\\Roaming\\Python\\Python310\\site-packages\\tensorflow\\python\\training\\saver.py\", line 230, in _AddSaveOps\n  File \"C:\\Users\\Osama\\AppData\\Roaming\\Python\\Python310\\site-packages\\tensorflow\\python\\training\\saver.py\", line 145, in save_op\n  File \"C:\\Users\\Osama\\AppData\\Roaming\\Python\\Python310\\site-packages\\tensorflow\\python\\ops\\gen_io_ops.py\", line 1734, in save_v2\n  File \"C:\\Users\\Osama\\AppData\\Roaming\\Python\\Python310\\site-packages\\tensorflow\\python\\framework\\op_def_library.py\", line 796, in _apply_op_helper\n  File \"C:\\Users\\Osama\\AppData\\Roaming\\Python\\Python310\\site-packages\\tensorflow\\python\\framework\\ops.py\", line 2652, in _create_op_internal\n  File \"C:\\Users\\Osama\\AppData\\Roaming\\Python\\Python310\\site-packages\\tensorflow\\python\\framework\\ops.py\", line 1160, in from_node_def\n",
     "output_type": "error",
     "traceback": [
      "\u001b[1;31m---------------------------------------------------------------------------\u001b[0m",
      "\u001b[1;31mNotFoundError\u001b[0m                             Traceback (most recent call last)",
      "File \u001b[1;32m~\\AppData\\Roaming\\Python\\Python310\\site-packages\\tensorflow\\python\\client\\session.py:1402\u001b[0m, in \u001b[0;36mBaseSession._do_call\u001b[1;34m(self, fn, *args)\u001b[0m\n\u001b[0;32m   1401\u001b[0m \u001b[38;5;28;01mtry\u001b[39;00m:\n\u001b[1;32m-> 1402\u001b[0m   \u001b[38;5;28;01mreturn\u001b[39;00m \u001b[43mfn\u001b[49m\u001b[43m(\u001b[49m\u001b[38;5;241;43m*\u001b[39;49m\u001b[43margs\u001b[49m\u001b[43m)\u001b[49m\n\u001b[0;32m   1403\u001b[0m \u001b[38;5;28;01mexcept\u001b[39;00m errors\u001b[38;5;241m.\u001b[39mOpError \u001b[38;5;28;01mas\u001b[39;00m e:\n",
      "File \u001b[1;32m~\\AppData\\Roaming\\Python\\Python310\\site-packages\\tensorflow\\python\\client\\session.py:1385\u001b[0m, in \u001b[0;36mBaseSession._do_run.<locals>._run_fn\u001b[1;34m(feed_dict, fetch_list, target_list, options, run_metadata)\u001b[0m\n\u001b[0;32m   1384\u001b[0m \u001b[38;5;28mself\u001b[39m\u001b[38;5;241m.\u001b[39m_extend_graph()\n\u001b[1;32m-> 1385\u001b[0m \u001b[38;5;28;01mreturn\u001b[39;00m \u001b[38;5;28;43mself\u001b[39;49m\u001b[38;5;241;43m.\u001b[39;49m\u001b[43m_call_tf_sessionrun\u001b[49m\u001b[43m(\u001b[49m\u001b[43moptions\u001b[49m\u001b[43m,\u001b[49m\u001b[43m \u001b[49m\u001b[43mfeed_dict\u001b[49m\u001b[43m,\u001b[49m\u001b[43m \u001b[49m\u001b[43mfetch_list\u001b[49m\u001b[43m,\u001b[49m\n\u001b[0;32m   1386\u001b[0m \u001b[43m                                \u001b[49m\u001b[43mtarget_list\u001b[49m\u001b[43m,\u001b[49m\u001b[43m \u001b[49m\u001b[43mrun_metadata\u001b[49m\u001b[43m)\u001b[49m\n",
      "File \u001b[1;32m~\\AppData\\Roaming\\Python\\Python310\\site-packages\\tensorflow\\python\\client\\session.py:1478\u001b[0m, in \u001b[0;36mBaseSession._call_tf_sessionrun\u001b[1;34m(self, options, feed_dict, fetch_list, target_list, run_metadata)\u001b[0m\n\u001b[0;32m   1476\u001b[0m \u001b[38;5;28;01mdef\u001b[39;00m\u001b[38;5;250m \u001b[39m\u001b[38;5;21m_call_tf_sessionrun\u001b[39m(\u001b[38;5;28mself\u001b[39m, options, feed_dict, fetch_list, target_list,\n\u001b[0;32m   1477\u001b[0m                         run_metadata):\n\u001b[1;32m-> 1478\u001b[0m   \u001b[38;5;28;01mreturn\u001b[39;00m \u001b[43mtf_session\u001b[49m\u001b[38;5;241;43m.\u001b[39;49m\u001b[43mTF_SessionRun_wrapper\u001b[49m\u001b[43m(\u001b[49m\u001b[38;5;28;43mself\u001b[39;49m\u001b[38;5;241;43m.\u001b[39;49m\u001b[43m_session\u001b[49m\u001b[43m,\u001b[49m\u001b[43m \u001b[49m\u001b[43moptions\u001b[49m\u001b[43m,\u001b[49m\u001b[43m \u001b[49m\u001b[43mfeed_dict\u001b[49m\u001b[43m,\u001b[49m\n\u001b[0;32m   1479\u001b[0m \u001b[43m                                          \u001b[49m\u001b[43mfetch_list\u001b[49m\u001b[43m,\u001b[49m\u001b[43m \u001b[49m\u001b[43mtarget_list\u001b[49m\u001b[43m,\u001b[49m\n\u001b[0;32m   1480\u001b[0m \u001b[43m                                          \u001b[49m\u001b[43mrun_metadata\u001b[49m\u001b[43m)\u001b[49m\n",
      "\u001b[1;31mNotFoundError\u001b[0m: Failed to create a NewWriteableFile: ongoing/train\\model.ckpt-0_temp\\part-00000-of-00001.data-00000-of-00001.tempstate4894328738186611061 : The system cannot find the path specified.\r\n; No such process\n\t [[{{node save/SaveV2}}]]",
      "\nDuring handling of the above exception, another exception occurred:\n",
      "\u001b[1;31mNotFoundError\u001b[0m                             Traceback (most recent call last)",
      "Cell \u001b[1;32mIn[26], line 1\u001b[0m\n\u001b[1;32m----> 1\u001b[0m \u001b[43mmodel\u001b[49m\u001b[38;5;241;43m.\u001b[39;49m\u001b[43mtrain\u001b[49m\u001b[43m(\u001b[49m\u001b[43minput_fn\u001b[49m\u001b[38;5;241;43m=\u001b[39;49m\u001b[43mget_input_fn\u001b[49m\u001b[43m(\u001b[49m\u001b[43mtrain_data\u001b[49m\u001b[43m,\u001b[49m\u001b[43m \u001b[49m\u001b[43mnum_epochs\u001b[49m\u001b[38;5;241;43m=\u001b[39;49m\u001b[38;5;28;43;01mNone\u001b[39;49;00m\u001b[43m,\u001b[49m\u001b[43m \u001b[49m\u001b[43mn_batch\u001b[49m\u001b[38;5;241;43m=\u001b[39;49m\u001b[38;5;241;43m128\u001b[39;49m\u001b[43m,\u001b[49m\u001b[43m \u001b[49m\u001b[43mshuffle\u001b[49m\u001b[38;5;241;43m=\u001b[39;49m\u001b[38;5;28;43;01mFalse\u001b[39;49;00m\u001b[43m)\u001b[49m\u001b[43m,\u001b[49m\u001b[43m \u001b[49m\u001b[43msteps\u001b[49m\u001b[38;5;241;43m=\u001b[39;49m\u001b[38;5;241;43m1000\u001b[39;49m\u001b[43m)\u001b[49m\n",
      "File \u001b[1;32m~\\AppData\\Roaming\\Python\\Python310\\site-packages\\tensorflow_estimator\\python\\estimator\\estimator.py:360\u001b[0m, in \u001b[0;36mEstimator.train\u001b[1;34m(self, input_fn, hooks, steps, max_steps, saving_listeners)\u001b[0m\n\u001b[0;32m    357\u001b[0m hooks\u001b[38;5;241m.\u001b[39mextend(\u001b[38;5;28mself\u001b[39m\u001b[38;5;241m.\u001b[39m_convert_train_steps_to_hooks(steps, max_steps))\n\u001b[0;32m    359\u001b[0m saving_listeners \u001b[38;5;241m=\u001b[39m _check_listeners_type(saving_listeners)\n\u001b[1;32m--> 360\u001b[0m loss \u001b[38;5;241m=\u001b[39m \u001b[38;5;28;43mself\u001b[39;49m\u001b[38;5;241;43m.\u001b[39;49m\u001b[43m_train_model\u001b[49m\u001b[43m(\u001b[49m\u001b[43minput_fn\u001b[49m\u001b[43m,\u001b[49m\u001b[43m \u001b[49m\u001b[43mhooks\u001b[49m\u001b[43m,\u001b[49m\u001b[43m \u001b[49m\u001b[43msaving_listeners\u001b[49m\u001b[43m)\u001b[49m\n\u001b[0;32m    361\u001b[0m tf\u001b[38;5;241m.\u001b[39mcompat\u001b[38;5;241m.\u001b[39mv1\u001b[38;5;241m.\u001b[39mlogging\u001b[38;5;241m.\u001b[39minfo(\u001b[38;5;124m'\u001b[39m\u001b[38;5;124mLoss for final step: \u001b[39m\u001b[38;5;132;01m%s\u001b[39;00m\u001b[38;5;124m.\u001b[39m\u001b[38;5;124m'\u001b[39m, loss)\n\u001b[0;32m    362\u001b[0m \u001b[38;5;28;01mreturn\u001b[39;00m \u001b[38;5;28mself\u001b[39m\n",
      "File \u001b[1;32m~\\AppData\\Roaming\\Python\\Python310\\site-packages\\tensorflow_estimator\\python\\estimator\\estimator.py:1188\u001b[0m, in \u001b[0;36mEstimator._train_model\u001b[1;34m(self, input_fn, hooks, saving_listeners)\u001b[0m\n\u001b[0;32m   1186\u001b[0m   \u001b[38;5;28;01mreturn\u001b[39;00m \u001b[38;5;28mself\u001b[39m\u001b[38;5;241m.\u001b[39m_train_model_distributed(input_fn, hooks, saving_listeners)\n\u001b[0;32m   1187\u001b[0m \u001b[38;5;28;01melse\u001b[39;00m:\n\u001b[1;32m-> 1188\u001b[0m   \u001b[38;5;28;01mreturn\u001b[39;00m \u001b[38;5;28;43mself\u001b[39;49m\u001b[38;5;241;43m.\u001b[39;49m\u001b[43m_train_model_default\u001b[49m\u001b[43m(\u001b[49m\u001b[43minput_fn\u001b[49m\u001b[43m,\u001b[49m\u001b[43m \u001b[49m\u001b[43mhooks\u001b[49m\u001b[43m,\u001b[49m\u001b[43m \u001b[49m\u001b[43msaving_listeners\u001b[49m\u001b[43m)\u001b[49m\n",
      "File \u001b[1;32m~\\AppData\\Roaming\\Python\\Python310\\site-packages\\tensorflow_estimator\\python\\estimator\\estimator.py:1219\u001b[0m, in \u001b[0;36mEstimator._train_model_default\u001b[1;34m(self, input_fn, hooks, saving_listeners)\u001b[0m\n\u001b[0;32m   1216\u001b[0m estimator_spec \u001b[38;5;241m=\u001b[39m \u001b[38;5;28mself\u001b[39m\u001b[38;5;241m.\u001b[39m_call_model_fn(features, labels, ModeKeys\u001b[38;5;241m.\u001b[39mTRAIN,\n\u001b[0;32m   1217\u001b[0m                                      \u001b[38;5;28mself\u001b[39m\u001b[38;5;241m.\u001b[39mconfig)\n\u001b[0;32m   1218\u001b[0m global_step_tensor \u001b[38;5;241m=\u001b[39m tf\u001b[38;5;241m.\u001b[39mcompat\u001b[38;5;241m.\u001b[39mv1\u001b[38;5;241m.\u001b[39mtrain\u001b[38;5;241m.\u001b[39mget_global_step(g)\n\u001b[1;32m-> 1219\u001b[0m \u001b[38;5;28;01mreturn\u001b[39;00m \u001b[38;5;28;43mself\u001b[39;49m\u001b[38;5;241;43m.\u001b[39;49m\u001b[43m_train_with_estimator_spec\u001b[49m\u001b[43m(\u001b[49m\u001b[43mestimator_spec\u001b[49m\u001b[43m,\u001b[49m\u001b[43m \u001b[49m\u001b[43mworker_hooks\u001b[49m\u001b[43m,\u001b[49m\n\u001b[0;32m   1220\u001b[0m \u001b[43m                                       \u001b[49m\u001b[43mhooks\u001b[49m\u001b[43m,\u001b[49m\u001b[43m \u001b[49m\u001b[43mglobal_step_tensor\u001b[49m\u001b[43m,\u001b[49m\n\u001b[0;32m   1221\u001b[0m \u001b[43m                                       \u001b[49m\u001b[43msaving_listeners\u001b[49m\u001b[43m)\u001b[49m\n",
      "File \u001b[1;32m~\\AppData\\Roaming\\Python\\Python310\\site-packages\\tensorflow_estimator\\python\\estimator\\estimator.py:1514\u001b[0m, in \u001b[0;36mEstimator._train_with_estimator_spec\u001b[1;34m(self, estimator_spec, worker_hooks, hooks, global_step_tensor, saving_listeners)\u001b[0m\n\u001b[0;32m   1507\u001b[0m     \u001b[38;5;28;01mif\u001b[39;00m (\u001b[38;5;28mself\u001b[39m\u001b[38;5;241m.\u001b[39m_config\u001b[38;5;241m.\u001b[39mlog_step_count_steps \u001b[38;5;129;01mand\u001b[39;00m\n\u001b[0;32m   1508\u001b[0m         \u001b[38;5;28mself\u001b[39m\u001b[38;5;241m.\u001b[39m_config\u001b[38;5;241m.\u001b[39mlog_step_count_steps \u001b[38;5;241m>\u001b[39m \u001b[38;5;241m0\u001b[39m):\n\u001b[0;32m   1509\u001b[0m       worker_hooks\u001b[38;5;241m.\u001b[39mappend(\n\u001b[0;32m   1510\u001b[0m           tf\u001b[38;5;241m.\u001b[39mcompat\u001b[38;5;241m.\u001b[39mv1\u001b[38;5;241m.\u001b[39mtrain\u001b[38;5;241m.\u001b[39mStepCounterHook(\n\u001b[0;32m   1511\u001b[0m               every_n_steps\u001b[38;5;241m=\u001b[39m\u001b[38;5;28mself\u001b[39m\u001b[38;5;241m.\u001b[39m_config\u001b[38;5;241m.\u001b[39mlog_step_count_steps,\n\u001b[0;32m   1512\u001b[0m               output_dir\u001b[38;5;241m=\u001b[39m\u001b[38;5;28mself\u001b[39m\u001b[38;5;241m.\u001b[39m_config\u001b[38;5;241m.\u001b[39mmodel_dir))\n\u001b[1;32m-> 1514\u001b[0m \u001b[38;5;28;01mwith\u001b[39;00m \u001b[43mtraining\u001b[49m\u001b[38;5;241;43m.\u001b[39;49m\u001b[43mMonitoredTrainingSession\u001b[49m\u001b[43m(\u001b[49m\n\u001b[0;32m   1515\u001b[0m \u001b[43m    \u001b[49m\u001b[43mmaster\u001b[49m\u001b[38;5;241;43m=\u001b[39;49m\u001b[38;5;28;43mself\u001b[39;49m\u001b[38;5;241;43m.\u001b[39;49m\u001b[43m_config\u001b[49m\u001b[38;5;241;43m.\u001b[39;49m\u001b[43mmaster\u001b[49m\u001b[43m,\u001b[49m\n\u001b[0;32m   1516\u001b[0m \u001b[43m    \u001b[49m\u001b[43mis_chief\u001b[49m\u001b[38;5;241;43m=\u001b[39;49m\u001b[38;5;28;43mself\u001b[39;49m\u001b[38;5;241;43m.\u001b[39;49m\u001b[43m_config\u001b[49m\u001b[38;5;241;43m.\u001b[39;49m\u001b[43mis_chief\u001b[49m\u001b[43m,\u001b[49m\n\u001b[0;32m   1517\u001b[0m \u001b[43m    \u001b[49m\u001b[43mcheckpoint_dir\u001b[49m\u001b[38;5;241;43m=\u001b[39;49m\u001b[38;5;28;43mself\u001b[39;49m\u001b[38;5;241;43m.\u001b[39;49m\u001b[43m_model_dir\u001b[49m\u001b[43m,\u001b[49m\n\u001b[0;32m   1518\u001b[0m \u001b[43m    \u001b[49m\u001b[43mscaffold\u001b[49m\u001b[38;5;241;43m=\u001b[39;49m\u001b[43mestimator_spec\u001b[49m\u001b[38;5;241;43m.\u001b[39;49m\u001b[43mscaffold\u001b[49m\u001b[43m,\u001b[49m\n\u001b[0;32m   1519\u001b[0m \u001b[43m    \u001b[49m\u001b[43mhooks\u001b[49m\u001b[38;5;241;43m=\u001b[39;49m\u001b[43mworker_hooks\u001b[49m\u001b[43m,\u001b[49m\n\u001b[0;32m   1520\u001b[0m \u001b[43m    \u001b[49m\u001b[43mchief_only_hooks\u001b[49m\u001b[38;5;241;43m=\u001b[39;49m\u001b[43m(\u001b[49m\u001b[38;5;28;43mtuple\u001b[39;49m\u001b[43m(\u001b[49m\u001b[43mchief_hooks\u001b[49m\u001b[43m)\u001b[49m\u001b[43m \u001b[49m\u001b[38;5;241;43m+\u001b[39;49m\n\u001b[0;32m   1521\u001b[0m \u001b[43m                      \u001b[49m\u001b[38;5;28;43mtuple\u001b[39;49m\u001b[43m(\u001b[49m\u001b[43mestimator_spec\u001b[49m\u001b[38;5;241;43m.\u001b[39;49m\u001b[43mtraining_chief_hooks\u001b[49m\u001b[43m)\u001b[49m\u001b[43m)\u001b[49m\u001b[43m,\u001b[49m\n\u001b[0;32m   1522\u001b[0m \u001b[43m    \u001b[49m\u001b[43msave_checkpoint_secs\u001b[49m\u001b[38;5;241;43m=\u001b[39;49m\u001b[38;5;241;43m0\u001b[39;49m\u001b[43m,\u001b[49m\u001b[43m  \u001b[49m\u001b[38;5;66;43;03m# Saving is handled by a hook.\u001b[39;49;00m\n\u001b[0;32m   1523\u001b[0m \u001b[43m    \u001b[49m\u001b[43msave_summaries_steps\u001b[49m\u001b[38;5;241;43m=\u001b[39;49m\u001b[43msave_summary_steps\u001b[49m\u001b[43m,\u001b[49m\n\u001b[0;32m   1524\u001b[0m \u001b[43m    \u001b[49m\u001b[43mconfig\u001b[49m\u001b[38;5;241;43m=\u001b[39;49m\u001b[38;5;28;43mself\u001b[39;49m\u001b[38;5;241;43m.\u001b[39;49m\u001b[43m_session_config\u001b[49m\u001b[43m,\u001b[49m\n\u001b[0;32m   1525\u001b[0m \u001b[43m    \u001b[49m\u001b[43mmax_wait_secs\u001b[49m\u001b[38;5;241;43m=\u001b[39;49m\u001b[38;5;28;43mself\u001b[39;49m\u001b[38;5;241;43m.\u001b[39;49m\u001b[43m_config\u001b[49m\u001b[38;5;241;43m.\u001b[39;49m\u001b[43msession_creation_timeout_secs\u001b[49m\u001b[43m,\u001b[49m\n\u001b[0;32m   1526\u001b[0m \u001b[43m    \u001b[49m\u001b[43mlog_step_count_steps\u001b[49m\u001b[38;5;241;43m=\u001b[39;49m\u001b[43mlog_step_count_steps\u001b[49m\u001b[43m,\u001b[49m\n\u001b[0;32m   1527\u001b[0m \u001b[43m    \u001b[49m\u001b[43msave_graph_def\u001b[49m\u001b[38;5;241;43m=\u001b[39;49m\u001b[38;5;28;43mself\u001b[39;49m\u001b[38;5;241;43m.\u001b[39;49m\u001b[43m_config\u001b[49m\u001b[38;5;241;43m.\u001b[39;49m\u001b[43mcheckpoint_save_graph_def\u001b[49m\u001b[43m)\u001b[49m \u001b[38;5;28;01mas\u001b[39;00m mon_sess:\n\u001b[0;32m   1528\u001b[0m   loss \u001b[38;5;241m=\u001b[39m \u001b[38;5;28;01mNone\u001b[39;00m\n\u001b[0;32m   1529\u001b[0m   current_step \u001b[38;5;241m=\u001b[39m \u001b[38;5;241m0\u001b[39m\n",
      "File \u001b[1;32m~\\AppData\\Roaming\\Python\\Python310\\site-packages\\tensorflow\\python\\training\\monitored_session.py:606\u001b[0m, in \u001b[0;36mMonitoredTrainingSession\u001b[1;34m(master, is_chief, checkpoint_dir, scaffold, hooks, chief_only_hooks, save_checkpoint_secs, save_summaries_steps, save_summaries_secs, config, stop_grace_period_secs, log_step_count_steps, max_wait_secs, save_checkpoint_steps, summary_dir, save_graph_def)\u001b[0m\n\u001b[0;32m    604\u001b[0m \u001b[38;5;28;01mif\u001b[39;00m hooks:\n\u001b[0;32m    605\u001b[0m   all_hooks\u001b[38;5;241m.\u001b[39mextend(hooks)\n\u001b[1;32m--> 606\u001b[0m \u001b[38;5;28;01mreturn\u001b[39;00m \u001b[43mMonitoredSession\u001b[49m\u001b[43m(\u001b[49m\n\u001b[0;32m    607\u001b[0m \u001b[43m    \u001b[49m\u001b[43msession_creator\u001b[49m\u001b[38;5;241;43m=\u001b[39;49m\u001b[43msession_creator\u001b[49m\u001b[43m,\u001b[49m\n\u001b[0;32m    608\u001b[0m \u001b[43m    \u001b[49m\u001b[43mhooks\u001b[49m\u001b[38;5;241;43m=\u001b[39;49m\u001b[43mall_hooks\u001b[49m\u001b[43m,\u001b[49m\n\u001b[0;32m    609\u001b[0m \u001b[43m    \u001b[49m\u001b[43mstop_grace_period_secs\u001b[49m\u001b[38;5;241;43m=\u001b[39;49m\u001b[43mstop_grace_period_secs\u001b[49m\u001b[43m)\u001b[49m\n",
      "File \u001b[1;32m~\\AppData\\Roaming\\Python\\Python310\\site-packages\\tensorflow\\python\\training\\monitored_session.py:1050\u001b[0m, in \u001b[0;36mMonitoredSession.__init__\u001b[1;34m(self, session_creator, hooks, stop_grace_period_secs)\u001b[0m\n\u001b[0;32m   1046\u001b[0m \u001b[38;5;28;01mdef\u001b[39;00m\u001b[38;5;250m \u001b[39m\u001b[38;5;21m__init__\u001b[39m(\u001b[38;5;28mself\u001b[39m,\n\u001b[0;32m   1047\u001b[0m              session_creator\u001b[38;5;241m=\u001b[39m\u001b[38;5;28;01mNone\u001b[39;00m,\n\u001b[0;32m   1048\u001b[0m              hooks\u001b[38;5;241m=\u001b[39m\u001b[38;5;28;01mNone\u001b[39;00m,\n\u001b[0;32m   1049\u001b[0m              stop_grace_period_secs\u001b[38;5;241m=\u001b[39m\u001b[38;5;241m120\u001b[39m):\n\u001b[1;32m-> 1050\u001b[0m   \u001b[38;5;28;43msuper\u001b[39;49m\u001b[43m(\u001b[49m\u001b[43mMonitoredSession\u001b[49m\u001b[43m,\u001b[49m\u001b[43m \u001b[49m\u001b[38;5;28;43mself\u001b[39;49m\u001b[43m)\u001b[49m\u001b[38;5;241;43m.\u001b[39;49m\u001b[38;5;21;43m__init__\u001b[39;49m\u001b[43m(\u001b[49m\n\u001b[0;32m   1051\u001b[0m \u001b[43m      \u001b[49m\u001b[43msession_creator\u001b[49m\u001b[43m,\u001b[49m\n\u001b[0;32m   1052\u001b[0m \u001b[43m      \u001b[49m\u001b[43mhooks\u001b[49m\u001b[43m,\u001b[49m\n\u001b[0;32m   1053\u001b[0m \u001b[43m      \u001b[49m\u001b[43mshould_recover\u001b[49m\u001b[38;5;241;43m=\u001b[39;49m\u001b[38;5;28;43;01mTrue\u001b[39;49;00m\u001b[43m,\u001b[49m\n\u001b[0;32m   1054\u001b[0m \u001b[43m      \u001b[49m\u001b[43mstop_grace_period_secs\u001b[49m\u001b[38;5;241;43m=\u001b[39;49m\u001b[43mstop_grace_period_secs\u001b[49m\u001b[43m)\u001b[49m\n",
      "File \u001b[1;32m~\\AppData\\Roaming\\Python\\Python310\\site-packages\\tensorflow\\python\\training\\monitored_session.py:753\u001b[0m, in \u001b[0;36m_MonitoredSession.__init__\u001b[1;34m(self, session_creator, hooks, should_recover, stop_grace_period_secs)\u001b[0m\n\u001b[0;32m    748\u001b[0m \u001b[38;5;28mself\u001b[39m\u001b[38;5;241m.\u001b[39m_coordinated_creator \u001b[38;5;241m=\u001b[39m \u001b[38;5;28mself\u001b[39m\u001b[38;5;241m.\u001b[39m_CoordinatedSessionCreator(\n\u001b[0;32m    749\u001b[0m     session_creator\u001b[38;5;241m=\u001b[39msession_creator \u001b[38;5;129;01mor\u001b[39;00m ChiefSessionCreator(),\n\u001b[0;32m    750\u001b[0m     hooks\u001b[38;5;241m=\u001b[39m\u001b[38;5;28mself\u001b[39m\u001b[38;5;241m.\u001b[39m_hooks,\n\u001b[0;32m    751\u001b[0m     stop_grace_period_secs\u001b[38;5;241m=\u001b[39mstop_grace_period_secs)\n\u001b[0;32m    752\u001b[0m \u001b[38;5;28;01mif\u001b[39;00m should_recover:\n\u001b[1;32m--> 753\u001b[0m   \u001b[38;5;28mself\u001b[39m\u001b[38;5;241m.\u001b[39m_sess \u001b[38;5;241m=\u001b[39m \u001b[43m_RecoverableSession\u001b[49m\u001b[43m(\u001b[49m\u001b[38;5;28;43mself\u001b[39;49m\u001b[38;5;241;43m.\u001b[39;49m\u001b[43m_coordinated_creator\u001b[49m\u001b[43m)\u001b[49m\n\u001b[0;32m    754\u001b[0m \u001b[38;5;28;01melse\u001b[39;00m:\n\u001b[0;32m    755\u001b[0m   \u001b[38;5;28mself\u001b[39m\u001b[38;5;241m.\u001b[39m_sess \u001b[38;5;241m=\u001b[39m \u001b[38;5;28mself\u001b[39m\u001b[38;5;241m.\u001b[39m_coordinated_creator\u001b[38;5;241m.\u001b[39mcreate_session()\n",
      "File \u001b[1;32m~\\AppData\\Roaming\\Python\\Python310\\site-packages\\tensorflow\\python\\training\\monitored_session.py:1259\u001b[0m, in \u001b[0;36m_RecoverableSession.__init__\u001b[1;34m(self, sess_creator)\u001b[0m\n\u001b[0;32m   1250\u001b[0m \u001b[38;5;250m\u001b[39m\u001b[38;5;124;03m\"\"\"Create a new `_RecoverableSession`.\u001b[39;00m\n\u001b[0;32m   1251\u001b[0m \n\u001b[0;32m   1252\u001b[0m \u001b[38;5;124;03mThe value returned by calling `sess_creator.create_session()` will be the\u001b[39;00m\n\u001b[1;32m   (...)\u001b[0m\n\u001b[0;32m   1256\u001b[0m \u001b[38;5;124;03m  sess_creator: A 'SessionCreator' to be wrapped by recoverable.\u001b[39;00m\n\u001b[0;32m   1257\u001b[0m \u001b[38;5;124;03m\"\"\"\u001b[39;00m\n\u001b[0;32m   1258\u001b[0m \u001b[38;5;28mself\u001b[39m\u001b[38;5;241m.\u001b[39m_sess_creator \u001b[38;5;241m=\u001b[39m sess_creator\n\u001b[1;32m-> 1259\u001b[0m _WrappedSession\u001b[38;5;241m.\u001b[39m\u001b[38;5;21m__init__\u001b[39m(\u001b[38;5;28mself\u001b[39m, \u001b[38;5;28;43mself\u001b[39;49m\u001b[38;5;241;43m.\u001b[39;49m\u001b[43m_create_session\u001b[49m\u001b[43m(\u001b[49m\u001b[43m)\u001b[49m)\n",
      "File \u001b[1;32m~\\AppData\\Roaming\\Python\\Python310\\site-packages\\tensorflow\\python\\training\\monitored_session.py:1264\u001b[0m, in \u001b[0;36m_RecoverableSession._create_session\u001b[1;34m(self)\u001b[0m\n\u001b[0;32m   1262\u001b[0m \u001b[38;5;28;01mwhile\u001b[39;00m \u001b[38;5;28;01mTrue\u001b[39;00m:\n\u001b[0;32m   1263\u001b[0m   \u001b[38;5;28;01mtry\u001b[39;00m:\n\u001b[1;32m-> 1264\u001b[0m     \u001b[38;5;28;01mreturn\u001b[39;00m \u001b[38;5;28;43mself\u001b[39;49m\u001b[38;5;241;43m.\u001b[39;49m\u001b[43m_sess_creator\u001b[49m\u001b[38;5;241;43m.\u001b[39;49m\u001b[43mcreate_session\u001b[49m\u001b[43m(\u001b[49m\u001b[43m)\u001b[49m\n\u001b[0;32m   1265\u001b[0m   \u001b[38;5;28;01mexcept\u001b[39;00m _PREEMPTION_ERRORS \u001b[38;5;28;01mas\u001b[39;00m e:\n\u001b[0;32m   1266\u001b[0m     logging\u001b[38;5;241m.\u001b[39minfo(\n\u001b[0;32m   1267\u001b[0m         \u001b[38;5;124m'\u001b[39m\u001b[38;5;124mAn error was raised while a session was being created. \u001b[39m\u001b[38;5;124m'\u001b[39m\n\u001b[0;32m   1268\u001b[0m         \u001b[38;5;124m'\u001b[39m\u001b[38;5;124mThis may be due to a preemption of a connected worker \u001b[39m\u001b[38;5;124m'\u001b[39m\n\u001b[1;32m   (...)\u001b[0m\n\u001b[0;32m   1273\u001b[0m         \u001b[38;5;124m'\u001b[39m\u001b[38;5;124mincreasing the number of parameter servers assigned to \u001b[39m\u001b[38;5;124m'\u001b[39m\n\u001b[0;32m   1274\u001b[0m         \u001b[38;5;124m'\u001b[39m\u001b[38;5;124mthe job. Error: \u001b[39m\u001b[38;5;132;01m%s\u001b[39;00m\u001b[38;5;124m'\u001b[39m, e)\n",
      "File \u001b[1;32m~\\AppData\\Roaming\\Python\\Python310\\site-packages\\tensorflow\\python\\training\\monitored_session.py:913\u001b[0m, in \u001b[0;36m_MonitoredSession._CoordinatedSessionCreator.create_session\u001b[1;34m(self)\u001b[0m\n\u001b[0;32m    911\u001b[0m \u001b[38;5;66;03m# Inform the hooks that a new session has been created.\u001b[39;00m\n\u001b[0;32m    912\u001b[0m \u001b[38;5;28;01mfor\u001b[39;00m hook \u001b[38;5;129;01min\u001b[39;00m \u001b[38;5;28mself\u001b[39m\u001b[38;5;241m.\u001b[39m_hooks:\n\u001b[1;32m--> 913\u001b[0m   \u001b[43mhook\u001b[49m\u001b[38;5;241;43m.\u001b[39;49m\u001b[43mafter_create_session\u001b[49m\u001b[43m(\u001b[49m\u001b[38;5;28;43mself\u001b[39;49m\u001b[38;5;241;43m.\u001b[39;49m\u001b[43mtf_sess\u001b[49m\u001b[43m,\u001b[49m\u001b[43m \u001b[49m\u001b[38;5;28;43mself\u001b[39;49m\u001b[38;5;241;43m.\u001b[39;49m\u001b[43mcoord\u001b[49m\u001b[43m)\u001b[49m\n\u001b[0;32m    914\u001b[0m \u001b[38;5;28;01mreturn\u001b[39;00m _CoordinatedSession(\n\u001b[0;32m    915\u001b[0m     _HookedSession(\u001b[38;5;28mself\u001b[39m\u001b[38;5;241m.\u001b[39mtf_sess, \u001b[38;5;28mself\u001b[39m\u001b[38;5;241m.\u001b[39m_hooks), \u001b[38;5;28mself\u001b[39m\u001b[38;5;241m.\u001b[39mcoord,\n\u001b[0;32m    916\u001b[0m     \u001b[38;5;28mself\u001b[39m\u001b[38;5;241m.\u001b[39m_stop_grace_period_secs)\n",
      "File \u001b[1;32m~\\AppData\\Roaming\\Python\\Python310\\site-packages\\tensorflow\\python\\training\\basic_session_run_hooks.py:601\u001b[0m, in \u001b[0;36mCheckpointSaverHook.after_create_session\u001b[1;34m(self, session, coord)\u001b[0m\n\u001b[0;32m    599\u001b[0m \u001b[38;5;28mself\u001b[39m\u001b[38;5;241m.\u001b[39m_summary_writer\u001b[38;5;241m.\u001b[39madd_meta_graph(meta_graph_def)\n\u001b[0;32m    600\u001b[0m \u001b[38;5;66;03m# The checkpoint saved here is the state at step \"global_step\".\u001b[39;00m\n\u001b[1;32m--> 601\u001b[0m \u001b[38;5;28;43mself\u001b[39;49m\u001b[38;5;241;43m.\u001b[39;49m\u001b[43m_save\u001b[49m\u001b[43m(\u001b[49m\u001b[43msession\u001b[49m\u001b[43m,\u001b[49m\u001b[43m \u001b[49m\u001b[43mglobal_step\u001b[49m\u001b[43m)\u001b[49m\n\u001b[0;32m    602\u001b[0m \u001b[38;5;28mself\u001b[39m\u001b[38;5;241m.\u001b[39m_timer\u001b[38;5;241m.\u001b[39mupdate_last_triggered_step(global_step)\n",
      "File \u001b[1;32m~\\AppData\\Roaming\\Python\\Python310\\site-packages\\tensorflow\\python\\training\\basic_session_run_hooks.py:633\u001b[0m, in \u001b[0;36mCheckpointSaverHook._save\u001b[1;34m(self, session, step)\u001b[0m\n\u001b[0;32m    630\u001b[0m   l\u001b[38;5;241m.\u001b[39mbefore_save(session, step)\n\u001b[0;32m    632\u001b[0m logging\u001b[38;5;241m.\u001b[39minfo(\u001b[38;5;124m\"\u001b[39m\u001b[38;5;124mSaving checkpoints for \u001b[39m\u001b[38;5;132;01m%d\u001b[39;00m\u001b[38;5;124m into \u001b[39m\u001b[38;5;132;01m%s\u001b[39;00m\u001b[38;5;124m.\u001b[39m\u001b[38;5;124m\"\u001b[39m, step, \u001b[38;5;28mself\u001b[39m\u001b[38;5;241m.\u001b[39m_save_path)\n\u001b[1;32m--> 633\u001b[0m \u001b[38;5;28;43mself\u001b[39;49m\u001b[38;5;241;43m.\u001b[39;49m\u001b[43m_get_saver\u001b[49m\u001b[43m(\u001b[49m\u001b[43m)\u001b[49m\u001b[38;5;241;43m.\u001b[39;49m\u001b[43msave\u001b[49m\u001b[43m(\u001b[49m\u001b[43msession\u001b[49m\u001b[43m,\u001b[49m\u001b[43m \u001b[49m\u001b[38;5;28;43mself\u001b[39;49m\u001b[38;5;241;43m.\u001b[39;49m\u001b[43m_save_path\u001b[49m\u001b[43m,\u001b[49m\u001b[43m \u001b[49m\u001b[43mglobal_step\u001b[49m\u001b[38;5;241;43m=\u001b[39;49m\u001b[43mstep\u001b[49m\u001b[43m,\u001b[49m\n\u001b[0;32m    634\u001b[0m \u001b[43m                       \u001b[49m\u001b[43mwrite_meta_graph\u001b[49m\u001b[38;5;241;43m=\u001b[39;49m\u001b[38;5;28;43mself\u001b[39;49m\u001b[38;5;241;43m.\u001b[39;49m\u001b[43m_save_graph_def\u001b[49m\u001b[43m)\u001b[49m\n\u001b[0;32m    635\u001b[0m \u001b[38;5;28mself\u001b[39m\u001b[38;5;241m.\u001b[39m_summary_writer\u001b[38;5;241m.\u001b[39madd_session_log(\n\u001b[0;32m    636\u001b[0m     SessionLog(\n\u001b[0;32m    637\u001b[0m         status\u001b[38;5;241m=\u001b[39mSessionLog\u001b[38;5;241m.\u001b[39mCHECKPOINT, checkpoint_path\u001b[38;5;241m=\u001b[39m\u001b[38;5;28mself\u001b[39m\u001b[38;5;241m.\u001b[39m_save_path),\n\u001b[0;32m    638\u001b[0m     step)\n\u001b[0;32m    639\u001b[0m logging\u001b[38;5;241m.\u001b[39minfo(\u001b[38;5;124m\"\u001b[39m\u001b[38;5;124mCalling checkpoint listeners after saving checkpoint \u001b[39m\u001b[38;5;132;01m%d\u001b[39;00m\u001b[38;5;124m...\u001b[39m\u001b[38;5;124m\"\u001b[39m,\n\u001b[0;32m    640\u001b[0m              step)\n",
      "File \u001b[1;32m~\\AppData\\Roaming\\Python\\Python310\\site-packages\\tensorflow\\python\\training\\saver.py:1306\u001b[0m, in \u001b[0;36mSaver.save\u001b[1;34m(self, sess, save_path, global_step, latest_filename, meta_graph_suffix, write_meta_graph, write_state, strip_default_attrs, save_debug_info)\u001b[0m\n\u001b[0;32m   1302\u001b[0m     \u001b[38;5;28;01mif\u001b[39;00m \u001b[38;5;129;01mnot\u001b[39;00m gfile\u001b[38;5;241m.\u001b[39mIsDirectory(save_path_parent):\n\u001b[0;32m   1303\u001b[0m       exc \u001b[38;5;241m=\u001b[39m \u001b[38;5;167;01mValueError\u001b[39;00m(\n\u001b[0;32m   1304\u001b[0m           \u001b[38;5;124m\"\u001b[39m\u001b[38;5;124mParent directory of \u001b[39m\u001b[38;5;132;01m{}\u001b[39;00m\u001b[38;5;124m doesn\u001b[39m\u001b[38;5;124m'\u001b[39m\u001b[38;5;124mt exist, can\u001b[39m\u001b[38;5;124m'\u001b[39m\u001b[38;5;124mt save.\u001b[39m\u001b[38;5;124m\"\u001b[39m\u001b[38;5;241m.\u001b[39mformat(\n\u001b[0;32m   1305\u001b[0m               save_path))\n\u001b[1;32m-> 1306\u001b[0m     \u001b[38;5;28;01mraise\u001b[39;00m exc\n\u001b[0;32m   1308\u001b[0m end_time \u001b[38;5;241m=\u001b[39m time\u001b[38;5;241m.\u001b[39mtime()\n\u001b[0;32m   1309\u001b[0m metrics\u001b[38;5;241m.\u001b[39mAddCheckpointWriteDuration(\n\u001b[0;32m   1310\u001b[0m     api_label\u001b[38;5;241m=\u001b[39m_SAVER_LABEL,\n\u001b[0;32m   1311\u001b[0m     microseconds\u001b[38;5;241m=\u001b[39m_get_duration_microseconds(start_time, end_time))\n",
      "File \u001b[1;32m~\\AppData\\Roaming\\Python\\Python310\\site-packages\\tensorflow\\python\\training\\saver.py:1287\u001b[0m, in \u001b[0;36mSaver.save\u001b[1;34m(self, sess, save_path, global_step, latest_filename, meta_graph_suffix, write_meta_graph, write_state, strip_default_attrs, save_debug_info)\u001b[0m\n\u001b[0;32m   1285\u001b[0m   model_checkpoint_path \u001b[38;5;241m=\u001b[39m \u001b[38;5;28mself\u001b[39m\u001b[38;5;241m.\u001b[39msaver_def\u001b[38;5;241m.\u001b[39msave_tensor_name\n\u001b[0;32m   1286\u001b[0m \u001b[38;5;28;01melse\u001b[39;00m:\n\u001b[1;32m-> 1287\u001b[0m   model_checkpoint_path \u001b[38;5;241m=\u001b[39m \u001b[43msess\u001b[49m\u001b[38;5;241;43m.\u001b[39;49m\u001b[43mrun\u001b[49m\u001b[43m(\u001b[49m\n\u001b[0;32m   1288\u001b[0m \u001b[43m      \u001b[49m\u001b[38;5;28;43mself\u001b[39;49m\u001b[38;5;241;43m.\u001b[39;49m\u001b[43msaver_def\u001b[49m\u001b[38;5;241;43m.\u001b[39;49m\u001b[43msave_tensor_name\u001b[49m\u001b[43m,\u001b[49m\n\u001b[0;32m   1289\u001b[0m \u001b[43m      \u001b[49m\u001b[43m{\u001b[49m\u001b[38;5;28;43mself\u001b[39;49m\u001b[38;5;241;43m.\u001b[39;49m\u001b[43msaver_def\u001b[49m\u001b[38;5;241;43m.\u001b[39;49m\u001b[43mfilename_tensor_name\u001b[49m\u001b[43m:\u001b[49m\u001b[43m \u001b[49m\u001b[43mcheckpoint_file\u001b[49m\u001b[43m}\u001b[49m\u001b[43m)\u001b[49m\n\u001b[0;32m   1291\u001b[0m model_checkpoint_path \u001b[38;5;241m=\u001b[39m compat\u001b[38;5;241m.\u001b[39mas_str(model_checkpoint_path)\n\u001b[0;32m   1292\u001b[0m \u001b[38;5;28;01mif\u001b[39;00m write_state:\n",
      "File \u001b[1;32m~\\AppData\\Roaming\\Python\\Python310\\site-packages\\tensorflow\\python\\client\\session.py:972\u001b[0m, in \u001b[0;36mBaseSession.run\u001b[1;34m(self, fetches, feed_dict, options, run_metadata)\u001b[0m\n\u001b[0;32m    969\u001b[0m run_metadata_ptr \u001b[38;5;241m=\u001b[39m tf_session\u001b[38;5;241m.\u001b[39mTF_NewBuffer() \u001b[38;5;28;01mif\u001b[39;00m run_metadata \u001b[38;5;28;01melse\u001b[39;00m \u001b[38;5;28;01mNone\u001b[39;00m\n\u001b[0;32m    971\u001b[0m \u001b[38;5;28;01mtry\u001b[39;00m:\n\u001b[1;32m--> 972\u001b[0m   result \u001b[38;5;241m=\u001b[39m \u001b[38;5;28;43mself\u001b[39;49m\u001b[38;5;241;43m.\u001b[39;49m\u001b[43m_run\u001b[49m\u001b[43m(\u001b[49m\u001b[38;5;28;43;01mNone\u001b[39;49;00m\u001b[43m,\u001b[49m\u001b[43m \u001b[49m\u001b[43mfetches\u001b[49m\u001b[43m,\u001b[49m\u001b[43m \u001b[49m\u001b[43mfeed_dict\u001b[49m\u001b[43m,\u001b[49m\u001b[43m \u001b[49m\u001b[43moptions_ptr\u001b[49m\u001b[43m,\u001b[49m\n\u001b[0;32m    973\u001b[0m \u001b[43m                     \u001b[49m\u001b[43mrun_metadata_ptr\u001b[49m\u001b[43m)\u001b[49m\n\u001b[0;32m    974\u001b[0m   \u001b[38;5;28;01mif\u001b[39;00m run_metadata:\n\u001b[0;32m    975\u001b[0m     proto_data \u001b[38;5;241m=\u001b[39m tf_session\u001b[38;5;241m.\u001b[39mTF_GetBuffer(run_metadata_ptr)\n",
      "File \u001b[1;32m~\\AppData\\Roaming\\Python\\Python310\\site-packages\\tensorflow\\python\\client\\session.py:1215\u001b[0m, in \u001b[0;36mBaseSession._run\u001b[1;34m(self, handle, fetches, feed_dict, options, run_metadata)\u001b[0m\n\u001b[0;32m   1212\u001b[0m \u001b[38;5;66;03m# We only want to really perform the run if fetches or targets are provided,\u001b[39;00m\n\u001b[0;32m   1213\u001b[0m \u001b[38;5;66;03m# or if the call is a partial run that specifies feeds.\u001b[39;00m\n\u001b[0;32m   1214\u001b[0m \u001b[38;5;28;01mif\u001b[39;00m final_fetches \u001b[38;5;129;01mor\u001b[39;00m final_targets \u001b[38;5;129;01mor\u001b[39;00m (handle \u001b[38;5;129;01mand\u001b[39;00m feed_dict_tensor):\n\u001b[1;32m-> 1215\u001b[0m   results \u001b[38;5;241m=\u001b[39m \u001b[38;5;28;43mself\u001b[39;49m\u001b[38;5;241;43m.\u001b[39;49m\u001b[43m_do_run\u001b[49m\u001b[43m(\u001b[49m\u001b[43mhandle\u001b[49m\u001b[43m,\u001b[49m\u001b[43m \u001b[49m\u001b[43mfinal_targets\u001b[49m\u001b[43m,\u001b[49m\u001b[43m \u001b[49m\u001b[43mfinal_fetches\u001b[49m\u001b[43m,\u001b[49m\n\u001b[0;32m   1216\u001b[0m \u001b[43m                         \u001b[49m\u001b[43mfeed_dict_tensor\u001b[49m\u001b[43m,\u001b[49m\u001b[43m \u001b[49m\u001b[43moptions\u001b[49m\u001b[43m,\u001b[49m\u001b[43m \u001b[49m\u001b[43mrun_metadata\u001b[49m\u001b[43m)\u001b[49m\n\u001b[0;32m   1217\u001b[0m \u001b[38;5;28;01melse\u001b[39;00m:\n\u001b[0;32m   1218\u001b[0m   results \u001b[38;5;241m=\u001b[39m []\n",
      "File \u001b[1;32m~\\AppData\\Roaming\\Python\\Python310\\site-packages\\tensorflow\\python\\client\\session.py:1395\u001b[0m, in \u001b[0;36mBaseSession._do_run\u001b[1;34m(self, handle, target_list, fetch_list, feed_dict, options, run_metadata)\u001b[0m\n\u001b[0;32m   1392\u001b[0m   \u001b[38;5;28;01mreturn\u001b[39;00m \u001b[38;5;28mself\u001b[39m\u001b[38;5;241m.\u001b[39m_call_tf_sessionprun(handle, feed_dict, fetch_list)\n\u001b[0;32m   1394\u001b[0m \u001b[38;5;28;01mif\u001b[39;00m handle \u001b[38;5;129;01mis\u001b[39;00m \u001b[38;5;28;01mNone\u001b[39;00m:\n\u001b[1;32m-> 1395\u001b[0m   \u001b[38;5;28;01mreturn\u001b[39;00m \u001b[38;5;28;43mself\u001b[39;49m\u001b[38;5;241;43m.\u001b[39;49m\u001b[43m_do_call\u001b[49m\u001b[43m(\u001b[49m\u001b[43m_run_fn\u001b[49m\u001b[43m,\u001b[49m\u001b[43m \u001b[49m\u001b[43mfeeds\u001b[49m\u001b[43m,\u001b[49m\u001b[43m \u001b[49m\u001b[43mfetches\u001b[49m\u001b[43m,\u001b[49m\u001b[43m \u001b[49m\u001b[43mtargets\u001b[49m\u001b[43m,\u001b[49m\u001b[43m \u001b[49m\u001b[43moptions\u001b[49m\u001b[43m,\u001b[49m\n\u001b[0;32m   1396\u001b[0m \u001b[43m                       \u001b[49m\u001b[43mrun_metadata\u001b[49m\u001b[43m)\u001b[49m\n\u001b[0;32m   1397\u001b[0m \u001b[38;5;28;01melse\u001b[39;00m:\n\u001b[0;32m   1398\u001b[0m   \u001b[38;5;28;01mreturn\u001b[39;00m \u001b[38;5;28mself\u001b[39m\u001b[38;5;241m.\u001b[39m_do_call(_prun_fn, handle, feeds, fetches)\n",
      "File \u001b[1;32m~\\AppData\\Roaming\\Python\\Python310\\site-packages\\tensorflow\\python\\client\\session.py:1421\u001b[0m, in \u001b[0;36mBaseSession._do_call\u001b[1;34m(self, fn, *args)\u001b[0m\n\u001b[0;32m   1416\u001b[0m \u001b[38;5;28;01mif\u001b[39;00m \u001b[38;5;124m'\u001b[39m\u001b[38;5;124monly supports NHWC tensor format\u001b[39m\u001b[38;5;124m'\u001b[39m \u001b[38;5;129;01min\u001b[39;00m message:\n\u001b[0;32m   1417\u001b[0m   message \u001b[38;5;241m+\u001b[39m\u001b[38;5;241m=\u001b[39m (\u001b[38;5;124m'\u001b[39m\u001b[38;5;130;01m\\n\u001b[39;00m\u001b[38;5;124mA possible workaround: Try disabling Grappler optimizer\u001b[39m\u001b[38;5;124m'\u001b[39m\n\u001b[0;32m   1418\u001b[0m               \u001b[38;5;124m'\u001b[39m\u001b[38;5;130;01m\\n\u001b[39;00m\u001b[38;5;124mby modifying the config for creating the session eg.\u001b[39m\u001b[38;5;124m'\u001b[39m\n\u001b[0;32m   1419\u001b[0m               \u001b[38;5;124m'\u001b[39m\u001b[38;5;130;01m\\n\u001b[39;00m\u001b[38;5;124msession_config.graph_options.rewrite_options.\u001b[39m\u001b[38;5;124m'\u001b[39m\n\u001b[0;32m   1420\u001b[0m               \u001b[38;5;124m'\u001b[39m\u001b[38;5;124mdisable_meta_optimizer = True\u001b[39m\u001b[38;5;124m'\u001b[39m)\n\u001b[1;32m-> 1421\u001b[0m \u001b[38;5;28;01mraise\u001b[39;00m \u001b[38;5;28mtype\u001b[39m(e)(node_def, op, message)\n",
      "\u001b[1;31mNotFoundError\u001b[0m: Graph execution error:\n\nDetected at node 'save/SaveV2' defined at (most recent call last):\n    File \"C:\\Program Files\\Python310\\lib\\runpy.py\", line 196, in _run_module_as_main\n    File \"C:\\Program Files\\Python310\\lib\\runpy.py\", line 86, in _run_code\n    File \"C:\\Users\\Osama\\AppData\\Roaming\\Python\\Python310\\site-packages\\ipykernel_launcher.py\", line 18, in <module>\n    File \"C:\\Users\\Osama\\AppData\\Roaming\\Python\\Python310\\site-packages\\traitlets\\config\\application.py\", line 1075, in launch_instance\n    File \"C:\\Users\\Osama\\AppData\\Roaming\\Python\\Python310\\site-packages\\ipykernel\\kernelapp.py\", line 739, in start\n    File \"C:\\Users\\Osama\\AppData\\Roaming\\Python\\Python310\\site-packages\\tornado\\platform\\asyncio.py\", line 205, in start\n    File \"C:\\Program Files\\Python310\\lib\\asyncio\\base_events.py\", line 595, in run_forever\n    File \"C:\\Program Files\\Python310\\lib\\asyncio\\base_events.py\", line 1881, in _run_once\n    File \"C:\\Program Files\\Python310\\lib\\asyncio\\events.py\", line 80, in _run\n    File \"C:\\Users\\Osama\\AppData\\Roaming\\Python\\Python310\\site-packages\\ipykernel\\kernelbase.py\", line 545, in dispatch_queue\n    File \"C:\\Users\\Osama\\AppData\\Roaming\\Python\\Python310\\site-packages\\ipykernel\\kernelbase.py\", line 534, in process_one\n    File \"C:\\Users\\Osama\\AppData\\Roaming\\Python\\Python310\\site-packages\\ipykernel\\kernelbase.py\", line 437, in dispatch_shell\n    File \"C:\\Users\\Osama\\AppData\\Roaming\\Python\\Python310\\site-packages\\ipykernel\\ipkernel.py\", line 362, in execute_request\n    File \"C:\\Users\\Osama\\AppData\\Roaming\\Python\\Python310\\site-packages\\ipykernel\\kernelbase.py\", line 778, in execute_request\n    File \"C:\\Users\\Osama\\AppData\\Roaming\\Python\\Python310\\site-packages\\ipykernel\\ipkernel.py\", line 449, in do_execute\n    File \"C:\\Users\\Osama\\AppData\\Roaming\\Python\\Python310\\site-packages\\ipykernel\\zmqshell.py\", line 549, in run_cell\n    File \"C:\\Users\\Osama\\AppData\\Roaming\\Python\\Python310\\site-packages\\IPython\\core\\interactiveshell.py\", line 3075, in run_cell\n    File \"C:\\Users\\Osama\\AppData\\Roaming\\Python\\Python310\\site-packages\\IPython\\core\\interactiveshell.py\", line 3130, in _run_cell\n    File \"C:\\Users\\Osama\\AppData\\Roaming\\Python\\Python310\\site-packages\\IPython\\core\\async_helpers.py\", line 128, in _pseudo_sync_runner\n    File \"C:\\Users\\Osama\\AppData\\Roaming\\Python\\Python310\\site-packages\\IPython\\core\\interactiveshell.py\", line 3334, in run_cell_async\n    File \"C:\\Users\\Osama\\AppData\\Roaming\\Python\\Python310\\site-packages\\IPython\\core\\interactiveshell.py\", line 3517, in run_ast_nodes\n    File \"C:\\Users\\Osama\\AppData\\Roaming\\Python\\Python310\\site-packages\\IPython\\core\\interactiveshell.py\", line 3577, in run_code\n    File \"C:\\Users\\Osama\\AppData\\Local\\Temp\\ipykernel_27544\\2737298148.py\", line 1, in <module>\n    File \"C:\\Users\\Osama\\AppData\\Roaming\\Python\\Python310\\site-packages\\tensorflow_estimator\\python\\estimator\\estimator.py\", line 360, in train\n    File \"C:\\Users\\Osama\\AppData\\Roaming\\Python\\Python310\\site-packages\\tensorflow_estimator\\python\\estimator\\estimator.py\", line 1188, in _train_model\n    File \"C:\\Users\\Osama\\AppData\\Roaming\\Python\\Python310\\site-packages\\tensorflow_estimator\\python\\estimator\\estimator.py\", line 1219, in _train_model_default\n    File \"C:\\Users\\Osama\\AppData\\Roaming\\Python\\Python310\\site-packages\\tensorflow_estimator\\python\\estimator\\estimator.py\", line 1514, in _train_with_estimator_spec\nNode: 'save/SaveV2'\nFailed to create a NewWriteableFile: ongoing/train\\model.ckpt-0_temp\\part-00000-of-00001.data-00000-of-00001.tempstate4894328738186611061 : The system cannot find the path specified.\r\n; No such process\n\t [[{{node save/SaveV2}}]]\n\nOriginal stack trace for 'save/SaveV2':\n  File \"C:\\Program Files\\Python310\\lib\\runpy.py\", line 196, in _run_module_as_main\n  File \"C:\\Program Files\\Python310\\lib\\runpy.py\", line 86, in _run_code\n  File \"C:\\Users\\Osama\\AppData\\Roaming\\Python\\Python310\\site-packages\\ipykernel_launcher.py\", line 18, in <module>\n  File \"C:\\Users\\Osama\\AppData\\Roaming\\Python\\Python310\\site-packages\\traitlets\\config\\application.py\", line 1075, in launch_instance\n  File \"C:\\Users\\Osama\\AppData\\Roaming\\Python\\Python310\\site-packages\\ipykernel\\kernelapp.py\", line 739, in start\n  File \"C:\\Users\\Osama\\AppData\\Roaming\\Python\\Python310\\site-packages\\tornado\\platform\\asyncio.py\", line 205, in start\n  File \"C:\\Program Files\\Python310\\lib\\asyncio\\base_events.py\", line 595, in run_forever\n  File \"C:\\Program Files\\Python310\\lib\\asyncio\\base_events.py\", line 1881, in _run_once\n  File \"C:\\Program Files\\Python310\\lib\\asyncio\\events.py\", line 80, in _run\n  File \"C:\\Users\\Osama\\AppData\\Roaming\\Python\\Python310\\site-packages\\ipykernel\\kernelbase.py\", line 545, in dispatch_queue\n  File \"C:\\Users\\Osama\\AppData\\Roaming\\Python\\Python310\\site-packages\\ipykernel\\kernelbase.py\", line 534, in process_one\n  File \"C:\\Users\\Osama\\AppData\\Roaming\\Python\\Python310\\site-packages\\ipykernel\\kernelbase.py\", line 437, in dispatch_shell\n  File \"C:\\Users\\Osama\\AppData\\Roaming\\Python\\Python310\\site-packages\\ipykernel\\ipkernel.py\", line 362, in execute_request\n  File \"C:\\Users\\Osama\\AppData\\Roaming\\Python\\Python310\\site-packages\\ipykernel\\kernelbase.py\", line 778, in execute_request\n  File \"C:\\Users\\Osama\\AppData\\Roaming\\Python\\Python310\\site-packages\\ipykernel\\ipkernel.py\", line 449, in do_execute\n  File \"C:\\Users\\Osama\\AppData\\Roaming\\Python\\Python310\\site-packages\\ipykernel\\zmqshell.py\", line 549, in run_cell\n  File \"C:\\Users\\Osama\\AppData\\Roaming\\Python\\Python310\\site-packages\\IPython\\core\\interactiveshell.py\", line 3075, in run_cell\n  File \"C:\\Users\\Osama\\AppData\\Roaming\\Python\\Python310\\site-packages\\IPython\\core\\interactiveshell.py\", line 3130, in _run_cell\n  File \"C:\\Users\\Osama\\AppData\\Roaming\\Python\\Python310\\site-packages\\IPython\\core\\async_helpers.py\", line 128, in _pseudo_sync_runner\n  File \"C:\\Users\\Osama\\AppData\\Roaming\\Python\\Python310\\site-packages\\IPython\\core\\interactiveshell.py\", line 3334, in run_cell_async\n  File \"C:\\Users\\Osama\\AppData\\Roaming\\Python\\Python310\\site-packages\\IPython\\core\\interactiveshell.py\", line 3517, in run_ast_nodes\n  File \"C:\\Users\\Osama\\AppData\\Roaming\\Python\\Python310\\site-packages\\IPython\\core\\interactiveshell.py\", line 3577, in run_code\n  File \"C:\\Users\\Osama\\AppData\\Local\\Temp\\ipykernel_27544\\2737298148.py\", line 1, in <module>\n  File \"C:\\Users\\Osama\\AppData\\Roaming\\Python\\Python310\\site-packages\\tensorflow_estimator\\python\\estimator\\estimator.py\", line 360, in train\n  File \"C:\\Users\\Osama\\AppData\\Roaming\\Python\\Python310\\site-packages\\tensorflow_estimator\\python\\estimator\\estimator.py\", line 1188, in _train_model\n  File \"C:\\Users\\Osama\\AppData\\Roaming\\Python\\Python310\\site-packages\\tensorflow_estimator\\python\\estimator\\estimator.py\", line 1219, in _train_model_default\n  File \"C:\\Users\\Osama\\AppData\\Roaming\\Python\\Python310\\site-packages\\tensorflow_estimator\\python\\estimator\\estimator.py\", line 1514, in _train_with_estimator_spec\n  File \"C:\\Users\\Osama\\AppData\\Roaming\\Python\\Python310\\site-packages\\tensorflow\\python\\training\\monitored_session.py\", line 606, in MonitoredTrainingSession\n  File \"C:\\Users\\Osama\\AppData\\Roaming\\Python\\Python310\\site-packages\\tensorflow\\python\\training\\monitored_session.py\", line 1050, in __init__\n  File \"C:\\Users\\Osama\\AppData\\Roaming\\Python\\Python310\\site-packages\\tensorflow\\python\\training\\monitored_session.py\", line 753, in __init__\n  File \"C:\\Users\\Osama\\AppData\\Roaming\\Python\\Python310\\site-packages\\tensorflow\\python\\training\\monitored_session.py\", line 1259, in __init__\n  File \"C:\\Users\\Osama\\AppData\\Roaming\\Python\\Python310\\site-packages\\tensorflow\\python\\training\\monitored_session.py\", line 1264, in _create_session\n  File \"C:\\Users\\Osama\\AppData\\Roaming\\Python\\Python310\\site-packages\\tensorflow\\python\\training\\monitored_session.py\", line 906, in create_session\n  File \"C:\\Users\\Osama\\AppData\\Roaming\\Python\\Python310\\site-packages\\tensorflow\\python\\training\\monitored_session.py\", line 664, in create_session\n  File \"C:\\Users\\Osama\\AppData\\Roaming\\Python\\Python310\\site-packages\\tensorflow\\python\\training\\monitored_session.py\", line 237, in finalize\n  File \"C:\\Users\\Osama\\AppData\\Roaming\\Python\\Python310\\site-packages\\tensorflow\\python\\training\\saver.py\", line 946, in build\n  File \"C:\\Users\\Osama\\AppData\\Roaming\\Python\\Python310\\site-packages\\tensorflow\\python\\training\\saver.py\", line 974, in _build\n  File \"C:\\Users\\Osama\\AppData\\Roaming\\Python\\Python310\\site-packages\\tensorflow\\python\\training\\saver.py\", line 535, in _build_internal\n  File \"C:\\Users\\Osama\\AppData\\Roaming\\Python\\Python310\\site-packages\\tensorflow\\python\\training\\saver.py\", line 324, in _AddShardedSaveOps\n  File \"C:\\Users\\Osama\\AppData\\Roaming\\Python\\Python310\\site-packages\\tensorflow\\python\\training\\saver.py\", line 298, in _AddShardedSaveOpsForV2\n  File \"C:\\Users\\Osama\\AppData\\Roaming\\Python\\Python310\\site-packages\\tensorflow\\python\\training\\saver.py\", line 230, in _AddSaveOps\n  File \"C:\\Users\\Osama\\AppData\\Roaming\\Python\\Python310\\site-packages\\tensorflow\\python\\training\\saver.py\", line 145, in save_op\n  File \"C:\\Users\\Osama\\AppData\\Roaming\\Python\\Python310\\site-packages\\tensorflow\\python\\ops\\gen_io_ops.py\", line 1734, in save_v2\n  File \"C:\\Users\\Osama\\AppData\\Roaming\\Python\\Python310\\site-packages\\tensorflow\\python\\framework\\op_def_library.py\", line 796, in _apply_op_helper\n  File \"C:\\Users\\Osama\\AppData\\Roaming\\Python\\Python310\\site-packages\\tensorflow\\python\\framework\\ops.py\", line 2652, in _create_op_internal\n  File \"C:\\Users\\Osama\\AppData\\Roaming\\Python\\Python310\\site-packages\\tensorflow\\python\\framework\\ops.py\", line 1160, in from_node_def\n"
     ]
    }
   ],
   "source": [
    "model.train(input_fn=get_input_fn(train_data, num_epochs=None, n_batch=128, shuffle=False), steps=1000)"
   ]
  },
  {
   "cell_type": "code",
   "execution_count": 32,
   "id": "e2c569aa-6132-4fbd-ac56-0bf397d16584",
   "metadata": {},
   "outputs": [
    {
     "name": "stdout",
     "output_type": "stream",
     "text": [
      "INFO:tensorflow:Could not find trained model in model_dir: ongoing/train, running initialization to evaluate.\n",
      "INFO:tensorflow:Calling model_fn.\n",
      "WARNING:tensorflow:From C:\\Users\\Osama\\AppData\\Roaming\\Python\\Python310\\site-packages\\tensorflow_estimator\\python\\estimator\\canned\\head.py:565: The name tf.metrics.mean is deprecated. Please use tf.compat.v1.metrics.mean instead.\n",
      "\n",
      "WARNING:tensorflow:From C:\\Users\\Osama\\AppData\\Roaming\\Python\\Python310\\site-packages\\tensorflow_estimator\\python\\estimator\\canned\\head.py:635: auc (from tensorflow.python.ops.metrics_impl) is deprecated and will be removed in a future version.\n",
      "Instructions for updating:\n",
      "The value of AUC returned by this may race with the update so this is deprecated. Please use tf.keras.metrics.AUC instead.\n",
      "WARNING:tensorflow:Trapezoidal rule is known to produce incorrect PR-AUCs; please switch to \"careful_interpolation\" instead.\n",
      "WARNING:tensorflow:Trapezoidal rule is known to produce incorrect PR-AUCs; please switch to \"careful_interpolation\" instead.\n",
      "INFO:tensorflow:Done calling model_fn.\n",
      "INFO:tensorflow:Starting evaluation at 2025-05-05T00:23:49\n",
      "WARNING:tensorflow:From C:\\Users\\Osama\\AppData\\Roaming\\Python\\Python310\\site-packages\\tensorflow\\python\\training\\evaluation.py:260: FinalOpsHook.__init__ (from tensorflow.python.training.basic_session_run_hooks) is deprecated and will be removed in a future version.\n",
      "Instructions for updating:\n",
      "Use tf.keras instead.\n",
      "INFO:tensorflow:Graph was finalized.\n",
      "INFO:tensorflow:Running local_init_op.\n",
      "INFO:tensorflow:Done running local_init_op.\n",
      "WARNING:tensorflow:From C:\\Users\\Osama\\AppData\\Roaming\\Python\\Python310\\site-packages\\tensorflow\\python\\training\\monitored_session.py:1455: SessionRunArgs.__new__ (from tensorflow.python.training.session_run_hook) is deprecated and will be removed in a future version.\n",
      "Instructions for updating:\n",
      "Use tf.keras instead.\n",
      "WARNING:tensorflow:From C:\\Users\\Osama\\AppData\\Roaming\\Python\\Python310\\site-packages\\tensorflow\\python\\training\\monitored_session.py:1454: SessionRunContext.__init__ (from tensorflow.python.training.session_run_hook) is deprecated and will be removed in a future version.\n",
      "Instructions for updating:\n",
      "Use tf.keras instead.\n",
      "WARNING:tensorflow:From C:\\Users\\Osama\\AppData\\Roaming\\Python\\Python310\\site-packages\\tensorflow\\python\\training\\monitored_session.py:1474: SessionRunValues.__new__ (from tensorflow.python.training.session_run_hook) is deprecated and will be removed in a future version.\n",
      "Instructions for updating:\n",
      "Use tf.keras instead.\n",
      "INFO:tensorflow:Evaluation [100/1000]\n",
      "INFO:tensorflow:Evaluation [200/1000]\n",
      "INFO:tensorflow:Evaluation [300/1000]\n",
      "INFO:tensorflow:Evaluation [400/1000]\n",
      "INFO:tensorflow:Evaluation [500/1000]\n",
      "INFO:tensorflow:Evaluation [600/1000]\n",
      "INFO:tensorflow:Evaluation [700/1000]\n",
      "INFO:tensorflow:Evaluation [800/1000]\n",
      "INFO:tensorflow:Evaluation [900/1000]\n",
      "INFO:tensorflow:Evaluation [1000/1000]\n",
      "INFO:tensorflow:Inference Time : 2.84004s\n",
      "INFO:tensorflow:Finished evaluation at 2025-05-05-00:23:52\n",
      "INFO:tensorflow:Saving dict for global step 0: accuracy = 0.7594297, accuracy_baseline = 0.7594297, auc = 0.5, auc_precision_recall = 0.62028515, average_loss = 0.6931538, global_step = 0, label/mean = 0.2405703, loss = 88.72369, precision = 0.0, prediction/mean = 0.5, recall = 0.0\n"
     ]
    },
    {
     "data": {
      "text/plain": [
       "{'accuracy': 0.7594297,\n",
       " 'accuracy_baseline': 0.7594297,\n",
       " 'auc': 0.5,\n",
       " 'auc_precision_recall': 0.62028515,\n",
       " 'average_loss': 0.6931538,\n",
       " 'label/mean': 0.2405703,\n",
       " 'loss': 88.72369,\n",
       " 'precision': 0.0,\n",
       " 'prediction/mean': 0.5,\n",
       " 'recall': 0.0,\n",
       " 'global_step': 0}"
      ]
     },
     "execution_count": 32,
     "metadata": {},
     "output_type": "execute_result"
    }
   ],
   "source": [
    "model.evaluate(input_fn=get_input_fn(train_data, num_epochs=None, n_batch=128, shuffle=False), steps=1000)"
   ]
  },
  {
   "cell_type": "code",
   "execution_count": 33,
   "id": "42f9e98d-15b5-44f7-8249-4cf7fa0d6e3e",
   "metadata": {},
   "outputs": [],
   "source": [
    "def square_var(df_t, df_te, var_name='age'):\n",
    "    df_t['new'] = df_t[var_name].pow(2)\n",
    "    df_te['new'] = df_te[var_name].pow(2)\n",
    "    return df_t, df_te"
   ]
  },
  {
   "cell_type": "code",
   "execution_count": 35,
   "id": "6a684ccf-cfc1-459e-909a-a02f6c43447a",
   "metadata": {},
   "outputs": [],
   "source": [
    "df_train_new, df_test_new = square_var(train_data, test_data, var_name='age')"
   ]
  },
  {
   "cell_type": "code",
   "execution_count": 36,
   "id": "3c92a846-c684-4deb-804c-54547eb64bd4",
   "metadata": {},
   "outputs": [
    {
     "name": "stdout",
     "output_type": "stream",
     "text": [
      "(32561, 16) (16281, 16)\n"
     ]
    }
   ],
   "source": [
    "print(df_train_new.shape, df_test_new.shape)"
   ]
  },
  {
   "cell_type": "code",
   "execution_count": 37,
   "id": "b3c91d2e-a18d-4b4d-a864-bf1dc0bb00fc",
   "metadata": {},
   "outputs": [],
   "source": [
    "CONTI_FEATURES_NEW = ['age', 'fnlwgt', 'capital_gain', 'education_num', 'capital_loss', 'hours_per_week', 'new']\n",
    "continuous_features_new = [tf.feature_column.numeric_column(k) for k in CONTI_FEATURES_NEW]\n"
   ]
  },
  {
   "cell_type": "code",
   "execution_count": 38,
   "id": "b01ddaa0-7153-4752-bbea-556f4aaf84a2",
   "metadata": {},
   "outputs": [
    {
     "name": "stdout",
     "output_type": "stream",
     "text": [
      "INFO:tensorflow:Using default config.\n",
      "INFO:tensorflow:Using config: {'_model_dir': 'ongoing/train1', '_tf_random_seed': None, '_save_summary_steps': 100, '_save_checkpoints_steps': None, '_save_checkpoints_secs': 600, '_session_config': allow_soft_placement: true\n",
      "graph_options {\n",
      "  rewrite_options {\n",
      "    meta_optimizer_iterations: ONE\n",
      "  }\n",
      "}\n",
      ", '_keep_checkpoint_max': 5, '_keep_checkpoint_every_n_hours': 10000, '_log_step_count_steps': 100, '_train_distribute': None, '_device_fn': None, '_protocol': None, '_eval_distribute': None, '_experimental_distribute': None, '_experimental_max_worker_delay_secs': None, '_session_creation_timeout_secs': 7200, '_checkpoint_save_graph_def': True, '_service': None, '_cluster_spec': ClusterSpec({}), '_task_type': 'worker', '_task_id': 0, '_global_id_in_cluster': 0, '_master': '', '_evaluation_master': '', '_is_chief': True, '_num_ps_replicas': 0, '_num_worker_replicas': 1}\n"
     ]
    }
   ],
   "source": [
    "model_1= tf.compat.v1.estimator.LinearClassifier(\n",
    "model_dir=\"ongoing/train1\",\n",
    "feature_columns=categorical_features+ continuous_features_new)"
   ]
  },
  {
   "cell_type": "code",
   "execution_count": 39,
   "id": "5027c046-5963-4d0c-9c29-c91ed9820742",
   "metadata": {},
   "outputs": [],
   "source": [
    "FEATURES_NEW = ['age', 'workclass', 'fnlwgt', 'education', 'education_num', \n",
    "            'marital_status', 'occupation', 'relationship', 'race', 'sex', \n",
    "            'capital_gain', 'capital_loss', 'hours_per_week', 'native_country','new']\n",
    "for feature in FEATURES_NEW:\n",
    "    if feature not in train_data.columns:\n",
    "        print(f\"Warning: {feature} is missing from the dataset!\")\n",
    "LABEL = 'income'\n",
    "\n",
    "def get_input_fn(data_set, num_epochs=None, n_batch=128, shuffle=True):\n",
    "    return tf.compat.v1.estimator.inputs.pandas_input_fn(\n",
    "        x=pd.DataFrame({k: data_set[k].values for k in FEATURES_NEW}),\n",
    "        y=pd.Series(data_set[LABEL].values),\n",
    "        batch_size=n_batch,\n",
    "        num_epochs=num_epochs,\n",
    "        shuffle=shuffle)"
   ]
  },
  {
   "cell_type": "code",
   "execution_count": 41,
   "id": "9c7afcb3-ae8e-4dc2-b051-934d83ef9b1e",
   "metadata": {},
   "outputs": [],
   "source": [
    "import os\n",
    "os.makedirs(\"ongoing/train1\", exist_ok=True)"
   ]
  },
  {
   "cell_type": "code",
   "execution_count": 44,
   "id": "350542f7-c603-4949-bcc3-ac285790554c",
   "metadata": {},
   "outputs": [
    {
     "name": "stdout",
     "output_type": "stream",
     "text": [
      "WARNING:tensorflow:From C:\\Users\\Osama\\AppData\\Local\\Temp\\ipykernel_27544\\2950439267.py:2: LinearClassifierV2.__init__ (from tensorflow_estimator.python.estimator.canned.linear) is deprecated and will be removed in a future version.\n",
      "Instructions for updating:\n",
      "Use tf.keras instead.\n",
      "WARNING:tensorflow:From C:\\Users\\Osama\\AppData\\Roaming\\Python\\Python310\\site-packages\\tensorflow_estimator\\python\\estimator\\head\\head_utils.py:54: BinaryClassHead.__init__ (from tensorflow_estimator.python.estimator.head.binary_class_head) is deprecated and will be removed in a future version.\n",
      "Instructions for updating:\n",
      "Use tf.keras instead.\n",
      "INFO:tensorflow:Using default config.\n",
      "INFO:tensorflow:Using config: {'_model_dir': 'C:/Users/Osama/OneDrive/Desktop/Muffin-cupcake/Deeplearning', '_tf_random_seed': None, '_save_summary_steps': 100, '_save_checkpoints_steps': None, '_save_checkpoints_secs': 600, '_session_config': allow_soft_placement: true\n",
      "graph_options {\n",
      "  rewrite_options {\n",
      "    meta_optimizer_iterations: ONE\n",
      "  }\n",
      "}\n",
      ", '_keep_checkpoint_max': 5, '_keep_checkpoint_every_n_hours': 10000, '_log_step_count_steps': 100, '_train_distribute': None, '_device_fn': None, '_protocol': None, '_eval_distribute': None, '_experimental_distribute': None, '_experimental_max_worker_delay_secs': None, '_session_creation_timeout_secs': 7200, '_checkpoint_save_graph_def': True, '_service': None, '_cluster_spec': ClusterSpec({}), '_task_type': 'worker', '_task_id': 0, '_global_id_in_cluster': 0, '_master': '', '_evaluation_master': '', '_is_chief': True, '_num_ps_replicas': 0, '_num_worker_replicas': 1}\n"
     ]
    }
   ],
   "source": [
    "model_dir = 'C:/Users/Osama/OneDrive/Desktop/Muffin-cupcake/Deeplearning'\n",
    "model_1 = tf.estimator.LinearClassifier(n_classes=2, model_dir=model_dir, feature_columns=categorical_features + continuous_features_new)"
   ]
  },
  {
   "cell_type": "code",
   "execution_count": 46,
   "id": "edac96ed-ac3c-4b41-b829-8ecca220c743",
   "metadata": {},
   "outputs": [],
   "source": [
    "model_dir = \"C:/Users/Osama/OneDrive/Desktop/Muffin-cupcake/Deeplearning\""
   ]
  },
  {
   "cell_type": "code",
   "execution_count": 47,
   "id": "35d06be8-cde1-4f4a-8b9e-8106afb2343a",
   "metadata": {
    "scrolled": true
   },
   "outputs": [
    {
     "name": "stdout",
     "output_type": "stream",
     "text": [
      "INFO:tensorflow:Calling model_fn.\n",
      "INFO:tensorflow:Done calling model_fn.\n",
      "INFO:tensorflow:Create CheckpointSaverHook.\n",
      "INFO:tensorflow:Graph was finalized.\n",
      "INFO:tensorflow:Running local_init_op.\n",
      "INFO:tensorflow:Done running local_init_op.\n",
      "INFO:tensorflow:Calling checkpoint listeners before saving checkpoint 0...\n",
      "INFO:tensorflow:Saving checkpoints for 0 into C:/Users/Osama/OneDrive/Desktop/Muffin-cupcake/Deeplearning\\model.ckpt.\n"
     ]
    },
    {
     "ename": "NotFoundError",
     "evalue": "Graph execution error:\n\nDetected at node 'save/SaveV2' defined at (most recent call last):\n    File \"C:\\Program Files\\Python310\\lib\\runpy.py\", line 196, in _run_module_as_main\n    File \"C:\\Program Files\\Python310\\lib\\runpy.py\", line 86, in _run_code\n    File \"C:\\Users\\Osama\\AppData\\Roaming\\Python\\Python310\\site-packages\\ipykernel_launcher.py\", line 18, in <module>\n    File \"C:\\Users\\Osama\\AppData\\Roaming\\Python\\Python310\\site-packages\\traitlets\\config\\application.py\", line 1075, in launch_instance\n    File \"C:\\Users\\Osama\\AppData\\Roaming\\Python\\Python310\\site-packages\\ipykernel\\kernelapp.py\", line 739, in start\n    File \"C:\\Users\\Osama\\AppData\\Roaming\\Python\\Python310\\site-packages\\tornado\\platform\\asyncio.py\", line 205, in start\n    File \"C:\\Program Files\\Python310\\lib\\asyncio\\base_events.py\", line 595, in run_forever\n    File \"C:\\Program Files\\Python310\\lib\\asyncio\\base_events.py\", line 1881, in _run_once\n    File \"C:\\Program Files\\Python310\\lib\\asyncio\\events.py\", line 80, in _run\n    File \"C:\\Users\\Osama\\AppData\\Roaming\\Python\\Python310\\site-packages\\ipykernel\\kernelbase.py\", line 545, in dispatch_queue\n    File \"C:\\Users\\Osama\\AppData\\Roaming\\Python\\Python310\\site-packages\\ipykernel\\kernelbase.py\", line 534, in process_one\n    File \"C:\\Users\\Osama\\AppData\\Roaming\\Python\\Python310\\site-packages\\ipykernel\\kernelbase.py\", line 437, in dispatch_shell\n    File \"C:\\Users\\Osama\\AppData\\Roaming\\Python\\Python310\\site-packages\\ipykernel\\ipkernel.py\", line 362, in execute_request\n    File \"C:\\Users\\Osama\\AppData\\Roaming\\Python\\Python310\\site-packages\\ipykernel\\kernelbase.py\", line 778, in execute_request\n    File \"C:\\Users\\Osama\\AppData\\Roaming\\Python\\Python310\\site-packages\\ipykernel\\ipkernel.py\", line 449, in do_execute\n    File \"C:\\Users\\Osama\\AppData\\Roaming\\Python\\Python310\\site-packages\\ipykernel\\zmqshell.py\", line 549, in run_cell\n    File \"C:\\Users\\Osama\\AppData\\Roaming\\Python\\Python310\\site-packages\\IPython\\core\\interactiveshell.py\", line 3075, in run_cell\n    File \"C:\\Users\\Osama\\AppData\\Roaming\\Python\\Python310\\site-packages\\IPython\\core\\interactiveshell.py\", line 3130, in _run_cell\n    File \"C:\\Users\\Osama\\AppData\\Roaming\\Python\\Python310\\site-packages\\IPython\\core\\async_helpers.py\", line 128, in _pseudo_sync_runner\n    File \"C:\\Users\\Osama\\AppData\\Roaming\\Python\\Python310\\site-packages\\IPython\\core\\interactiveshell.py\", line 3334, in run_cell_async\n    File \"C:\\Users\\Osama\\AppData\\Roaming\\Python\\Python310\\site-packages\\IPython\\core\\interactiveshell.py\", line 3517, in run_ast_nodes\n    File \"C:\\Users\\Osama\\AppData\\Roaming\\Python\\Python310\\site-packages\\IPython\\core\\interactiveshell.py\", line 3577, in run_code\n    File \"C:\\Users\\Osama\\AppData\\Local\\Temp\\ipykernel_27544\\220954500.py\", line 1, in <module>\n    File \"C:\\Users\\Osama\\AppData\\Roaming\\Python\\Python310\\site-packages\\tensorflow_estimator\\python\\estimator\\estimator.py\", line 360, in train\n    File \"C:\\Users\\Osama\\AppData\\Roaming\\Python\\Python310\\site-packages\\tensorflow_estimator\\python\\estimator\\estimator.py\", line 1188, in _train_model\n    File \"C:\\Users\\Osama\\AppData\\Roaming\\Python\\Python310\\site-packages\\tensorflow_estimator\\python\\estimator\\estimator.py\", line 1219, in _train_model_default\n    File \"C:\\Users\\Osama\\AppData\\Roaming\\Python\\Python310\\site-packages\\tensorflow_estimator\\python\\estimator\\estimator.py\", line 1514, in _train_with_estimator_spec\nNode: 'save/SaveV2'\nFailed to create a NewWriteableFile: C:/Users/Osama/OneDrive/Desktop/Muffin-cupcake/Deeplearning\\model.ckpt-0_temp\\part-00000-of-00001.data-00000-of-00001.tempstate2789190310308240140 : The system cannot find the path specified.\r\n; No such process\n\t [[{{node save/SaveV2}}]]\n\nOriginal stack trace for 'save/SaveV2':\n  File \"C:\\Program Files\\Python310\\lib\\runpy.py\", line 196, in _run_module_as_main\n  File \"C:\\Program Files\\Python310\\lib\\runpy.py\", line 86, in _run_code\n  File \"C:\\Users\\Osama\\AppData\\Roaming\\Python\\Python310\\site-packages\\ipykernel_launcher.py\", line 18, in <module>\n  File \"C:\\Users\\Osama\\AppData\\Roaming\\Python\\Python310\\site-packages\\traitlets\\config\\application.py\", line 1075, in launch_instance\n  File \"C:\\Users\\Osama\\AppData\\Roaming\\Python\\Python310\\site-packages\\ipykernel\\kernelapp.py\", line 739, in start\n  File \"C:\\Users\\Osama\\AppData\\Roaming\\Python\\Python310\\site-packages\\tornado\\platform\\asyncio.py\", line 205, in start\n  File \"C:\\Program Files\\Python310\\lib\\asyncio\\base_events.py\", line 595, in run_forever\n  File \"C:\\Program Files\\Python310\\lib\\asyncio\\base_events.py\", line 1881, in _run_once\n  File \"C:\\Program Files\\Python310\\lib\\asyncio\\events.py\", line 80, in _run\n  File \"C:\\Users\\Osama\\AppData\\Roaming\\Python\\Python310\\site-packages\\ipykernel\\kernelbase.py\", line 545, in dispatch_queue\n  File \"C:\\Users\\Osama\\AppData\\Roaming\\Python\\Python310\\site-packages\\ipykernel\\kernelbase.py\", line 534, in process_one\n  File \"C:\\Users\\Osama\\AppData\\Roaming\\Python\\Python310\\site-packages\\ipykernel\\kernelbase.py\", line 437, in dispatch_shell\n  File \"C:\\Users\\Osama\\AppData\\Roaming\\Python\\Python310\\site-packages\\ipykernel\\ipkernel.py\", line 362, in execute_request\n  File \"C:\\Users\\Osama\\AppData\\Roaming\\Python\\Python310\\site-packages\\ipykernel\\kernelbase.py\", line 778, in execute_request\n  File \"C:\\Users\\Osama\\AppData\\Roaming\\Python\\Python310\\site-packages\\ipykernel\\ipkernel.py\", line 449, in do_execute\n  File \"C:\\Users\\Osama\\AppData\\Roaming\\Python\\Python310\\site-packages\\ipykernel\\zmqshell.py\", line 549, in run_cell\n  File \"C:\\Users\\Osama\\AppData\\Roaming\\Python\\Python310\\site-packages\\IPython\\core\\interactiveshell.py\", line 3075, in run_cell\n  File \"C:\\Users\\Osama\\AppData\\Roaming\\Python\\Python310\\site-packages\\IPython\\core\\interactiveshell.py\", line 3130, in _run_cell\n  File \"C:\\Users\\Osama\\AppData\\Roaming\\Python\\Python310\\site-packages\\IPython\\core\\async_helpers.py\", line 128, in _pseudo_sync_runner\n  File \"C:\\Users\\Osama\\AppData\\Roaming\\Python\\Python310\\site-packages\\IPython\\core\\interactiveshell.py\", line 3334, in run_cell_async\n  File \"C:\\Users\\Osama\\AppData\\Roaming\\Python\\Python310\\site-packages\\IPython\\core\\interactiveshell.py\", line 3517, in run_ast_nodes\n  File \"C:\\Users\\Osama\\AppData\\Roaming\\Python\\Python310\\site-packages\\IPython\\core\\interactiveshell.py\", line 3577, in run_code\n  File \"C:\\Users\\Osama\\AppData\\Local\\Temp\\ipykernel_27544\\220954500.py\", line 1, in <module>\n  File \"C:\\Users\\Osama\\AppData\\Roaming\\Python\\Python310\\site-packages\\tensorflow_estimator\\python\\estimator\\estimator.py\", line 360, in train\n  File \"C:\\Users\\Osama\\AppData\\Roaming\\Python\\Python310\\site-packages\\tensorflow_estimator\\python\\estimator\\estimator.py\", line 1188, in _train_model\n  File \"C:\\Users\\Osama\\AppData\\Roaming\\Python\\Python310\\site-packages\\tensorflow_estimator\\python\\estimator\\estimator.py\", line 1219, in _train_model_default\n  File \"C:\\Users\\Osama\\AppData\\Roaming\\Python\\Python310\\site-packages\\tensorflow_estimator\\python\\estimator\\estimator.py\", line 1514, in _train_with_estimator_spec\n  File \"C:\\Users\\Osama\\AppData\\Roaming\\Python\\Python310\\site-packages\\tensorflow\\python\\training\\monitored_session.py\", line 606, in MonitoredTrainingSession\n  File \"C:\\Users\\Osama\\AppData\\Roaming\\Python\\Python310\\site-packages\\tensorflow\\python\\training\\monitored_session.py\", line 1050, in __init__\n  File \"C:\\Users\\Osama\\AppData\\Roaming\\Python\\Python310\\site-packages\\tensorflow\\python\\training\\monitored_session.py\", line 753, in __init__\n  File \"C:\\Users\\Osama\\AppData\\Roaming\\Python\\Python310\\site-packages\\tensorflow\\python\\training\\monitored_session.py\", line 1259, in __init__\n  File \"C:\\Users\\Osama\\AppData\\Roaming\\Python\\Python310\\site-packages\\tensorflow\\python\\training\\monitored_session.py\", line 1264, in _create_session\n  File \"C:\\Users\\Osama\\AppData\\Roaming\\Python\\Python310\\site-packages\\tensorflow\\python\\training\\monitored_session.py\", line 906, in create_session\n  File \"C:\\Users\\Osama\\AppData\\Roaming\\Python\\Python310\\site-packages\\tensorflow\\python\\training\\monitored_session.py\", line 664, in create_session\n  File \"C:\\Users\\Osama\\AppData\\Roaming\\Python\\Python310\\site-packages\\tensorflow\\python\\training\\monitored_session.py\", line 237, in finalize\n  File \"C:\\Users\\Osama\\AppData\\Roaming\\Python\\Python310\\site-packages\\tensorflow\\python\\training\\saver.py\", line 946, in build\n  File \"C:\\Users\\Osama\\AppData\\Roaming\\Python\\Python310\\site-packages\\tensorflow\\python\\training\\saver.py\", line 974, in _build\n  File \"C:\\Users\\Osama\\AppData\\Roaming\\Python\\Python310\\site-packages\\tensorflow\\python\\training\\saver.py\", line 535, in _build_internal\n  File \"C:\\Users\\Osama\\AppData\\Roaming\\Python\\Python310\\site-packages\\tensorflow\\python\\training\\saver.py\", line 324, in _AddShardedSaveOps\n  File \"C:\\Users\\Osama\\AppData\\Roaming\\Python\\Python310\\site-packages\\tensorflow\\python\\training\\saver.py\", line 298, in _AddShardedSaveOpsForV2\n  File \"C:\\Users\\Osama\\AppData\\Roaming\\Python\\Python310\\site-packages\\tensorflow\\python\\training\\saver.py\", line 230, in _AddSaveOps\n  File \"C:\\Users\\Osama\\AppData\\Roaming\\Python\\Python310\\site-packages\\tensorflow\\python\\training\\saver.py\", line 145, in save_op\n  File \"C:\\Users\\Osama\\AppData\\Roaming\\Python\\Python310\\site-packages\\tensorflow\\python\\ops\\gen_io_ops.py\", line 1734, in save_v2\n  File \"C:\\Users\\Osama\\AppData\\Roaming\\Python\\Python310\\site-packages\\tensorflow\\python\\framework\\op_def_library.py\", line 796, in _apply_op_helper\n  File \"C:\\Users\\Osama\\AppData\\Roaming\\Python\\Python310\\site-packages\\tensorflow\\python\\framework\\ops.py\", line 2652, in _create_op_internal\n  File \"C:\\Users\\Osama\\AppData\\Roaming\\Python\\Python310\\site-packages\\tensorflow\\python\\framework\\ops.py\", line 1160, in from_node_def\n",
     "output_type": "error",
     "traceback": [
      "\u001b[1;31m---------------------------------------------------------------------------\u001b[0m",
      "\u001b[1;31mNotFoundError\u001b[0m                             Traceback (most recent call last)",
      "File \u001b[1;32m~\\AppData\\Roaming\\Python\\Python310\\site-packages\\tensorflow\\python\\client\\session.py:1402\u001b[0m, in \u001b[0;36mBaseSession._do_call\u001b[1;34m(self, fn, *args)\u001b[0m\n\u001b[0;32m   1401\u001b[0m \u001b[38;5;28;01mtry\u001b[39;00m:\n\u001b[1;32m-> 1402\u001b[0m   \u001b[38;5;28;01mreturn\u001b[39;00m \u001b[43mfn\u001b[49m\u001b[43m(\u001b[49m\u001b[38;5;241;43m*\u001b[39;49m\u001b[43margs\u001b[49m\u001b[43m)\u001b[49m\n\u001b[0;32m   1403\u001b[0m \u001b[38;5;28;01mexcept\u001b[39;00m errors\u001b[38;5;241m.\u001b[39mOpError \u001b[38;5;28;01mas\u001b[39;00m e:\n",
      "File \u001b[1;32m~\\AppData\\Roaming\\Python\\Python310\\site-packages\\tensorflow\\python\\client\\session.py:1385\u001b[0m, in \u001b[0;36mBaseSession._do_run.<locals>._run_fn\u001b[1;34m(feed_dict, fetch_list, target_list, options, run_metadata)\u001b[0m\n\u001b[0;32m   1384\u001b[0m \u001b[38;5;28mself\u001b[39m\u001b[38;5;241m.\u001b[39m_extend_graph()\n\u001b[1;32m-> 1385\u001b[0m \u001b[38;5;28;01mreturn\u001b[39;00m \u001b[38;5;28;43mself\u001b[39;49m\u001b[38;5;241;43m.\u001b[39;49m\u001b[43m_call_tf_sessionrun\u001b[49m\u001b[43m(\u001b[49m\u001b[43moptions\u001b[49m\u001b[43m,\u001b[49m\u001b[43m \u001b[49m\u001b[43mfeed_dict\u001b[49m\u001b[43m,\u001b[49m\u001b[43m \u001b[49m\u001b[43mfetch_list\u001b[49m\u001b[43m,\u001b[49m\n\u001b[0;32m   1386\u001b[0m \u001b[43m                                \u001b[49m\u001b[43mtarget_list\u001b[49m\u001b[43m,\u001b[49m\u001b[43m \u001b[49m\u001b[43mrun_metadata\u001b[49m\u001b[43m)\u001b[49m\n",
      "File \u001b[1;32m~\\AppData\\Roaming\\Python\\Python310\\site-packages\\tensorflow\\python\\client\\session.py:1478\u001b[0m, in \u001b[0;36mBaseSession._call_tf_sessionrun\u001b[1;34m(self, options, feed_dict, fetch_list, target_list, run_metadata)\u001b[0m\n\u001b[0;32m   1476\u001b[0m \u001b[38;5;28;01mdef\u001b[39;00m\u001b[38;5;250m \u001b[39m\u001b[38;5;21m_call_tf_sessionrun\u001b[39m(\u001b[38;5;28mself\u001b[39m, options, feed_dict, fetch_list, target_list,\n\u001b[0;32m   1477\u001b[0m                         run_metadata):\n\u001b[1;32m-> 1478\u001b[0m   \u001b[38;5;28;01mreturn\u001b[39;00m \u001b[43mtf_session\u001b[49m\u001b[38;5;241;43m.\u001b[39;49m\u001b[43mTF_SessionRun_wrapper\u001b[49m\u001b[43m(\u001b[49m\u001b[38;5;28;43mself\u001b[39;49m\u001b[38;5;241;43m.\u001b[39;49m\u001b[43m_session\u001b[49m\u001b[43m,\u001b[49m\u001b[43m \u001b[49m\u001b[43moptions\u001b[49m\u001b[43m,\u001b[49m\u001b[43m \u001b[49m\u001b[43mfeed_dict\u001b[49m\u001b[43m,\u001b[49m\n\u001b[0;32m   1479\u001b[0m \u001b[43m                                          \u001b[49m\u001b[43mfetch_list\u001b[49m\u001b[43m,\u001b[49m\u001b[43m \u001b[49m\u001b[43mtarget_list\u001b[49m\u001b[43m,\u001b[49m\n\u001b[0;32m   1480\u001b[0m \u001b[43m                                          \u001b[49m\u001b[43mrun_metadata\u001b[49m\u001b[43m)\u001b[49m\n",
      "\u001b[1;31mNotFoundError\u001b[0m: Failed to create a NewWriteableFile: C:/Users/Osama/OneDrive/Desktop/Muffin-cupcake/Deeplearning\\model.ckpt-0_temp\\part-00000-of-00001.data-00000-of-00001.tempstate2789190310308240140 : The system cannot find the path specified.\r\n; No such process\n\t [[{{node save/SaveV2}}]]",
      "\nDuring handling of the above exception, another exception occurred:\n",
      "\u001b[1;31mNotFoundError\u001b[0m                             Traceback (most recent call last)",
      "Cell \u001b[1;32mIn[47], line 1\u001b[0m\n\u001b[1;32m----> 1\u001b[0m \u001b[43mmodel_1\u001b[49m\u001b[38;5;241;43m.\u001b[39;49m\u001b[43mtrain\u001b[49m\u001b[43m(\u001b[49m\u001b[43minput_fn\u001b[49m\u001b[38;5;241;43m=\u001b[39;49m\u001b[43mget_input_fn\u001b[49m\u001b[43m(\u001b[49m\u001b[43mtrain_data\u001b[49m\u001b[43m,\u001b[49m\u001b[43m \u001b[49m\u001b[43mnum_epochs\u001b[49m\u001b[38;5;241;43m=\u001b[39;49m\u001b[38;5;28;43;01mNone\u001b[39;49;00m\u001b[43m,\u001b[49m\u001b[43m \u001b[49m\u001b[43mn_batch\u001b[49m\u001b[38;5;241;43m=\u001b[39;49m\u001b[38;5;241;43m128\u001b[39;49m\u001b[43m,\u001b[49m\u001b[43m \u001b[49m\u001b[43mshuffle\u001b[49m\u001b[38;5;241;43m=\u001b[39;49m\u001b[38;5;28;43;01mFalse\u001b[39;49;00m\u001b[43m)\u001b[49m\u001b[43m,\u001b[49m\u001b[43m \u001b[49m\u001b[43msteps\u001b[49m\u001b[38;5;241;43m=\u001b[39;49m\u001b[38;5;241;43m1000\u001b[39;49m\u001b[43m)\u001b[49m\n",
      "File \u001b[1;32m~\\AppData\\Roaming\\Python\\Python310\\site-packages\\tensorflow_estimator\\python\\estimator\\estimator.py:360\u001b[0m, in \u001b[0;36mEstimator.train\u001b[1;34m(self, input_fn, hooks, steps, max_steps, saving_listeners)\u001b[0m\n\u001b[0;32m    357\u001b[0m hooks\u001b[38;5;241m.\u001b[39mextend(\u001b[38;5;28mself\u001b[39m\u001b[38;5;241m.\u001b[39m_convert_train_steps_to_hooks(steps, max_steps))\n\u001b[0;32m    359\u001b[0m saving_listeners \u001b[38;5;241m=\u001b[39m _check_listeners_type(saving_listeners)\n\u001b[1;32m--> 360\u001b[0m loss \u001b[38;5;241m=\u001b[39m \u001b[38;5;28;43mself\u001b[39;49m\u001b[38;5;241;43m.\u001b[39;49m\u001b[43m_train_model\u001b[49m\u001b[43m(\u001b[49m\u001b[43minput_fn\u001b[49m\u001b[43m,\u001b[49m\u001b[43m \u001b[49m\u001b[43mhooks\u001b[49m\u001b[43m,\u001b[49m\u001b[43m \u001b[49m\u001b[43msaving_listeners\u001b[49m\u001b[43m)\u001b[49m\n\u001b[0;32m    361\u001b[0m tf\u001b[38;5;241m.\u001b[39mcompat\u001b[38;5;241m.\u001b[39mv1\u001b[38;5;241m.\u001b[39mlogging\u001b[38;5;241m.\u001b[39minfo(\u001b[38;5;124m'\u001b[39m\u001b[38;5;124mLoss for final step: \u001b[39m\u001b[38;5;132;01m%s\u001b[39;00m\u001b[38;5;124m.\u001b[39m\u001b[38;5;124m'\u001b[39m, loss)\n\u001b[0;32m    362\u001b[0m \u001b[38;5;28;01mreturn\u001b[39;00m \u001b[38;5;28mself\u001b[39m\n",
      "File \u001b[1;32m~\\AppData\\Roaming\\Python\\Python310\\site-packages\\tensorflow_estimator\\python\\estimator\\estimator.py:1188\u001b[0m, in \u001b[0;36mEstimator._train_model\u001b[1;34m(self, input_fn, hooks, saving_listeners)\u001b[0m\n\u001b[0;32m   1186\u001b[0m   \u001b[38;5;28;01mreturn\u001b[39;00m \u001b[38;5;28mself\u001b[39m\u001b[38;5;241m.\u001b[39m_train_model_distributed(input_fn, hooks, saving_listeners)\n\u001b[0;32m   1187\u001b[0m \u001b[38;5;28;01melse\u001b[39;00m:\n\u001b[1;32m-> 1188\u001b[0m   \u001b[38;5;28;01mreturn\u001b[39;00m \u001b[38;5;28;43mself\u001b[39;49m\u001b[38;5;241;43m.\u001b[39;49m\u001b[43m_train_model_default\u001b[49m\u001b[43m(\u001b[49m\u001b[43minput_fn\u001b[49m\u001b[43m,\u001b[49m\u001b[43m \u001b[49m\u001b[43mhooks\u001b[49m\u001b[43m,\u001b[49m\u001b[43m \u001b[49m\u001b[43msaving_listeners\u001b[49m\u001b[43m)\u001b[49m\n",
      "File \u001b[1;32m~\\AppData\\Roaming\\Python\\Python310\\site-packages\\tensorflow_estimator\\python\\estimator\\estimator.py:1219\u001b[0m, in \u001b[0;36mEstimator._train_model_default\u001b[1;34m(self, input_fn, hooks, saving_listeners)\u001b[0m\n\u001b[0;32m   1216\u001b[0m estimator_spec \u001b[38;5;241m=\u001b[39m \u001b[38;5;28mself\u001b[39m\u001b[38;5;241m.\u001b[39m_call_model_fn(features, labels, ModeKeys\u001b[38;5;241m.\u001b[39mTRAIN,\n\u001b[0;32m   1217\u001b[0m                                      \u001b[38;5;28mself\u001b[39m\u001b[38;5;241m.\u001b[39mconfig)\n\u001b[0;32m   1218\u001b[0m global_step_tensor \u001b[38;5;241m=\u001b[39m tf\u001b[38;5;241m.\u001b[39mcompat\u001b[38;5;241m.\u001b[39mv1\u001b[38;5;241m.\u001b[39mtrain\u001b[38;5;241m.\u001b[39mget_global_step(g)\n\u001b[1;32m-> 1219\u001b[0m \u001b[38;5;28;01mreturn\u001b[39;00m \u001b[38;5;28;43mself\u001b[39;49m\u001b[38;5;241;43m.\u001b[39;49m\u001b[43m_train_with_estimator_spec\u001b[49m\u001b[43m(\u001b[49m\u001b[43mestimator_spec\u001b[49m\u001b[43m,\u001b[49m\u001b[43m \u001b[49m\u001b[43mworker_hooks\u001b[49m\u001b[43m,\u001b[49m\n\u001b[0;32m   1220\u001b[0m \u001b[43m                                       \u001b[49m\u001b[43mhooks\u001b[49m\u001b[43m,\u001b[49m\u001b[43m \u001b[49m\u001b[43mglobal_step_tensor\u001b[49m\u001b[43m,\u001b[49m\n\u001b[0;32m   1221\u001b[0m \u001b[43m                                       \u001b[49m\u001b[43msaving_listeners\u001b[49m\u001b[43m)\u001b[49m\n",
      "File \u001b[1;32m~\\AppData\\Roaming\\Python\\Python310\\site-packages\\tensorflow_estimator\\python\\estimator\\estimator.py:1514\u001b[0m, in \u001b[0;36mEstimator._train_with_estimator_spec\u001b[1;34m(self, estimator_spec, worker_hooks, hooks, global_step_tensor, saving_listeners)\u001b[0m\n\u001b[0;32m   1507\u001b[0m     \u001b[38;5;28;01mif\u001b[39;00m (\u001b[38;5;28mself\u001b[39m\u001b[38;5;241m.\u001b[39m_config\u001b[38;5;241m.\u001b[39mlog_step_count_steps \u001b[38;5;129;01mand\u001b[39;00m\n\u001b[0;32m   1508\u001b[0m         \u001b[38;5;28mself\u001b[39m\u001b[38;5;241m.\u001b[39m_config\u001b[38;5;241m.\u001b[39mlog_step_count_steps \u001b[38;5;241m>\u001b[39m \u001b[38;5;241m0\u001b[39m):\n\u001b[0;32m   1509\u001b[0m       worker_hooks\u001b[38;5;241m.\u001b[39mappend(\n\u001b[0;32m   1510\u001b[0m           tf\u001b[38;5;241m.\u001b[39mcompat\u001b[38;5;241m.\u001b[39mv1\u001b[38;5;241m.\u001b[39mtrain\u001b[38;5;241m.\u001b[39mStepCounterHook(\n\u001b[0;32m   1511\u001b[0m               every_n_steps\u001b[38;5;241m=\u001b[39m\u001b[38;5;28mself\u001b[39m\u001b[38;5;241m.\u001b[39m_config\u001b[38;5;241m.\u001b[39mlog_step_count_steps,\n\u001b[0;32m   1512\u001b[0m               output_dir\u001b[38;5;241m=\u001b[39m\u001b[38;5;28mself\u001b[39m\u001b[38;5;241m.\u001b[39m_config\u001b[38;5;241m.\u001b[39mmodel_dir))\n\u001b[1;32m-> 1514\u001b[0m \u001b[38;5;28;01mwith\u001b[39;00m \u001b[43mtraining\u001b[49m\u001b[38;5;241;43m.\u001b[39;49m\u001b[43mMonitoredTrainingSession\u001b[49m\u001b[43m(\u001b[49m\n\u001b[0;32m   1515\u001b[0m \u001b[43m    \u001b[49m\u001b[43mmaster\u001b[49m\u001b[38;5;241;43m=\u001b[39;49m\u001b[38;5;28;43mself\u001b[39;49m\u001b[38;5;241;43m.\u001b[39;49m\u001b[43m_config\u001b[49m\u001b[38;5;241;43m.\u001b[39;49m\u001b[43mmaster\u001b[49m\u001b[43m,\u001b[49m\n\u001b[0;32m   1516\u001b[0m \u001b[43m    \u001b[49m\u001b[43mis_chief\u001b[49m\u001b[38;5;241;43m=\u001b[39;49m\u001b[38;5;28;43mself\u001b[39;49m\u001b[38;5;241;43m.\u001b[39;49m\u001b[43m_config\u001b[49m\u001b[38;5;241;43m.\u001b[39;49m\u001b[43mis_chief\u001b[49m\u001b[43m,\u001b[49m\n\u001b[0;32m   1517\u001b[0m \u001b[43m    \u001b[49m\u001b[43mcheckpoint_dir\u001b[49m\u001b[38;5;241;43m=\u001b[39;49m\u001b[38;5;28;43mself\u001b[39;49m\u001b[38;5;241;43m.\u001b[39;49m\u001b[43m_model_dir\u001b[49m\u001b[43m,\u001b[49m\n\u001b[0;32m   1518\u001b[0m \u001b[43m    \u001b[49m\u001b[43mscaffold\u001b[49m\u001b[38;5;241;43m=\u001b[39;49m\u001b[43mestimator_spec\u001b[49m\u001b[38;5;241;43m.\u001b[39;49m\u001b[43mscaffold\u001b[49m\u001b[43m,\u001b[49m\n\u001b[0;32m   1519\u001b[0m \u001b[43m    \u001b[49m\u001b[43mhooks\u001b[49m\u001b[38;5;241;43m=\u001b[39;49m\u001b[43mworker_hooks\u001b[49m\u001b[43m,\u001b[49m\n\u001b[0;32m   1520\u001b[0m \u001b[43m    \u001b[49m\u001b[43mchief_only_hooks\u001b[49m\u001b[38;5;241;43m=\u001b[39;49m\u001b[43m(\u001b[49m\u001b[38;5;28;43mtuple\u001b[39;49m\u001b[43m(\u001b[49m\u001b[43mchief_hooks\u001b[49m\u001b[43m)\u001b[49m\u001b[43m \u001b[49m\u001b[38;5;241;43m+\u001b[39;49m\n\u001b[0;32m   1521\u001b[0m \u001b[43m                      \u001b[49m\u001b[38;5;28;43mtuple\u001b[39;49m\u001b[43m(\u001b[49m\u001b[43mestimator_spec\u001b[49m\u001b[38;5;241;43m.\u001b[39;49m\u001b[43mtraining_chief_hooks\u001b[49m\u001b[43m)\u001b[49m\u001b[43m)\u001b[49m\u001b[43m,\u001b[49m\n\u001b[0;32m   1522\u001b[0m \u001b[43m    \u001b[49m\u001b[43msave_checkpoint_secs\u001b[49m\u001b[38;5;241;43m=\u001b[39;49m\u001b[38;5;241;43m0\u001b[39;49m\u001b[43m,\u001b[49m\u001b[43m  \u001b[49m\u001b[38;5;66;43;03m# Saving is handled by a hook.\u001b[39;49;00m\n\u001b[0;32m   1523\u001b[0m \u001b[43m    \u001b[49m\u001b[43msave_summaries_steps\u001b[49m\u001b[38;5;241;43m=\u001b[39;49m\u001b[43msave_summary_steps\u001b[49m\u001b[43m,\u001b[49m\n\u001b[0;32m   1524\u001b[0m \u001b[43m    \u001b[49m\u001b[43mconfig\u001b[49m\u001b[38;5;241;43m=\u001b[39;49m\u001b[38;5;28;43mself\u001b[39;49m\u001b[38;5;241;43m.\u001b[39;49m\u001b[43m_session_config\u001b[49m\u001b[43m,\u001b[49m\n\u001b[0;32m   1525\u001b[0m \u001b[43m    \u001b[49m\u001b[43mmax_wait_secs\u001b[49m\u001b[38;5;241;43m=\u001b[39;49m\u001b[38;5;28;43mself\u001b[39;49m\u001b[38;5;241;43m.\u001b[39;49m\u001b[43m_config\u001b[49m\u001b[38;5;241;43m.\u001b[39;49m\u001b[43msession_creation_timeout_secs\u001b[49m\u001b[43m,\u001b[49m\n\u001b[0;32m   1526\u001b[0m \u001b[43m    \u001b[49m\u001b[43mlog_step_count_steps\u001b[49m\u001b[38;5;241;43m=\u001b[39;49m\u001b[43mlog_step_count_steps\u001b[49m\u001b[43m,\u001b[49m\n\u001b[0;32m   1527\u001b[0m \u001b[43m    \u001b[49m\u001b[43msave_graph_def\u001b[49m\u001b[38;5;241;43m=\u001b[39;49m\u001b[38;5;28;43mself\u001b[39;49m\u001b[38;5;241;43m.\u001b[39;49m\u001b[43m_config\u001b[49m\u001b[38;5;241;43m.\u001b[39;49m\u001b[43mcheckpoint_save_graph_def\u001b[49m\u001b[43m)\u001b[49m \u001b[38;5;28;01mas\u001b[39;00m mon_sess:\n\u001b[0;32m   1528\u001b[0m   loss \u001b[38;5;241m=\u001b[39m \u001b[38;5;28;01mNone\u001b[39;00m\n\u001b[0;32m   1529\u001b[0m   current_step \u001b[38;5;241m=\u001b[39m \u001b[38;5;241m0\u001b[39m\n",
      "File \u001b[1;32m~\\AppData\\Roaming\\Python\\Python310\\site-packages\\tensorflow\\python\\training\\monitored_session.py:606\u001b[0m, in \u001b[0;36mMonitoredTrainingSession\u001b[1;34m(master, is_chief, checkpoint_dir, scaffold, hooks, chief_only_hooks, save_checkpoint_secs, save_summaries_steps, save_summaries_secs, config, stop_grace_period_secs, log_step_count_steps, max_wait_secs, save_checkpoint_steps, summary_dir, save_graph_def)\u001b[0m\n\u001b[0;32m    604\u001b[0m \u001b[38;5;28;01mif\u001b[39;00m hooks:\n\u001b[0;32m    605\u001b[0m   all_hooks\u001b[38;5;241m.\u001b[39mextend(hooks)\n\u001b[1;32m--> 606\u001b[0m \u001b[38;5;28;01mreturn\u001b[39;00m \u001b[43mMonitoredSession\u001b[49m\u001b[43m(\u001b[49m\n\u001b[0;32m    607\u001b[0m \u001b[43m    \u001b[49m\u001b[43msession_creator\u001b[49m\u001b[38;5;241;43m=\u001b[39;49m\u001b[43msession_creator\u001b[49m\u001b[43m,\u001b[49m\n\u001b[0;32m    608\u001b[0m \u001b[43m    \u001b[49m\u001b[43mhooks\u001b[49m\u001b[38;5;241;43m=\u001b[39;49m\u001b[43mall_hooks\u001b[49m\u001b[43m,\u001b[49m\n\u001b[0;32m    609\u001b[0m \u001b[43m    \u001b[49m\u001b[43mstop_grace_period_secs\u001b[49m\u001b[38;5;241;43m=\u001b[39;49m\u001b[43mstop_grace_period_secs\u001b[49m\u001b[43m)\u001b[49m\n",
      "File \u001b[1;32m~\\AppData\\Roaming\\Python\\Python310\\site-packages\\tensorflow\\python\\training\\monitored_session.py:1050\u001b[0m, in \u001b[0;36mMonitoredSession.__init__\u001b[1;34m(self, session_creator, hooks, stop_grace_period_secs)\u001b[0m\n\u001b[0;32m   1046\u001b[0m \u001b[38;5;28;01mdef\u001b[39;00m\u001b[38;5;250m \u001b[39m\u001b[38;5;21m__init__\u001b[39m(\u001b[38;5;28mself\u001b[39m,\n\u001b[0;32m   1047\u001b[0m              session_creator\u001b[38;5;241m=\u001b[39m\u001b[38;5;28;01mNone\u001b[39;00m,\n\u001b[0;32m   1048\u001b[0m              hooks\u001b[38;5;241m=\u001b[39m\u001b[38;5;28;01mNone\u001b[39;00m,\n\u001b[0;32m   1049\u001b[0m              stop_grace_period_secs\u001b[38;5;241m=\u001b[39m\u001b[38;5;241m120\u001b[39m):\n\u001b[1;32m-> 1050\u001b[0m   \u001b[38;5;28;43msuper\u001b[39;49m\u001b[43m(\u001b[49m\u001b[43mMonitoredSession\u001b[49m\u001b[43m,\u001b[49m\u001b[43m \u001b[49m\u001b[38;5;28;43mself\u001b[39;49m\u001b[43m)\u001b[49m\u001b[38;5;241;43m.\u001b[39;49m\u001b[38;5;21;43m__init__\u001b[39;49m\u001b[43m(\u001b[49m\n\u001b[0;32m   1051\u001b[0m \u001b[43m      \u001b[49m\u001b[43msession_creator\u001b[49m\u001b[43m,\u001b[49m\n\u001b[0;32m   1052\u001b[0m \u001b[43m      \u001b[49m\u001b[43mhooks\u001b[49m\u001b[43m,\u001b[49m\n\u001b[0;32m   1053\u001b[0m \u001b[43m      \u001b[49m\u001b[43mshould_recover\u001b[49m\u001b[38;5;241;43m=\u001b[39;49m\u001b[38;5;28;43;01mTrue\u001b[39;49;00m\u001b[43m,\u001b[49m\n\u001b[0;32m   1054\u001b[0m \u001b[43m      \u001b[49m\u001b[43mstop_grace_period_secs\u001b[49m\u001b[38;5;241;43m=\u001b[39;49m\u001b[43mstop_grace_period_secs\u001b[49m\u001b[43m)\u001b[49m\n",
      "File \u001b[1;32m~\\AppData\\Roaming\\Python\\Python310\\site-packages\\tensorflow\\python\\training\\monitored_session.py:753\u001b[0m, in \u001b[0;36m_MonitoredSession.__init__\u001b[1;34m(self, session_creator, hooks, should_recover, stop_grace_period_secs)\u001b[0m\n\u001b[0;32m    748\u001b[0m \u001b[38;5;28mself\u001b[39m\u001b[38;5;241m.\u001b[39m_coordinated_creator \u001b[38;5;241m=\u001b[39m \u001b[38;5;28mself\u001b[39m\u001b[38;5;241m.\u001b[39m_CoordinatedSessionCreator(\n\u001b[0;32m    749\u001b[0m     session_creator\u001b[38;5;241m=\u001b[39msession_creator \u001b[38;5;129;01mor\u001b[39;00m ChiefSessionCreator(),\n\u001b[0;32m    750\u001b[0m     hooks\u001b[38;5;241m=\u001b[39m\u001b[38;5;28mself\u001b[39m\u001b[38;5;241m.\u001b[39m_hooks,\n\u001b[0;32m    751\u001b[0m     stop_grace_period_secs\u001b[38;5;241m=\u001b[39mstop_grace_period_secs)\n\u001b[0;32m    752\u001b[0m \u001b[38;5;28;01mif\u001b[39;00m should_recover:\n\u001b[1;32m--> 753\u001b[0m   \u001b[38;5;28mself\u001b[39m\u001b[38;5;241m.\u001b[39m_sess \u001b[38;5;241m=\u001b[39m \u001b[43m_RecoverableSession\u001b[49m\u001b[43m(\u001b[49m\u001b[38;5;28;43mself\u001b[39;49m\u001b[38;5;241;43m.\u001b[39;49m\u001b[43m_coordinated_creator\u001b[49m\u001b[43m)\u001b[49m\n\u001b[0;32m    754\u001b[0m \u001b[38;5;28;01melse\u001b[39;00m:\n\u001b[0;32m    755\u001b[0m   \u001b[38;5;28mself\u001b[39m\u001b[38;5;241m.\u001b[39m_sess \u001b[38;5;241m=\u001b[39m \u001b[38;5;28mself\u001b[39m\u001b[38;5;241m.\u001b[39m_coordinated_creator\u001b[38;5;241m.\u001b[39mcreate_session()\n",
      "File \u001b[1;32m~\\AppData\\Roaming\\Python\\Python310\\site-packages\\tensorflow\\python\\training\\monitored_session.py:1259\u001b[0m, in \u001b[0;36m_RecoverableSession.__init__\u001b[1;34m(self, sess_creator)\u001b[0m\n\u001b[0;32m   1250\u001b[0m \u001b[38;5;250m\u001b[39m\u001b[38;5;124;03m\"\"\"Create a new `_RecoverableSession`.\u001b[39;00m\n\u001b[0;32m   1251\u001b[0m \n\u001b[0;32m   1252\u001b[0m \u001b[38;5;124;03mThe value returned by calling `sess_creator.create_session()` will be the\u001b[39;00m\n\u001b[1;32m   (...)\u001b[0m\n\u001b[0;32m   1256\u001b[0m \u001b[38;5;124;03m  sess_creator: A 'SessionCreator' to be wrapped by recoverable.\u001b[39;00m\n\u001b[0;32m   1257\u001b[0m \u001b[38;5;124;03m\"\"\"\u001b[39;00m\n\u001b[0;32m   1258\u001b[0m \u001b[38;5;28mself\u001b[39m\u001b[38;5;241m.\u001b[39m_sess_creator \u001b[38;5;241m=\u001b[39m sess_creator\n\u001b[1;32m-> 1259\u001b[0m _WrappedSession\u001b[38;5;241m.\u001b[39m\u001b[38;5;21m__init__\u001b[39m(\u001b[38;5;28mself\u001b[39m, \u001b[38;5;28;43mself\u001b[39;49m\u001b[38;5;241;43m.\u001b[39;49m\u001b[43m_create_session\u001b[49m\u001b[43m(\u001b[49m\u001b[43m)\u001b[49m)\n",
      "File \u001b[1;32m~\\AppData\\Roaming\\Python\\Python310\\site-packages\\tensorflow\\python\\training\\monitored_session.py:1264\u001b[0m, in \u001b[0;36m_RecoverableSession._create_session\u001b[1;34m(self)\u001b[0m\n\u001b[0;32m   1262\u001b[0m \u001b[38;5;28;01mwhile\u001b[39;00m \u001b[38;5;28;01mTrue\u001b[39;00m:\n\u001b[0;32m   1263\u001b[0m   \u001b[38;5;28;01mtry\u001b[39;00m:\n\u001b[1;32m-> 1264\u001b[0m     \u001b[38;5;28;01mreturn\u001b[39;00m \u001b[38;5;28;43mself\u001b[39;49m\u001b[38;5;241;43m.\u001b[39;49m\u001b[43m_sess_creator\u001b[49m\u001b[38;5;241;43m.\u001b[39;49m\u001b[43mcreate_session\u001b[49m\u001b[43m(\u001b[49m\u001b[43m)\u001b[49m\n\u001b[0;32m   1265\u001b[0m   \u001b[38;5;28;01mexcept\u001b[39;00m _PREEMPTION_ERRORS \u001b[38;5;28;01mas\u001b[39;00m e:\n\u001b[0;32m   1266\u001b[0m     logging\u001b[38;5;241m.\u001b[39minfo(\n\u001b[0;32m   1267\u001b[0m         \u001b[38;5;124m'\u001b[39m\u001b[38;5;124mAn error was raised while a session was being created. \u001b[39m\u001b[38;5;124m'\u001b[39m\n\u001b[0;32m   1268\u001b[0m         \u001b[38;5;124m'\u001b[39m\u001b[38;5;124mThis may be due to a preemption of a connected worker \u001b[39m\u001b[38;5;124m'\u001b[39m\n\u001b[1;32m   (...)\u001b[0m\n\u001b[0;32m   1273\u001b[0m         \u001b[38;5;124m'\u001b[39m\u001b[38;5;124mincreasing the number of parameter servers assigned to \u001b[39m\u001b[38;5;124m'\u001b[39m\n\u001b[0;32m   1274\u001b[0m         \u001b[38;5;124m'\u001b[39m\u001b[38;5;124mthe job. Error: \u001b[39m\u001b[38;5;132;01m%s\u001b[39;00m\u001b[38;5;124m'\u001b[39m, e)\n",
      "File \u001b[1;32m~\\AppData\\Roaming\\Python\\Python310\\site-packages\\tensorflow\\python\\training\\monitored_session.py:913\u001b[0m, in \u001b[0;36m_MonitoredSession._CoordinatedSessionCreator.create_session\u001b[1;34m(self)\u001b[0m\n\u001b[0;32m    911\u001b[0m \u001b[38;5;66;03m# Inform the hooks that a new session has been created.\u001b[39;00m\n\u001b[0;32m    912\u001b[0m \u001b[38;5;28;01mfor\u001b[39;00m hook \u001b[38;5;129;01min\u001b[39;00m \u001b[38;5;28mself\u001b[39m\u001b[38;5;241m.\u001b[39m_hooks:\n\u001b[1;32m--> 913\u001b[0m   \u001b[43mhook\u001b[49m\u001b[38;5;241;43m.\u001b[39;49m\u001b[43mafter_create_session\u001b[49m\u001b[43m(\u001b[49m\u001b[38;5;28;43mself\u001b[39;49m\u001b[38;5;241;43m.\u001b[39;49m\u001b[43mtf_sess\u001b[49m\u001b[43m,\u001b[49m\u001b[43m \u001b[49m\u001b[38;5;28;43mself\u001b[39;49m\u001b[38;5;241;43m.\u001b[39;49m\u001b[43mcoord\u001b[49m\u001b[43m)\u001b[49m\n\u001b[0;32m    914\u001b[0m \u001b[38;5;28;01mreturn\u001b[39;00m _CoordinatedSession(\n\u001b[0;32m    915\u001b[0m     _HookedSession(\u001b[38;5;28mself\u001b[39m\u001b[38;5;241m.\u001b[39mtf_sess, \u001b[38;5;28mself\u001b[39m\u001b[38;5;241m.\u001b[39m_hooks), \u001b[38;5;28mself\u001b[39m\u001b[38;5;241m.\u001b[39mcoord,\n\u001b[0;32m    916\u001b[0m     \u001b[38;5;28mself\u001b[39m\u001b[38;5;241m.\u001b[39m_stop_grace_period_secs)\n",
      "File \u001b[1;32m~\\AppData\\Roaming\\Python\\Python310\\site-packages\\tensorflow\\python\\training\\basic_session_run_hooks.py:601\u001b[0m, in \u001b[0;36mCheckpointSaverHook.after_create_session\u001b[1;34m(self, session, coord)\u001b[0m\n\u001b[0;32m    599\u001b[0m \u001b[38;5;28mself\u001b[39m\u001b[38;5;241m.\u001b[39m_summary_writer\u001b[38;5;241m.\u001b[39madd_meta_graph(meta_graph_def)\n\u001b[0;32m    600\u001b[0m \u001b[38;5;66;03m# The checkpoint saved here is the state at step \"global_step\".\u001b[39;00m\n\u001b[1;32m--> 601\u001b[0m \u001b[38;5;28;43mself\u001b[39;49m\u001b[38;5;241;43m.\u001b[39;49m\u001b[43m_save\u001b[49m\u001b[43m(\u001b[49m\u001b[43msession\u001b[49m\u001b[43m,\u001b[49m\u001b[43m \u001b[49m\u001b[43mglobal_step\u001b[49m\u001b[43m)\u001b[49m\n\u001b[0;32m    602\u001b[0m \u001b[38;5;28mself\u001b[39m\u001b[38;5;241m.\u001b[39m_timer\u001b[38;5;241m.\u001b[39mupdate_last_triggered_step(global_step)\n",
      "File \u001b[1;32m~\\AppData\\Roaming\\Python\\Python310\\site-packages\\tensorflow\\python\\training\\basic_session_run_hooks.py:633\u001b[0m, in \u001b[0;36mCheckpointSaverHook._save\u001b[1;34m(self, session, step)\u001b[0m\n\u001b[0;32m    630\u001b[0m   l\u001b[38;5;241m.\u001b[39mbefore_save(session, step)\n\u001b[0;32m    632\u001b[0m logging\u001b[38;5;241m.\u001b[39minfo(\u001b[38;5;124m\"\u001b[39m\u001b[38;5;124mSaving checkpoints for \u001b[39m\u001b[38;5;132;01m%d\u001b[39;00m\u001b[38;5;124m into \u001b[39m\u001b[38;5;132;01m%s\u001b[39;00m\u001b[38;5;124m.\u001b[39m\u001b[38;5;124m\"\u001b[39m, step, \u001b[38;5;28mself\u001b[39m\u001b[38;5;241m.\u001b[39m_save_path)\n\u001b[1;32m--> 633\u001b[0m \u001b[38;5;28;43mself\u001b[39;49m\u001b[38;5;241;43m.\u001b[39;49m\u001b[43m_get_saver\u001b[49m\u001b[43m(\u001b[49m\u001b[43m)\u001b[49m\u001b[38;5;241;43m.\u001b[39;49m\u001b[43msave\u001b[49m\u001b[43m(\u001b[49m\u001b[43msession\u001b[49m\u001b[43m,\u001b[49m\u001b[43m \u001b[49m\u001b[38;5;28;43mself\u001b[39;49m\u001b[38;5;241;43m.\u001b[39;49m\u001b[43m_save_path\u001b[49m\u001b[43m,\u001b[49m\u001b[43m \u001b[49m\u001b[43mglobal_step\u001b[49m\u001b[38;5;241;43m=\u001b[39;49m\u001b[43mstep\u001b[49m\u001b[43m,\u001b[49m\n\u001b[0;32m    634\u001b[0m \u001b[43m                       \u001b[49m\u001b[43mwrite_meta_graph\u001b[49m\u001b[38;5;241;43m=\u001b[39;49m\u001b[38;5;28;43mself\u001b[39;49m\u001b[38;5;241;43m.\u001b[39;49m\u001b[43m_save_graph_def\u001b[49m\u001b[43m)\u001b[49m\n\u001b[0;32m    635\u001b[0m \u001b[38;5;28mself\u001b[39m\u001b[38;5;241m.\u001b[39m_summary_writer\u001b[38;5;241m.\u001b[39madd_session_log(\n\u001b[0;32m    636\u001b[0m     SessionLog(\n\u001b[0;32m    637\u001b[0m         status\u001b[38;5;241m=\u001b[39mSessionLog\u001b[38;5;241m.\u001b[39mCHECKPOINT, checkpoint_path\u001b[38;5;241m=\u001b[39m\u001b[38;5;28mself\u001b[39m\u001b[38;5;241m.\u001b[39m_save_path),\n\u001b[0;32m    638\u001b[0m     step)\n\u001b[0;32m    639\u001b[0m logging\u001b[38;5;241m.\u001b[39minfo(\u001b[38;5;124m\"\u001b[39m\u001b[38;5;124mCalling checkpoint listeners after saving checkpoint \u001b[39m\u001b[38;5;132;01m%d\u001b[39;00m\u001b[38;5;124m...\u001b[39m\u001b[38;5;124m\"\u001b[39m,\n\u001b[0;32m    640\u001b[0m              step)\n",
      "File \u001b[1;32m~\\AppData\\Roaming\\Python\\Python310\\site-packages\\tensorflow\\python\\training\\saver.py:1306\u001b[0m, in \u001b[0;36mSaver.save\u001b[1;34m(self, sess, save_path, global_step, latest_filename, meta_graph_suffix, write_meta_graph, write_state, strip_default_attrs, save_debug_info)\u001b[0m\n\u001b[0;32m   1302\u001b[0m     \u001b[38;5;28;01mif\u001b[39;00m \u001b[38;5;129;01mnot\u001b[39;00m gfile\u001b[38;5;241m.\u001b[39mIsDirectory(save_path_parent):\n\u001b[0;32m   1303\u001b[0m       exc \u001b[38;5;241m=\u001b[39m \u001b[38;5;167;01mValueError\u001b[39;00m(\n\u001b[0;32m   1304\u001b[0m           \u001b[38;5;124m\"\u001b[39m\u001b[38;5;124mParent directory of \u001b[39m\u001b[38;5;132;01m{}\u001b[39;00m\u001b[38;5;124m doesn\u001b[39m\u001b[38;5;124m'\u001b[39m\u001b[38;5;124mt exist, can\u001b[39m\u001b[38;5;124m'\u001b[39m\u001b[38;5;124mt save.\u001b[39m\u001b[38;5;124m\"\u001b[39m\u001b[38;5;241m.\u001b[39mformat(\n\u001b[0;32m   1305\u001b[0m               save_path))\n\u001b[1;32m-> 1306\u001b[0m     \u001b[38;5;28;01mraise\u001b[39;00m exc\n\u001b[0;32m   1308\u001b[0m end_time \u001b[38;5;241m=\u001b[39m time\u001b[38;5;241m.\u001b[39mtime()\n\u001b[0;32m   1309\u001b[0m metrics\u001b[38;5;241m.\u001b[39mAddCheckpointWriteDuration(\n\u001b[0;32m   1310\u001b[0m     api_label\u001b[38;5;241m=\u001b[39m_SAVER_LABEL,\n\u001b[0;32m   1311\u001b[0m     microseconds\u001b[38;5;241m=\u001b[39m_get_duration_microseconds(start_time, end_time))\n",
      "File \u001b[1;32m~\\AppData\\Roaming\\Python\\Python310\\site-packages\\tensorflow\\python\\training\\saver.py:1287\u001b[0m, in \u001b[0;36mSaver.save\u001b[1;34m(self, sess, save_path, global_step, latest_filename, meta_graph_suffix, write_meta_graph, write_state, strip_default_attrs, save_debug_info)\u001b[0m\n\u001b[0;32m   1285\u001b[0m   model_checkpoint_path \u001b[38;5;241m=\u001b[39m \u001b[38;5;28mself\u001b[39m\u001b[38;5;241m.\u001b[39msaver_def\u001b[38;5;241m.\u001b[39msave_tensor_name\n\u001b[0;32m   1286\u001b[0m \u001b[38;5;28;01melse\u001b[39;00m:\n\u001b[1;32m-> 1287\u001b[0m   model_checkpoint_path \u001b[38;5;241m=\u001b[39m \u001b[43msess\u001b[49m\u001b[38;5;241;43m.\u001b[39;49m\u001b[43mrun\u001b[49m\u001b[43m(\u001b[49m\n\u001b[0;32m   1288\u001b[0m \u001b[43m      \u001b[49m\u001b[38;5;28;43mself\u001b[39;49m\u001b[38;5;241;43m.\u001b[39;49m\u001b[43msaver_def\u001b[49m\u001b[38;5;241;43m.\u001b[39;49m\u001b[43msave_tensor_name\u001b[49m\u001b[43m,\u001b[49m\n\u001b[0;32m   1289\u001b[0m \u001b[43m      \u001b[49m\u001b[43m{\u001b[49m\u001b[38;5;28;43mself\u001b[39;49m\u001b[38;5;241;43m.\u001b[39;49m\u001b[43msaver_def\u001b[49m\u001b[38;5;241;43m.\u001b[39;49m\u001b[43mfilename_tensor_name\u001b[49m\u001b[43m:\u001b[49m\u001b[43m \u001b[49m\u001b[43mcheckpoint_file\u001b[49m\u001b[43m}\u001b[49m\u001b[43m)\u001b[49m\n\u001b[0;32m   1291\u001b[0m model_checkpoint_path \u001b[38;5;241m=\u001b[39m compat\u001b[38;5;241m.\u001b[39mas_str(model_checkpoint_path)\n\u001b[0;32m   1292\u001b[0m \u001b[38;5;28;01mif\u001b[39;00m write_state:\n",
      "File \u001b[1;32m~\\AppData\\Roaming\\Python\\Python310\\site-packages\\tensorflow\\python\\client\\session.py:972\u001b[0m, in \u001b[0;36mBaseSession.run\u001b[1;34m(self, fetches, feed_dict, options, run_metadata)\u001b[0m\n\u001b[0;32m    969\u001b[0m run_metadata_ptr \u001b[38;5;241m=\u001b[39m tf_session\u001b[38;5;241m.\u001b[39mTF_NewBuffer() \u001b[38;5;28;01mif\u001b[39;00m run_metadata \u001b[38;5;28;01melse\u001b[39;00m \u001b[38;5;28;01mNone\u001b[39;00m\n\u001b[0;32m    971\u001b[0m \u001b[38;5;28;01mtry\u001b[39;00m:\n\u001b[1;32m--> 972\u001b[0m   result \u001b[38;5;241m=\u001b[39m \u001b[38;5;28;43mself\u001b[39;49m\u001b[38;5;241;43m.\u001b[39;49m\u001b[43m_run\u001b[49m\u001b[43m(\u001b[49m\u001b[38;5;28;43;01mNone\u001b[39;49;00m\u001b[43m,\u001b[49m\u001b[43m \u001b[49m\u001b[43mfetches\u001b[49m\u001b[43m,\u001b[49m\u001b[43m \u001b[49m\u001b[43mfeed_dict\u001b[49m\u001b[43m,\u001b[49m\u001b[43m \u001b[49m\u001b[43moptions_ptr\u001b[49m\u001b[43m,\u001b[49m\n\u001b[0;32m    973\u001b[0m \u001b[43m                     \u001b[49m\u001b[43mrun_metadata_ptr\u001b[49m\u001b[43m)\u001b[49m\n\u001b[0;32m    974\u001b[0m   \u001b[38;5;28;01mif\u001b[39;00m run_metadata:\n\u001b[0;32m    975\u001b[0m     proto_data \u001b[38;5;241m=\u001b[39m tf_session\u001b[38;5;241m.\u001b[39mTF_GetBuffer(run_metadata_ptr)\n",
      "File \u001b[1;32m~\\AppData\\Roaming\\Python\\Python310\\site-packages\\tensorflow\\python\\client\\session.py:1215\u001b[0m, in \u001b[0;36mBaseSession._run\u001b[1;34m(self, handle, fetches, feed_dict, options, run_metadata)\u001b[0m\n\u001b[0;32m   1212\u001b[0m \u001b[38;5;66;03m# We only want to really perform the run if fetches or targets are provided,\u001b[39;00m\n\u001b[0;32m   1213\u001b[0m \u001b[38;5;66;03m# or if the call is a partial run that specifies feeds.\u001b[39;00m\n\u001b[0;32m   1214\u001b[0m \u001b[38;5;28;01mif\u001b[39;00m final_fetches \u001b[38;5;129;01mor\u001b[39;00m final_targets \u001b[38;5;129;01mor\u001b[39;00m (handle \u001b[38;5;129;01mand\u001b[39;00m feed_dict_tensor):\n\u001b[1;32m-> 1215\u001b[0m   results \u001b[38;5;241m=\u001b[39m \u001b[38;5;28;43mself\u001b[39;49m\u001b[38;5;241;43m.\u001b[39;49m\u001b[43m_do_run\u001b[49m\u001b[43m(\u001b[49m\u001b[43mhandle\u001b[49m\u001b[43m,\u001b[49m\u001b[43m \u001b[49m\u001b[43mfinal_targets\u001b[49m\u001b[43m,\u001b[49m\u001b[43m \u001b[49m\u001b[43mfinal_fetches\u001b[49m\u001b[43m,\u001b[49m\n\u001b[0;32m   1216\u001b[0m \u001b[43m                         \u001b[49m\u001b[43mfeed_dict_tensor\u001b[49m\u001b[43m,\u001b[49m\u001b[43m \u001b[49m\u001b[43moptions\u001b[49m\u001b[43m,\u001b[49m\u001b[43m \u001b[49m\u001b[43mrun_metadata\u001b[49m\u001b[43m)\u001b[49m\n\u001b[0;32m   1217\u001b[0m \u001b[38;5;28;01melse\u001b[39;00m:\n\u001b[0;32m   1218\u001b[0m   results \u001b[38;5;241m=\u001b[39m []\n",
      "File \u001b[1;32m~\\AppData\\Roaming\\Python\\Python310\\site-packages\\tensorflow\\python\\client\\session.py:1395\u001b[0m, in \u001b[0;36mBaseSession._do_run\u001b[1;34m(self, handle, target_list, fetch_list, feed_dict, options, run_metadata)\u001b[0m\n\u001b[0;32m   1392\u001b[0m   \u001b[38;5;28;01mreturn\u001b[39;00m \u001b[38;5;28mself\u001b[39m\u001b[38;5;241m.\u001b[39m_call_tf_sessionprun(handle, feed_dict, fetch_list)\n\u001b[0;32m   1394\u001b[0m \u001b[38;5;28;01mif\u001b[39;00m handle \u001b[38;5;129;01mis\u001b[39;00m \u001b[38;5;28;01mNone\u001b[39;00m:\n\u001b[1;32m-> 1395\u001b[0m   \u001b[38;5;28;01mreturn\u001b[39;00m \u001b[38;5;28;43mself\u001b[39;49m\u001b[38;5;241;43m.\u001b[39;49m\u001b[43m_do_call\u001b[49m\u001b[43m(\u001b[49m\u001b[43m_run_fn\u001b[49m\u001b[43m,\u001b[49m\u001b[43m \u001b[49m\u001b[43mfeeds\u001b[49m\u001b[43m,\u001b[49m\u001b[43m \u001b[49m\u001b[43mfetches\u001b[49m\u001b[43m,\u001b[49m\u001b[43m \u001b[49m\u001b[43mtargets\u001b[49m\u001b[43m,\u001b[49m\u001b[43m \u001b[49m\u001b[43moptions\u001b[49m\u001b[43m,\u001b[49m\n\u001b[0;32m   1396\u001b[0m \u001b[43m                       \u001b[49m\u001b[43mrun_metadata\u001b[49m\u001b[43m)\u001b[49m\n\u001b[0;32m   1397\u001b[0m \u001b[38;5;28;01melse\u001b[39;00m:\n\u001b[0;32m   1398\u001b[0m   \u001b[38;5;28;01mreturn\u001b[39;00m \u001b[38;5;28mself\u001b[39m\u001b[38;5;241m.\u001b[39m_do_call(_prun_fn, handle, feeds, fetches)\n",
      "File \u001b[1;32m~\\AppData\\Roaming\\Python\\Python310\\site-packages\\tensorflow\\python\\client\\session.py:1421\u001b[0m, in \u001b[0;36mBaseSession._do_call\u001b[1;34m(self, fn, *args)\u001b[0m\n\u001b[0;32m   1416\u001b[0m \u001b[38;5;28;01mif\u001b[39;00m \u001b[38;5;124m'\u001b[39m\u001b[38;5;124monly supports NHWC tensor format\u001b[39m\u001b[38;5;124m'\u001b[39m \u001b[38;5;129;01min\u001b[39;00m message:\n\u001b[0;32m   1417\u001b[0m   message \u001b[38;5;241m+\u001b[39m\u001b[38;5;241m=\u001b[39m (\u001b[38;5;124m'\u001b[39m\u001b[38;5;130;01m\\n\u001b[39;00m\u001b[38;5;124mA possible workaround: Try disabling Grappler optimizer\u001b[39m\u001b[38;5;124m'\u001b[39m\n\u001b[0;32m   1418\u001b[0m               \u001b[38;5;124m'\u001b[39m\u001b[38;5;130;01m\\n\u001b[39;00m\u001b[38;5;124mby modifying the config for creating the session eg.\u001b[39m\u001b[38;5;124m'\u001b[39m\n\u001b[0;32m   1419\u001b[0m               \u001b[38;5;124m'\u001b[39m\u001b[38;5;130;01m\\n\u001b[39;00m\u001b[38;5;124msession_config.graph_options.rewrite_options.\u001b[39m\u001b[38;5;124m'\u001b[39m\n\u001b[0;32m   1420\u001b[0m               \u001b[38;5;124m'\u001b[39m\u001b[38;5;124mdisable_meta_optimizer = True\u001b[39m\u001b[38;5;124m'\u001b[39m)\n\u001b[1;32m-> 1421\u001b[0m \u001b[38;5;28;01mraise\u001b[39;00m \u001b[38;5;28mtype\u001b[39m(e)(node_def, op, message)\n",
      "\u001b[1;31mNotFoundError\u001b[0m: Graph execution error:\n\nDetected at node 'save/SaveV2' defined at (most recent call last):\n    File \"C:\\Program Files\\Python310\\lib\\runpy.py\", line 196, in _run_module_as_main\n    File \"C:\\Program Files\\Python310\\lib\\runpy.py\", line 86, in _run_code\n    File \"C:\\Users\\Osama\\AppData\\Roaming\\Python\\Python310\\site-packages\\ipykernel_launcher.py\", line 18, in <module>\n    File \"C:\\Users\\Osama\\AppData\\Roaming\\Python\\Python310\\site-packages\\traitlets\\config\\application.py\", line 1075, in launch_instance\n    File \"C:\\Users\\Osama\\AppData\\Roaming\\Python\\Python310\\site-packages\\ipykernel\\kernelapp.py\", line 739, in start\n    File \"C:\\Users\\Osama\\AppData\\Roaming\\Python\\Python310\\site-packages\\tornado\\platform\\asyncio.py\", line 205, in start\n    File \"C:\\Program Files\\Python310\\lib\\asyncio\\base_events.py\", line 595, in run_forever\n    File \"C:\\Program Files\\Python310\\lib\\asyncio\\base_events.py\", line 1881, in _run_once\n    File \"C:\\Program Files\\Python310\\lib\\asyncio\\events.py\", line 80, in _run\n    File \"C:\\Users\\Osama\\AppData\\Roaming\\Python\\Python310\\site-packages\\ipykernel\\kernelbase.py\", line 545, in dispatch_queue\n    File \"C:\\Users\\Osama\\AppData\\Roaming\\Python\\Python310\\site-packages\\ipykernel\\kernelbase.py\", line 534, in process_one\n    File \"C:\\Users\\Osama\\AppData\\Roaming\\Python\\Python310\\site-packages\\ipykernel\\kernelbase.py\", line 437, in dispatch_shell\n    File \"C:\\Users\\Osama\\AppData\\Roaming\\Python\\Python310\\site-packages\\ipykernel\\ipkernel.py\", line 362, in execute_request\n    File \"C:\\Users\\Osama\\AppData\\Roaming\\Python\\Python310\\site-packages\\ipykernel\\kernelbase.py\", line 778, in execute_request\n    File \"C:\\Users\\Osama\\AppData\\Roaming\\Python\\Python310\\site-packages\\ipykernel\\ipkernel.py\", line 449, in do_execute\n    File \"C:\\Users\\Osama\\AppData\\Roaming\\Python\\Python310\\site-packages\\ipykernel\\zmqshell.py\", line 549, in run_cell\n    File \"C:\\Users\\Osama\\AppData\\Roaming\\Python\\Python310\\site-packages\\IPython\\core\\interactiveshell.py\", line 3075, in run_cell\n    File \"C:\\Users\\Osama\\AppData\\Roaming\\Python\\Python310\\site-packages\\IPython\\core\\interactiveshell.py\", line 3130, in _run_cell\n    File \"C:\\Users\\Osama\\AppData\\Roaming\\Python\\Python310\\site-packages\\IPython\\core\\async_helpers.py\", line 128, in _pseudo_sync_runner\n    File \"C:\\Users\\Osama\\AppData\\Roaming\\Python\\Python310\\site-packages\\IPython\\core\\interactiveshell.py\", line 3334, in run_cell_async\n    File \"C:\\Users\\Osama\\AppData\\Roaming\\Python\\Python310\\site-packages\\IPython\\core\\interactiveshell.py\", line 3517, in run_ast_nodes\n    File \"C:\\Users\\Osama\\AppData\\Roaming\\Python\\Python310\\site-packages\\IPython\\core\\interactiveshell.py\", line 3577, in run_code\n    File \"C:\\Users\\Osama\\AppData\\Local\\Temp\\ipykernel_27544\\220954500.py\", line 1, in <module>\n    File \"C:\\Users\\Osama\\AppData\\Roaming\\Python\\Python310\\site-packages\\tensorflow_estimator\\python\\estimator\\estimator.py\", line 360, in train\n    File \"C:\\Users\\Osama\\AppData\\Roaming\\Python\\Python310\\site-packages\\tensorflow_estimator\\python\\estimator\\estimator.py\", line 1188, in _train_model\n    File \"C:\\Users\\Osama\\AppData\\Roaming\\Python\\Python310\\site-packages\\tensorflow_estimator\\python\\estimator\\estimator.py\", line 1219, in _train_model_default\n    File \"C:\\Users\\Osama\\AppData\\Roaming\\Python\\Python310\\site-packages\\tensorflow_estimator\\python\\estimator\\estimator.py\", line 1514, in _train_with_estimator_spec\nNode: 'save/SaveV2'\nFailed to create a NewWriteableFile: C:/Users/Osama/OneDrive/Desktop/Muffin-cupcake/Deeplearning\\model.ckpt-0_temp\\part-00000-of-00001.data-00000-of-00001.tempstate2789190310308240140 : The system cannot find the path specified.\r\n; No such process\n\t [[{{node save/SaveV2}}]]\n\nOriginal stack trace for 'save/SaveV2':\n  File \"C:\\Program Files\\Python310\\lib\\runpy.py\", line 196, in _run_module_as_main\n  File \"C:\\Program Files\\Python310\\lib\\runpy.py\", line 86, in _run_code\n  File \"C:\\Users\\Osama\\AppData\\Roaming\\Python\\Python310\\site-packages\\ipykernel_launcher.py\", line 18, in <module>\n  File \"C:\\Users\\Osama\\AppData\\Roaming\\Python\\Python310\\site-packages\\traitlets\\config\\application.py\", line 1075, in launch_instance\n  File \"C:\\Users\\Osama\\AppData\\Roaming\\Python\\Python310\\site-packages\\ipykernel\\kernelapp.py\", line 739, in start\n  File \"C:\\Users\\Osama\\AppData\\Roaming\\Python\\Python310\\site-packages\\tornado\\platform\\asyncio.py\", line 205, in start\n  File \"C:\\Program Files\\Python310\\lib\\asyncio\\base_events.py\", line 595, in run_forever\n  File \"C:\\Program Files\\Python310\\lib\\asyncio\\base_events.py\", line 1881, in _run_once\n  File \"C:\\Program Files\\Python310\\lib\\asyncio\\events.py\", line 80, in _run\n  File \"C:\\Users\\Osama\\AppData\\Roaming\\Python\\Python310\\site-packages\\ipykernel\\kernelbase.py\", line 545, in dispatch_queue\n  File \"C:\\Users\\Osama\\AppData\\Roaming\\Python\\Python310\\site-packages\\ipykernel\\kernelbase.py\", line 534, in process_one\n  File \"C:\\Users\\Osama\\AppData\\Roaming\\Python\\Python310\\site-packages\\ipykernel\\kernelbase.py\", line 437, in dispatch_shell\n  File \"C:\\Users\\Osama\\AppData\\Roaming\\Python\\Python310\\site-packages\\ipykernel\\ipkernel.py\", line 362, in execute_request\n  File \"C:\\Users\\Osama\\AppData\\Roaming\\Python\\Python310\\site-packages\\ipykernel\\kernelbase.py\", line 778, in execute_request\n  File \"C:\\Users\\Osama\\AppData\\Roaming\\Python\\Python310\\site-packages\\ipykernel\\ipkernel.py\", line 449, in do_execute\n  File \"C:\\Users\\Osama\\AppData\\Roaming\\Python\\Python310\\site-packages\\ipykernel\\zmqshell.py\", line 549, in run_cell\n  File \"C:\\Users\\Osama\\AppData\\Roaming\\Python\\Python310\\site-packages\\IPython\\core\\interactiveshell.py\", line 3075, in run_cell\n  File \"C:\\Users\\Osama\\AppData\\Roaming\\Python\\Python310\\site-packages\\IPython\\core\\interactiveshell.py\", line 3130, in _run_cell\n  File \"C:\\Users\\Osama\\AppData\\Roaming\\Python\\Python310\\site-packages\\IPython\\core\\async_helpers.py\", line 128, in _pseudo_sync_runner\n  File \"C:\\Users\\Osama\\AppData\\Roaming\\Python\\Python310\\site-packages\\IPython\\core\\interactiveshell.py\", line 3334, in run_cell_async\n  File \"C:\\Users\\Osama\\AppData\\Roaming\\Python\\Python310\\site-packages\\IPython\\core\\interactiveshell.py\", line 3517, in run_ast_nodes\n  File \"C:\\Users\\Osama\\AppData\\Roaming\\Python\\Python310\\site-packages\\IPython\\core\\interactiveshell.py\", line 3577, in run_code\n  File \"C:\\Users\\Osama\\AppData\\Local\\Temp\\ipykernel_27544\\220954500.py\", line 1, in <module>\n  File \"C:\\Users\\Osama\\AppData\\Roaming\\Python\\Python310\\site-packages\\tensorflow_estimator\\python\\estimator\\estimator.py\", line 360, in train\n  File \"C:\\Users\\Osama\\AppData\\Roaming\\Python\\Python310\\site-packages\\tensorflow_estimator\\python\\estimator\\estimator.py\", line 1188, in _train_model\n  File \"C:\\Users\\Osama\\AppData\\Roaming\\Python\\Python310\\site-packages\\tensorflow_estimator\\python\\estimator\\estimator.py\", line 1219, in _train_model_default\n  File \"C:\\Users\\Osama\\AppData\\Roaming\\Python\\Python310\\site-packages\\tensorflow_estimator\\python\\estimator\\estimator.py\", line 1514, in _train_with_estimator_spec\n  File \"C:\\Users\\Osama\\AppData\\Roaming\\Python\\Python310\\site-packages\\tensorflow\\python\\training\\monitored_session.py\", line 606, in MonitoredTrainingSession\n  File \"C:\\Users\\Osama\\AppData\\Roaming\\Python\\Python310\\site-packages\\tensorflow\\python\\training\\monitored_session.py\", line 1050, in __init__\n  File \"C:\\Users\\Osama\\AppData\\Roaming\\Python\\Python310\\site-packages\\tensorflow\\python\\training\\monitored_session.py\", line 753, in __init__\n  File \"C:\\Users\\Osama\\AppData\\Roaming\\Python\\Python310\\site-packages\\tensorflow\\python\\training\\monitored_session.py\", line 1259, in __init__\n  File \"C:\\Users\\Osama\\AppData\\Roaming\\Python\\Python310\\site-packages\\tensorflow\\python\\training\\monitored_session.py\", line 1264, in _create_session\n  File \"C:\\Users\\Osama\\AppData\\Roaming\\Python\\Python310\\site-packages\\tensorflow\\python\\training\\monitored_session.py\", line 906, in create_session\n  File \"C:\\Users\\Osama\\AppData\\Roaming\\Python\\Python310\\site-packages\\tensorflow\\python\\training\\monitored_session.py\", line 664, in create_session\n  File \"C:\\Users\\Osama\\AppData\\Roaming\\Python\\Python310\\site-packages\\tensorflow\\python\\training\\monitored_session.py\", line 237, in finalize\n  File \"C:\\Users\\Osama\\AppData\\Roaming\\Python\\Python310\\site-packages\\tensorflow\\python\\training\\saver.py\", line 946, in build\n  File \"C:\\Users\\Osama\\AppData\\Roaming\\Python\\Python310\\site-packages\\tensorflow\\python\\training\\saver.py\", line 974, in _build\n  File \"C:\\Users\\Osama\\AppData\\Roaming\\Python\\Python310\\site-packages\\tensorflow\\python\\training\\saver.py\", line 535, in _build_internal\n  File \"C:\\Users\\Osama\\AppData\\Roaming\\Python\\Python310\\site-packages\\tensorflow\\python\\training\\saver.py\", line 324, in _AddShardedSaveOps\n  File \"C:\\Users\\Osama\\AppData\\Roaming\\Python\\Python310\\site-packages\\tensorflow\\python\\training\\saver.py\", line 298, in _AddShardedSaveOpsForV2\n  File \"C:\\Users\\Osama\\AppData\\Roaming\\Python\\Python310\\site-packages\\tensorflow\\python\\training\\saver.py\", line 230, in _AddSaveOps\n  File \"C:\\Users\\Osama\\AppData\\Roaming\\Python\\Python310\\site-packages\\tensorflow\\python\\training\\saver.py\", line 145, in save_op\n  File \"C:\\Users\\Osama\\AppData\\Roaming\\Python\\Python310\\site-packages\\tensorflow\\python\\ops\\gen_io_ops.py\", line 1734, in save_v2\n  File \"C:\\Users\\Osama\\AppData\\Roaming\\Python\\Python310\\site-packages\\tensorflow\\python\\framework\\op_def_library.py\", line 796, in _apply_op_helper\n  File \"C:\\Users\\Osama\\AppData\\Roaming\\Python\\Python310\\site-packages\\tensorflow\\python\\framework\\ops.py\", line 2652, in _create_op_internal\n  File \"C:\\Users\\Osama\\AppData\\Roaming\\Python\\Python310\\site-packages\\tensorflow\\python\\framework\\ops.py\", line 1160, in from_node_def\n"
     ]
    }
   ],
   "source": [
    "model_1.train(input_fn=get_input_fn(train_data, num_epochs=None, n_batch=128, shuffle=False), steps=1000)"
   ]
  },
  {
   "cell_type": "code",
   "execution_count": 48,
   "id": "01288b80-f40f-4116-b02c-fdd427ca6097",
   "metadata": {},
   "outputs": [
    {
     "name": "stdout",
     "output_type": "stream",
     "text": [
      "INFO:tensorflow:Could not find trained model in model_dir: C:/Users/Osama/OneDrive/Desktop/Muffin-cupcake/Deeplearning, running initialization to evaluate.\n",
      "INFO:tensorflow:Calling model_fn.\n",
      "INFO:tensorflow:Done calling model_fn.\n",
      "INFO:tensorflow:Starting evaluation at 2025-05-05T00:47:02\n",
      "INFO:tensorflow:Graph was finalized.\n",
      "INFO:tensorflow:Running local_init_op.\n",
      "INFO:tensorflow:Done running local_init_op.\n",
      "INFO:tensorflow:Evaluation [100/1000]\n",
      "INFO:tensorflow:Evaluation [200/1000]\n",
      "INFO:tensorflow:Evaluation [300/1000]\n",
      "INFO:tensorflow:Evaluation [400/1000]\n",
      "INFO:tensorflow:Evaluation [500/1000]\n",
      "INFO:tensorflow:Evaluation [600/1000]\n",
      "INFO:tensorflow:Evaluation [700/1000]\n",
      "INFO:tensorflow:Evaluation [800/1000]\n",
      "INFO:tensorflow:Evaluation [900/1000]\n",
      "INFO:tensorflow:Evaluation [1000/1000]\n",
      "INFO:tensorflow:Inference Time : 2.83125s\n",
      "INFO:tensorflow:Finished evaluation at 2025-05-05-00:47:05\n",
      "INFO:tensorflow:Saving dict for global step 0: accuracy = 0.7594297, accuracy_baseline = 0.7594297, auc = 0.5, auc_precision_recall = 0.2405703, average_loss = 0.6931538, global_step = 0, label/mean = 0.2405703, loss = 0.6931538, precision = 0.0, prediction/mean = 0.5, recall = 0.0\n"
     ]
    },
    {
     "data": {
      "text/plain": [
       "{'accuracy': 0.7594297,\n",
       " 'accuracy_baseline': 0.7594297,\n",
       " 'auc': 0.5,\n",
       " 'auc_precision_recall': 0.2405703,\n",
       " 'average_loss': 0.6931538,\n",
       " 'label/mean': 0.2405703,\n",
       " 'loss': 0.6931538,\n",
       " 'precision': 0.0,\n",
       " 'prediction/mean': 0.5,\n",
       " 'recall': 0.0,\n",
       " 'global_step': 0}"
      ]
     },
     "execution_count": 48,
     "metadata": {},
     "output_type": "execute_result"
    }
   ],
   "source": [
    "model_1.evaluate(input_fn=get_input_fn(train_data, num_epochs=None, n_batch=128, shuffle=False), steps=1000)"
   ]
  },
  {
   "cell_type": "code",
   "execution_count": 54,
   "id": "52188a0e-b80b-4e16-8212-5cd79f61c26f",
   "metadata": {},
   "outputs": [
    {
     "name": "stdout",
     "output_type": "stream",
     "text": [
      "INFO:tensorflow:Could not find trained model in model_dir: C:/Users/Osama/OneDrive/Desktop/Muffin-cupcake/Deeplearning, running initialization to predict.\n",
      "INFO:tensorflow:Calling model_fn.\n",
      "INFO:tensorflow:Done calling model_fn.\n",
      "INFO:tensorflow:Graph was finalized.\n",
      "INFO:tensorflow:Running local_init_op.\n",
      "INFO:tensorflow:Done running local_init_op.\n"
     ]
    }
   ],
   "source": [
    "prediction_list = list(model_1.predict(input_fn=get_input_fn(df_test_new, num_epochs=100, n_batch=18, shuffle=False)))"
   ]
  },
  {
   "cell_type": "code",
   "execution_count": 55,
   "id": "9daccec3-5f0a-44e1-889a-9323f7116fe7",
   "metadata": {},
   "outputs": [
    {
     "name": "stdout",
     "output_type": "stream",
     "text": [
      "age                              25\n",
      "workclass                   Private\n",
      "fnlwgt                       226802\n",
      "education                      11th\n",
      "education_num                     7\n",
      "marital_status        Never-married\n",
      "occupation        Machine-op-inspct\n",
      "relationship              Own-child\n",
      "race                          Black\n",
      "sex                            Male\n",
      "capital_gain                      0\n",
      "capital_loss                      0\n",
      "hours_per_week                   40\n",
      "native_country        United-States\n",
      "income                            0\n",
      "new                             625\n",
      "Name: 0, dtype: object\n",
      "{'logits': array([0.], dtype=float32), 'logistic': array([0.5], dtype=float32), 'probabilities': array([0.5, 0.5], dtype=float32), 'class_ids': array([0], dtype=int64), 'classes': array([b'0'], dtype=object), 'all_class_ids': array([0, 1]), 'all_classes': array([b'0', b'1'], dtype=object)}\n"
     ]
    }
   ],
   "source": [
    "print(df_test_new.iloc[0])\n",
    "print(prediction_list[0])"
   ]
  },
  {
   "cell_type": "code",
   "execution_count": 56,
   "id": "ef8e1cd4-c5ce-41aa-b426-184da7119c04",
   "metadata": {},
   "outputs": [
    {
     "data": {
      "image/png": "[encoded data removed]",
      "text/plain": [
       "<Figure size 640x480 with 1 Axes>"
      ]
     },
     "metadata": {},
     "output_type": "display_data"
    }
   ],
   "source": [
    "import matplotlib.pyplot as plt\n",
    "\n",
    "# Probabilities from model output\n",
    "classes = ['Low Income (0)', 'High Income (1)']\n",
    "probabilities = [0.5, 0.5]\n",
    "\n",
    "plt.bar(classes, probabilities, color=['blue', 'orange'])\n",
    "plt.ylabel(\"Probability\")\n",
    "plt.title(\"Model Prediction Probabilities\")\n",
    "plt.ylim(0, 1)  # Probabilities range from 0 to 1\n",
    "plt.show()"
   ]
  },
  {
   "cell_type": "code",
   "execution_count": 57,
   "id": "ae8bcbae-d8a2-46d4-a674-7b6bb4b7ae3d",
   "metadata": {},
   "outputs": [
    {
     "name": "stdout",
     "output_type": "stream",
     "text": [
      "age                               65\n",
      "workclass                    Private\n",
      "fnlwgt                        184454\n",
      "education                    HS-grad\n",
      "education_num                      9\n",
      "marital_status    Married-civ-spouse\n",
      "occupation         Machine-op-inspct\n",
      "relationship                 Husband\n",
      "race                           White\n",
      "sex                             Male\n",
      "capital_gain                    6418\n",
      "capital_loss                       0\n",
      "hours_per_week                    40\n",
      "native_country         United-States\n",
      "income                             1\n",
      "new                             4225\n",
      "Name: 10, dtype: object\n",
      "{'logits': array([0.], dtype=float32), 'logistic': array([0.5], dtype=float32), 'probabilities': array([0.5, 0.5], dtype=float32), 'class_ids': array([0], dtype=int64), 'classes': array([b'0'], dtype=object), 'all_class_ids': array([0, 1]), 'all_classes': array([b'0', b'1'], dtype=object)}\n"
     ]
    }
   ],
   "source": [
    "print(df_test_new.iloc[10])\n",
    "print(prediction_list[10])"
   ]
  },
  {
   "cell_type": "code",
   "execution_count": 53,
   "id": "23d4290d-565f-4774-ba46-14e36f0f62c9",
   "metadata": {},
   "outputs": [
    {
     "name": "stdout",
     "output_type": "stream",
     "text": [
      "age                               44\n",
      "workclass                    Private\n",
      "fnlwgt                        160323\n",
      "education               Some-college\n",
      "education_num                     10\n",
      "marital_status    Married-civ-spouse\n",
      "occupation         Machine-op-inspct\n",
      "relationship                 Husband\n",
      "race                           Black\n",
      "sex                             Male\n",
      "capital_gain                    7688\n",
      "capital_loss                       0\n",
      "hours_per_week                    40\n",
      "native_country         United-States\n",
      "income                             1\n",
      "new                             1936\n",
      "Name: 3, dtype: object\n",
      "{'logits': array([0.], dtype=float32), 'logistic': array([0.5], dtype=float32), 'probabilities': array([0.5, 0.5], dtype=float32), 'class_ids': array([0], dtype=int64), 'classes': array([b'0'], dtype=object), 'all_class_ids': array([0, 1]), 'all_classes': array([b'0', b'1'], dtype=object)}\n"
     ]
    }
   ],
   "source": [
    "print(df_test_new.iloc[3])\n",
    "print(prediction_list[3])"
   ]
  },
  {
   "cell_type": "code",
   "execution_count": 59,
   "id": "83f43dd2-b8e4-4713-a004-00819981a9f3",
   "metadata": {},
   "outputs": [
    {
     "name": "stdout",
     "output_type": "stream",
     "text": [
      "Defaulting to user installation because normal site-packages is not writeable\n",
      "Collecting shap\n",
      "  Downloading shap-0.47.2-cp310-cp310-win_amd64.whl.metadata (25 kB)\n",
      "Requirement already satisfied: numpy in c:\\users\\osama\\appdata\\roaming\\python\\python310\\site-packages (from shap) (1.26.4)\n",
      "Requirement already satisfied: scipy in c:\\users\\osama\\appdata\\roaming\\python\\python310\\site-packages (from shap) (1.15.2)\n",
      "Requirement already satisfied: scikit-learn in c:\\users\\osama\\appdata\\roaming\\python\\python310\\site-packages (from shap) (1.6.1)\n",
      "Requirement already satisfied: pandas in c:\\users\\osama\\appdata\\roaming\\python\\python310\\site-packages (from shap) (2.2.3)\n",
      "Requirement already satisfied: tqdm>=4.27.0 in c:\\users\\osama\\appdata\\roaming\\python\\python310\\site-packages (from shap) (4.67.1)\n",
      "Requirement already satisfied: packaging>20.9 in c:\\users\\osama\\appdata\\roaming\\python\\python310\\site-packages (from shap) (24.2)\n",
      "Collecting slicer==0.0.8 (from shap)\n",
      "  Downloading slicer-0.0.8-py3-none-any.whl.metadata (4.0 kB)\n",
      "Collecting numba>=0.54 (from shap)\n",
      "  Downloading numba-0.61.2-cp310-cp310-win_amd64.whl.metadata (2.9 kB)\n",
      "Collecting cloudpickle (from shap)\n",
      "  Downloading cloudpickle-3.1.1-py3-none-any.whl.metadata (7.1 kB)\n",
      "Requirement already satisfied: typing-extensions in c:\\users\\osama\\appdata\\roaming\\python\\python310\\site-packages (from shap) (4.12.2)\n",
      "Collecting llvmlite<0.45,>=0.44.0dev0 (from numba>=0.54->shap)\n",
      "  Downloading llvmlite-0.44.0-cp310-cp310-win_amd64.whl.metadata (5.0 kB)\n",
      "Requirement already satisfied: colorama in c:\\users\\osama\\appdata\\roaming\\python\\python310\\site-packages (from tqdm>=4.27.0->shap) (0.4.6)\n",
      "Requirement already satisfied: python-dateutil>=2.8.2 in c:\\users\\osama\\appdata\\roaming\\python\\python310\\site-packages (from pandas->shap) (2.9.0.post0)\n",
      "Requirement already satisfied: pytz>=2020.1 in c:\\users\\osama\\appdata\\roaming\\python\\python310\\site-packages (from pandas->shap) (2024.2)\n",
      "Requirement already satisfied: tzdata>=2022.7 in c:\\users\\osama\\appdata\\roaming\\python\\python310\\site-packages (from pandas->shap) (2024.2)\n",
      "Requirement already satisfied: joblib>=1.2.0 in c:\\users\\osama\\appdata\\roaming\\python\\python310\\site-packages (from scikit-learn->shap) (1.4.2)\n",
      "Requirement already satisfied: threadpoolctl>=3.1.0 in c:\\users\\osama\\appdata\\roaming\\python\\python310\\site-packages (from scikit-learn->shap) (3.6.0)\n",
      "Requirement already satisfied: six>=1.5 in c:\\users\\osama\\appdata\\roaming\\python\\python310\\site-packages (from python-dateutil>=2.8.2->pandas->shap) (1.17.0)\n",
      "Downloading shap-0.47.2-cp310-cp310-win_amd64.whl (544 kB)\n",
      "   ---------------------------------------- 0.0/544.2 kB ? eta -:--:--\n",
      "   ---------------------------------------- 544.2/544.2 kB 3.0 MB/s eta 0:00:00\n",
      "Downloading slicer-0.0.8-py3-none-any.whl (15 kB)\n",
      "Downloading numba-0.61.2-cp310-cp310-win_amd64.whl (2.8 MB)\n",
      "   ---------------------------------------- 0.0/2.8 MB ? eta -:--:--\n",
      "   ----------- ---------------------------- 0.8/2.8 MB 3.7 MB/s eta 0:00:01\n",
      "   ---------------------- ----------------- 1.6/2.8 MB 3.8 MB/s eta 0:00:01\n",
      "   --------------------------------- ------ 2.4/2.8 MB 3.7 MB/s eta 0:00:01\n",
      "   ---------------------------------------- 2.8/2.8 MB 3.7 MB/s eta 0:00:00\n",
      "Downloading cloudpickle-3.1.1-py3-none-any.whl (20 kB)\n",
      "Downloading llvmlite-0.44.0-cp310-cp310-win_amd64.whl (30.3 MB)\n",
      "   ---------------------------------------- 0.0/30.3 MB ? eta -:--:--\n",
      "   - -------------------------------------- 0.8/30.3 MB 3.7 MB/s eta 0:00:08\n",
      "   -- ------------------------------------- 1.6/30.3 MB 3.8 MB/s eta 0:00:08\n",
      "   --- ------------------------------------ 2.4/30.3 MB 3.7 MB/s eta 0:00:08\n",
      "   --- ------------------------------------ 2.6/30.3 MB 3.4 MB/s eta 0:00:09\n",
      "   ---- ----------------------------------- 3.1/30.3 MB 3.1 MB/s eta 0:00:09\n",
      "   ----- ---------------------------------- 3.9/30.3 MB 3.2 MB/s eta 0:00:09\n",
      "   ------ --------------------------------- 4.7/30.3 MB 3.3 MB/s eta 0:00:08\n",
      "   ------- -------------------------------- 5.5/30.3 MB 3.4 MB/s eta 0:00:08\n",
      "   -------- ------------------------------- 6.3/30.3 MB 3.4 MB/s eta 0:00:08\n",
      "   --------- ------------------------------ 7.1/30.3 MB 3.4 MB/s eta 0:00:07\n",
      "   ---------- ----------------------------- 7.9/30.3 MB 3.4 MB/s eta 0:00:07\n",
      "   ----------- ---------------------------- 8.7/30.3 MB 3.5 MB/s eta 0:00:07\n",
      "   ------------ --------------------------- 9.4/30.3 MB 3.5 MB/s eta 0:00:07\n",
      "   ------------- -------------------------- 10.2/30.3 MB 3.5 MB/s eta 0:00:06\n",
      "   -------------- ------------------------- 11.0/30.3 MB 3.5 MB/s eta 0:00:06\n",
      "   -------------- ------------------------- 11.3/30.3 MB 3.4 MB/s eta 0:00:06\n",
      "   --------------- ------------------------ 12.1/30.3 MB 3.4 MB/s eta 0:00:06\n",
      "   ---------------- ----------------------- 12.8/30.3 MB 3.4 MB/s eta 0:00:06\n",
      "   ----------------- ---------------------- 13.6/30.3 MB 3.4 MB/s eta 0:00:05\n",
      "   ------------------- -------------------- 14.4/30.3 MB 3.4 MB/s eta 0:00:05\n",
      "   -------------------- ------------------- 15.2/30.3 MB 3.5 MB/s eta 0:00:05\n",
      "   --------------------- ------------------ 16.0/30.3 MB 3.5 MB/s eta 0:00:05\n",
      "   ---------------------- ----------------- 16.8/30.3 MB 3.5 MB/s eta 0:00:04\n",
      "   ----------------------- ---------------- 17.6/30.3 MB 3.5 MB/s eta 0:00:04\n",
      "   ------------------------ --------------- 18.4/30.3 MB 3.5 MB/s eta 0:00:04\n",
      "   ------------------------ --------------- 18.9/30.3 MB 3.5 MB/s eta 0:00:04\n",
      "   ------------------------- -------------- 19.4/30.3 MB 3.4 MB/s eta 0:00:04\n",
      "   -------------------------- ------------- 19.9/30.3 MB 3.4 MB/s eta 0:00:04\n",
      "   --------------------------- ------------ 20.7/30.3 MB 3.4 MB/s eta 0:00:03\n",
      "   ---------------------------- ----------- 21.5/30.3 MB 3.4 MB/s eta 0:00:03\n",
      "   ----------------------------- ---------- 22.3/30.3 MB 3.4 MB/s eta 0:00:03\n",
      "   ------------------------------ --------- 23.1/30.3 MB 3.4 MB/s eta 0:00:03\n",
      "   ------------------------------- -------- 23.9/30.3 MB 3.5 MB/s eta 0:00:02\n",
      "   -------------------------------- ------- 24.4/30.3 MB 3.5 MB/s eta 0:00:02\n",
      "   -------------------------------- ------- 24.4/30.3 MB 3.5 MB/s eta 0:00:02\n",
      "   --------------------------------- ------ 25.4/30.3 MB 3.4 MB/s eta 0:00:02\n",
      "   ---------------------------------- ----- 26.0/30.3 MB 3.4 MB/s eta 0:00:02\n",
      "   ----------------------------------- ---- 26.7/30.3 MB 3.4 MB/s eta 0:00:02\n",
      "   ------------------------------------ --- 27.5/30.3 MB 3.4 MB/s eta 0:00:01\n",
      "   ------------------------------------- -- 28.3/30.3 MB 3.4 MB/s eta 0:00:01\n",
      "   -------------------------------------- - 28.8/30.3 MB 3.4 MB/s eta 0:00:01\n",
      "   ---------------------------------------  29.6/30.3 MB 3.4 MB/s eta 0:00:01\n",
      "   ---------------------------------------  30.1/30.3 MB 3.4 MB/s eta 0:00:01\n",
      "   ---------------------------------------- 30.3/30.3 MB 3.3 MB/s eta 0:00:00\n",
      "Installing collected packages: slicer, llvmlite, cloudpickle, numba, shap\n",
      "Successfully installed cloudpickle-3.1.1 llvmlite-0.44.0 numba-0.61.2 shap-0.47.2 slicer-0.0.8\n"
     ]
    },
    {
     "name": "stderr",
     "output_type": "stream",
     "text": [
      "\n",
      "[notice] A new release of pip is available: 24.3.1 -> 25.1\n",
      "[notice] To update, run: python.exe -m pip install --upgrade pip\n"
     ]
    }
   ],
   "source": [
    "!pip install shap"
   ]
  },
  {
   "cell_type": "code",
   "execution_count": 63,
   "id": "3b14af05-44e7-43c7-882d-af4b1b203b00",
   "metadata": {},
   "outputs": [],
   "source": [
    "from sklearn.preprocessing import LabelEncoder\n",
    "\n",
    "categorical_cols = ['workclass', 'education', 'marital_status', 'occupation', \n",
    "                    'relationship', 'race', 'sex', 'native_country']\n",
    "label_encoders = {}\n",
    "\n",
    "for col in categorical_cols:\n",
    "    label_encoders[col] = LabelEncoder()\n",
    "    df_train_new[col] = label_encoders[col].fit_transform(df_train_new[col])"
   ]
  },
  {
   "cell_type": "code",
   "execution_count": 64,
   "id": "f419c04b-187b-48a4-bf3b-64251c266fb5",
   "metadata": {},
   "outputs": [
    {
     "name": "stdout",
     "output_type": "stream",
     "text": [
      "age               0\n",
      "workclass         0\n",
      "fnlwgt            0\n",
      "education         0\n",
      "education_num     0\n",
      "marital_status    0\n",
      "occupation        0\n",
      "relationship      0\n",
      "race              0\n",
      "sex               0\n",
      "capital_gain      0\n",
      "capital_loss      0\n",
      "hours_per_week    0\n",
      "native_country    0\n",
      "income            0\n",
      "new               0\n",
      "dtype: int64\n"
     ]
    }
   ],
   "source": [
    "print(df_train_new.isnull().sum())"
   ]
  },
  {
   "cell_type": "code",
   "execution_count": 65,
   "id": "cdcb25d8-5b16-4fef-83cc-68208624357e",
   "metadata": {},
   "outputs": [],
   "source": [
    "df_train_new = df_train_new.astype(float)"
   ]
  },
  {
   "cell_type": "code",
   "execution_count": 69,
   "id": "41428c39-9641-4756-a75b-3cb30abadd8e",
   "metadata": {},
   "outputs": [
    {
     "name": "stdout",
     "output_type": "stream",
     "text": [
      "dict_keys(['__name__', '__doc__', '__package__', '__loader__', '__spec__', '__builtin__', '__builtins__', '_ih', '_oh', '_dh', 'In', 'Out', 'get_ipython', 'exit', 'quit', 'open', '_', '__', '___', '__session__', '_i', '_ii', '_iii', '_i1', '_i2', 'tf', 'pd', '_i3', 'PATH', 'PATH_test', '_i4', 'COLUMNS', '_i5', 'train_data', 'test_data', '_i6', '_i7', '_i8', 'label', 'label_t', '_i9', '_i10', '_i11', 'CONTI_FEATURES', 'CATE_FEATURES', '_i12', 'continous_features', '_i13', 'relationship', '_i14', 'categorical_features', '_i15', '_exit_code', '_i16', '_i17', 'model', '_i18', 'FEATURES', 'LABEL', 'get_input_fn', '_i19', '_i20', '_i21', '_i22', '_i23', '_i24', '_i25', 'feature', '_i26', '_i27', 'os', '_i28', '_i29', '_i30', '_i31', '_i32', '_32', '_i33', 'square_var', '_i34', '_i35', 'df_train_new', 'df_test_new', '_i36', '_i37', 'CONTI_FEATURES_NEW', 'continuous_features_new', '_i38', 'model_1', '_i39', 'FEATURES_NEW', '_i40', '_i41', '_i42', '_i43', '_i44', 'model_dir', '_i45', '_i46', '_i47', '_i48', '_48', '_i49', 'prediction_list', '_i50', '_i51', 'plt', 'classes', 'probabilities', '_i52', '_i53', '_i54', '_i55', '_i56', '_i57', '_i58', '_i59', '_i60', 'shap', 'explainer', '_i61', '_i62', '_i63', 'LabelEncoder', 'categorical_cols', 'label_encoders', 'col', '_i64', '_i65', '_i66', '_i67', '_i68', '_i69'])\n"
     ]
    }
   ],
   "source": [
    "print(globals().keys())  # Lists all defined variables"
   ]
  },
  {
   "cell_type": "code",
   "execution_count": 73,
   "id": "3b6c8fb0-1ada-4e4f-9a94-b6a8628994bf",
   "metadata": {},
   "outputs": [
    {
     "name": "stdout",
     "output_type": "stream",
     "text": [
      "['.ipynb_checkpoints', 'Deeplearning.ipynb', 'eval', 'events.out.tfevents.1746386039.V', 'graph.pbtxt', 'ongoing', 'Tensorflow.ipynb']\n"
     ]
    }
   ],
   "source": [
    "import os\n",
    "print(os.listdir(\"C:/Users/Osama/OneDrive/Desktop/Muffin-cupcake/Deeplearning\"))"
   ]
  },
  {
   "cell_type": "code",
   "execution_count": 75,
   "id": "6f4ab8a9-fe1e-44bc-b39c-c3a666cece39",
   "metadata": {},
   "outputs": [],
   "source": [
    "df_train_new['education'] = df_train_new['education'].astype('category').cat.codes\n",
    "df_test_new['education'] = df_test_new['education'].astype('category').cat.codes"
   ]
  },
  {
   "cell_type": "code",
   "execution_count": 76,
   "id": "0f42d145-93d4-4c0c-a915-70a2c525d245",
   "metadata": {},
   "outputs": [],
   "source": [
    "education_column = tf.feature_column.categorical_column_with_vocabulary_list(\n",
    "    'education', vocabulary_list=df_train_new['education'].unique().tolist()\n",
    ")"
   ]
  },
  {
   "cell_type": "code",
   "execution_count": 77,
   "id": "99407936-d449-42eb-a713-8eaa8d00768b",
   "metadata": {},
   "outputs": [
    {
     "name": "stdout",
     "output_type": "stream",
     "text": [
      "age               float64\n",
      "workclass         float64\n",
      "fnlwgt            float64\n",
      "education            int8\n",
      "education_num     float64\n",
      "marital_status    float64\n",
      "occupation        float64\n",
      "relationship      float64\n",
      "race              float64\n",
      "sex               float64\n",
      "capital_gain      float64\n",
      "capital_loss      float64\n",
      "hours_per_week    float64\n",
      "native_country    float64\n",
      "income            float64\n",
      "new               float64\n",
      "dtype: object\n"
     ]
    }
   ],
   "source": [
    "print(df_train_new.dtypes)"
   ]
  },
  {
   "cell_type": "code",
   "execution_count": 78,
   "id": "b65f355e-6cd0-408e-a33b-b60cf82fb381",
   "metadata": {
    "scrolled": true
   },
   "outputs": [
    {
     "name": "stdout",
     "output_type": "stream",
     "text": [
      "   age  workclass  fnlwgt  education  education_num  marital_status  \\\n",
      "0   39          7   77516          9             13               4   \n",
      "1   50          6   83311          9             13               2   \n",
      "2   38          4  215646         11              9               0   \n",
      "3   53          4  234721          1              7               2   \n",
      "4   28          4  338409          9             13               2   \n",
      "\n",
      "   occupation  relationship  race  sex  capital_gain  capital_loss  \\\n",
      "0           1             1     4    1          2174             0   \n",
      "1           4             0     4    1             0             0   \n",
      "2           6             1     4    1             0             0   \n",
      "3           6             0     2    1             0             0   \n",
      "4          10             5     2    0             0             0   \n",
      "\n",
      "   hours_per_week  native_country  income   new  \n",
      "0              40              39       0  1521  \n",
      "1              13              39       0  2500  \n",
      "2              40              39       0  1444  \n",
      "3              40              39       0  2809  \n",
      "4              40               5       0   784  \n"
     ]
    }
   ],
   "source": [
    "print(train_data.head())  # Check if numerical encoding is working properly"
   ]
  },
  {
   "cell_type": "code",
   "execution_count": 80,
   "id": "b041dfc4-cc28-44f5-acd7-a730b92124bc",
   "metadata": {},
   "outputs": [
    {
     "name": "stdout",
     "output_type": "stream",
     "text": [
      "age               0\n",
      "workclass         0\n",
      "fnlwgt            0\n",
      "education         0\n",
      "education_num     0\n",
      "marital_status    0\n",
      "occupation        0\n",
      "relationship      0\n",
      "race              0\n",
      "sex               0\n",
      "capital_gain      0\n",
      "capital_loss      0\n",
      "hours_per_week    0\n",
      "native_country    0\n",
      "income            0\n",
      "new               0\n",
      "dtype: int64\n"
     ]
    }
   ],
   "source": [
    "print(df_train_new.isnull().sum())  # Ensure no missing values"
   ]
  },
  {
   "cell_type": "code",
   "execution_count": 81,
   "id": "05ecf65c-c45d-4936-a78b-1fc02035269a",
   "metadata": {},
   "outputs": [],
   "source": [
    "education_column = tf.feature_column.categorical_column_with_vocabulary_list(\n",
    "    'education', vocabulary_list=df_train_new['education'].unique().tolist()\n",
    ")"
   ]
  },
  {
   "cell_type": "code",
   "execution_count": 82,
   "id": "2eebd0ba-0cfd-4a2a-914f-d60921927042",
   "metadata": {},
   "outputs": [
    {
     "name": "stdout",
     "output_type": "stream",
     "text": [
      "age               float64\n",
      "workclass         float64\n",
      "fnlwgt            float64\n",
      "education            int8\n",
      "education_num     float64\n",
      "marital_status    float64\n",
      "occupation        float64\n",
      "relationship      float64\n",
      "race              float64\n",
      "sex               float64\n",
      "capital_gain      float64\n",
      "capital_loss      float64\n",
      "hours_per_week    float64\n",
      "native_country    float64\n",
      "income            float64\n",
      "new               float64\n",
      "dtype: object\n"
     ]
    }
   ],
   "source": [
    "print(df_train_new.dtypes)"
   ]
  },
  {
   "cell_type": "code",
   "execution_count": 83,
   "id": "5f67c2a0-90c0-4a8c-9778-acd94fdad621",
   "metadata": {},
   "outputs": [],
   "source": [
    "df_train_new.fillna(df_train_new.mean(), inplace=True)"
   ]
  },
  {
   "cell_type": "code",
   "execution_count": 84,
   "id": "3c383a8e-5460-495b-8770-7f9952dfe970",
   "metadata": {},
   "outputs": [],
   "source": [
    "from sklearn.preprocessing import MinMaxScaler\n",
    "\n",
    "scaler = MinMaxScaler()\n",
    "df_train_new[['fnlwgt', 'capital_gain', 'capital_loss', 'new']] = scaler.fit_transform(df_train_new[['fnlwgt', 'capital_gain', 'capital_loss', 'new']])"
   ]
  },
  {
   "cell_type": "code",
   "execution_count": 85,
   "id": "364cc0ef-9007-4c38-8eb1-9ecf6786324b",
   "metadata": {},
   "outputs": [
    {
     "name": "stdout",
     "output_type": "stream",
     "text": [
      "[NumericColumn(key='age', shape=(1,), default_value=None, dtype=tf.float32, normalizer_fn=None), NumericColumn(key='workclass', shape=(1,), default_value=None, dtype=tf.float32, normalizer_fn=None), NumericColumn(key='fnlwgt', shape=(1,), default_value=None, dtype=tf.float32, normalizer_fn=None), NumericColumn(key='education', shape=(1,), default_value=None, dtype=tf.float32, normalizer_fn=None), NumericColumn(key='education_num', shape=(1,), default_value=None, dtype=tf.float32, normalizer_fn=None), NumericColumn(key='marital_status', shape=(1,), default_value=None, dtype=tf.float32, normalizer_fn=None), NumericColumn(key='occupation', shape=(1,), default_value=None, dtype=tf.float32, normalizer_fn=None), NumericColumn(key='relationship', shape=(1,), default_value=None, dtype=tf.float32, normalizer_fn=None), NumericColumn(key='race', shape=(1,), default_value=None, dtype=tf.float32, normalizer_fn=None), NumericColumn(key='sex', shape=(1,), default_value=None, dtype=tf.float32, normalizer_fn=None), NumericColumn(key='capital_gain', shape=(1,), default_value=None, dtype=tf.float32, normalizer_fn=None), NumericColumn(key='capital_loss', shape=(1,), default_value=None, dtype=tf.float32, normalizer_fn=None), NumericColumn(key='hours_per_week', shape=(1,), default_value=None, dtype=tf.float32, normalizer_fn=None), NumericColumn(key='native_country', shape=(1,), default_value=None, dtype=tf.float32, normalizer_fn=None), NumericColumn(key='income', shape=(1,), default_value=None, dtype=tf.float32, normalizer_fn=None), NumericColumn(key='new', shape=(1,), default_value=None, dtype=tf.float32, normalizer_fn=None)]\n"
     ]
    }
   ],
   "source": [
    "feature_columns = [tf.feature_column.numeric_column(k) for k in df_train_new.columns]\n",
    "print(feature_columns)  # Verify feature column structure"
   ]
  },
  {
   "cell_type": "code",
   "execution_count": 118,
   "id": "c490eaca-c0f5-49e1-97e3-e8bf1c38d156",
   "metadata": {},
   "outputs": [],
   "source": [
    "from sklearn.preprocessing import LabelEncoder\n",
    "\n",
    "categorical_cols = ['workclass', 'education', 'marital_status', 'occupation', 'relationship', 'race', 'sex', 'native_country']\n",
    "label_encoders = {}\n",
    "\n",
    "for col in categorical_cols:\n",
    "    label_encoders[col] = LabelEncoder()\n",
    "    df_train_new[col] = label_encoders[col].fit_transform(df_train_new[col])"
   ]
  },
  {
   "cell_type": "code",
   "execution_count": 123,
   "id": "f3ed883a-4038-4ea2-92c8-e91cf06a499e",
   "metadata": {},
   "outputs": [],
   "source": [
    "from sklearn.preprocessing import MinMaxScaler\n",
    "\n",
    "scaler = MinMaxScaler()\n",
    "df_train_new[['fnlwgt', 'capital_gain', 'capital_loss', 'hours_per_week']] = scaler.fit_transform(df_train_new[['fnlwgt', 'capital_gain', 'capital_loss', 'hours_per_week']])"
   ]
  },
  {
   "cell_type": "code",
   "execution_count": 124,
   "id": "e5f6b5fe-7381-4de8-bdc1-f6b2cc807082",
   "metadata": {},
   "outputs": [
    {
     "name": "stdout",
     "output_type": "stream",
     "text": [
      "[NumericColumn(key='age', shape=(1,), default_value=None, dtype=tf.float32, normalizer_fn=None), NumericColumn(key='workclass', shape=(1,), default_value=None, dtype=tf.float32, normalizer_fn=None), NumericColumn(key='fnlwgt', shape=(1,), default_value=None, dtype=tf.float32, normalizer_fn=None), NumericColumn(key='education', shape=(1,), default_value=None, dtype=tf.float32, normalizer_fn=None), NumericColumn(key='education_num', shape=(1,), default_value=None, dtype=tf.float32, normalizer_fn=None), NumericColumn(key='marital_status', shape=(1,), default_value=None, dtype=tf.float32, normalizer_fn=None), NumericColumn(key='occupation', shape=(1,), default_value=None, dtype=tf.float32, normalizer_fn=None), NumericColumn(key='relationship', shape=(1,), default_value=None, dtype=tf.float32, normalizer_fn=None), NumericColumn(key='race', shape=(1,), default_value=None, dtype=tf.float32, normalizer_fn=None), NumericColumn(key='sex', shape=(1,), default_value=None, dtype=tf.float32, normalizer_fn=None), NumericColumn(key='capital_gain', shape=(1,), default_value=None, dtype=tf.float32, normalizer_fn=None), NumericColumn(key='capital_loss', shape=(1,), default_value=None, dtype=tf.float32, normalizer_fn=None), NumericColumn(key='hours_per_week', shape=(1,), default_value=None, dtype=tf.float32, normalizer_fn=None), NumericColumn(key='native_country', shape=(1,), default_value=None, dtype=tf.float32, normalizer_fn=None), NumericColumn(key='income', shape=(1,), default_value=None, dtype=tf.float32, normalizer_fn=None), NumericColumn(key='new', shape=(1,), default_value=None, dtype=tf.float32, normalizer_fn=None)]\n"
     ]
    }
   ],
   "source": [
    "feature_columns = [tf.feature_column.numeric_column(k, dtype=tf.float32) for k in df_train_new.columns]\n",
    "print(feature_columns)"
   ]
  },
  {
   "cell_type": "code",
   "execution_count": 130,
   "id": "6f437910-6315-4cba-b22b-0b5b65a505af",
   "metadata": {},
   "outputs": [],
   "source": [
    "df_train_new = df_train_new.apply(pd.to_numeric, errors='coerce')\n",
    "df_train_new.fillna(-1, inplace=True)  # Replace missing values with -1 or another default value"
   ]
  },
  {
   "cell_type": "code",
   "execution_count": 131,
   "id": "63bb8c9d-f78d-4ebe-85a0-dc4f69612285",
   "metadata": {},
   "outputs": [
    {
     "name": "stdout",
     "output_type": "stream",
     "text": [
      "age               float64\n",
      "workclass           int64\n",
      "fnlwgt            float64\n",
      "education           int32\n",
      "education_num     float64\n",
      "marital_status      int64\n",
      "occupation          int64\n",
      "relationship        int64\n",
      "race                int64\n",
      "sex                 int64\n",
      "capital_gain      float64\n",
      "capital_loss      float64\n",
      "hours_per_week    float64\n",
      "native_country      int64\n",
      "income            float64\n",
      "new               float64\n",
      "dtype: object\n"
     ]
    }
   ],
   "source": [
    "print(df_train_new.dtypes)"
   ]
  }
 ],
 "metadata": {
  "kernelspec": {
   "display_name": "Python 3 (ipykernel)",
   "language": "python",
   "name": "python3"
  },
  "language_info": {
   "codemirror_mode": {
    "name": "ipython",
    "version": 3
   },
   "file_extension": ".py",
   "mimetype": "text/x-python",
   "name": "python",
   "nbconvert_exporter": "python",
   "pygments_lexer": "ipython3",
   "version": "3.10.0"
  }
 },
 "nbformat": 4,
 "nbformat_minor": 5
}
